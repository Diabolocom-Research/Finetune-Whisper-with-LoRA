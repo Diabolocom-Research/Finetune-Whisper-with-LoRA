{
 "cells": [
  {
   "cell_type": "markdown",
   "id": "3635a131",
   "metadata": {},
   "source": [
    "# Tutorial: Fine-Tuning Whisper for French Québecois Telephone Conversations\n",
    "\n",
    "Before we dive into the hands-on steps, it’s helpful to understand **what** Whisper is and **why** you might need to adapt it for your own audio data.\n",
    "\n",
    "## What is Whisper?\n",
    "\n",
    "Whisper is a widely used open-source Automatic Speech Recognition (ASR) model but despite its wide adoption, the technical details of the model are less well known to some, which limits the contributions and innovations. For a deeper technical overview, see our Diabolocom blog post: [URL]\n",
    "\n",
    "## Why fine-tune Whisper?\n",
    "\n",
    "ASR systems like OpenAI’s Whisper deliver impressive out-of-the-box transcriptions by leveraging a vast, multilingual training dataset of audio and transcripts, see **Figure 1**, it still reflects the distribution of that original dataset.\n",
    "\n",
    "However, when your use case involves specialized vocabulary or languages that were underrepresented during pretraining, fine-tuning can make a significant difference. In particular, if your data diverges from Whisper’s original training set, whether in domain, audio characteristics, or speaker demographics, adapting the model to your specific dataset could yields notable reductions in Word Error Rate (WER)."
   ]
  },
  {
   "cell_type": "markdown",
   "id": "93564671",
   "metadata": {},
   "source": [
    "<img src=\"images/training_dataset.png\" width=\"1000\" />\n",
    "\n",
    "_**Figure 1:** Whisper training dataset from **(Radford et al, 2022)**_\n",
    "\n",
    "To illustrate Whisper’s existing breadth, here are the 57 languages for which it achieves a WER below 50% (an industry-standard threshold for “usable” transcripts):\n",
    "\n",
    "> Afrikaans, Arabic, Armenian, Azerbaijani, Belarusian, Bosnian, Bulgarian, Catalan, Chinese, Croatian, Czech, Danish, Dutch, English, Estonian, Finnish, French, Galician, German, Greek, Hebrew, Hindi, Hungarian, Icelandic, Indonesian, Italian, Japanese, Kannada, Kazakh, Korean, Latvian, Lithuanian, Macedonian, Malay, Marathi, Māori, Nepali, Norwegian, Persian, Polish, Portuguese, Romanian, Russian, Serbian, Slovak, Slovenian, Spanish, Swahili, Swedish, Tagalog, Tamil, Thai, Turkish, Ukrainian, Urdu, Vietnamese, and Welsh.\n",
    "\n",
    "\n",
    "Despite being pretrained on 98 languages, Whisper’s accuracy drops markedly on the 41 less-represented ones, highlighting the need for targeted fine-tuning for under-resourced dialects.\n",
    "We now describe the procedure for adapting Whisper to Québecois telephone speech."
   ]
  },
  {
   "cell_type": "markdown",
   "id": "0b8f65fa",
   "metadata": {},
   "source": [
    "----------\n",
    "\n",
    "## Tutorial Overview\n",
    "\n",
    "We fine-tune the Whisper **medium** model on a French Québécois telephone speech dataset (`Maheshwari et al., 2024`). To keep GPU requirements low and limit trainable parameters, we integrate Low-Rank Adaptation (LoRA) (`Hu et al., 2021`) and use FlashAttention 2 (`Dao et al., 2023`) for faster training. Although this tutorial focuses on the medium model, the same approach applies to other sizes.\n",
    "\n",
    "The following steps are covered:\n",
    "\n",
    "1. **Dataset preparation**\n",
    "\n",
    "2. **LoRA adapter integration**\n",
    "\n",
    "3. **Training with FlashAttention 2**\n",
    "\n",
    "4. **Evaluation** via Word Error Rate (WER)  \n",
    "\n",
    "5. **Deployment** with a Gradio demo\n",
    "\n",
    "The full notebook and environment setup instructions are available on GitHub:  \n",
    "https://github.com/Diabolocom-Research/Blogs  \n"
   ]
  },
  {
   "cell_type": "markdown",
   "id": "91e932fd",
   "metadata": {},
   "source": [
    "### Initialization & Authentication\n",
    "\n",
    "Set your model identifiers and language parameters. Then authenticate with Hugging Face so you can download models and optionally push your adapter checkpoint."
   ]
  },
  {
   "cell_type": "code",
   "execution_count": 1,
   "id": "a673b09c",
   "metadata": {},
   "outputs": [],
   "source": [
    "model_name_or_path = \"openai/whisper-medium\"\n",
    "language = \"French\"\n",
    "language_abbr = \"fr\"\n",
    "task = \"transcribe\""
   ]
  },
  {
   "cell_type": "markdown",
   "id": "304a3f02",
   "metadata": {},
   "source": [
    "Your Hugging Face token can be found in [Hugging Face Hub.](https://huggingface.co/settings/tokens)"
   ]
  },
  {
   "cell_type": "code",
   "execution_count": 2,
   "id": "5730cdf2",
   "metadata": {},
   "outputs": [
    {
     "data": {
      "application/vnd.jupyter.widget-view+json": {
       "model_id": "870ce510ca084831b97e8d37d423875c",
       "version_major": 2,
       "version_minor": 0
      },
      "text/plain": [
       "VBox(children=(HTML(value='<center> <img\\nsrc=https://huggingface.co/front/assets/huggingface_logo-noborder.sv…"
      ]
     },
     "metadata": {},
     "output_type": "display_data"
    }
   ],
   "source": [
    "import os\n",
    "from huggingface_hub import login\n",
    "\n",
    "login()"
   ]
  },
  {
   "cell_type": "markdown",
   "id": "90bada0b",
   "metadata": {},
   "source": [
    "### Data Loading\n",
    "\n",
    "We retrieve the French Québecois telephone speech-to-text dataset (`diabolocom/talkbank_4_stt`) from the Hugging Face Hub. This dataset is organized into language-specific subsets with “segment” and “switch” splits; here, we select the Québecois “segment” split and resample all audio to 16 kHz.\n"
   ]
  },
  {
   "cell_type": "code",
   "execution_count": 3,
   "id": "8aaed86b",
   "metadata": {},
   "outputs": [
    {
     "data": {
      "text/plain": [
       "Dataset({\n",
       "    features: ['audio', 'transcript', 'language_code', 'subset', 'full_language', 'switch_id', 'segment_id', 'transcript_filename', 'audio_len_sec', 'orig_file_start', 'orig_file_end', 'channel', 'speaker_id'],\n",
       "    num_rows: 14796\n",
       "})"
      ]
     },
     "execution_count": 3,
     "metadata": {},
     "output_type": "execute_result"
    }
   ],
   "source": [
    "from datasets import load_dataset, DatasetDict, Audio\n",
    "\n",
    "talkbank = load_dataset(\"diabolocom/talkbank_4_stt\", \"fr\", split=\"segment[:100%]\")\n",
    "talkbank = talkbank.cast_column(\"audio\", Audio(sampling_rate=16000))\n",
    "\n",
    "talkbank"
   ]
  },
  {
   "cell_type": "markdown",
   "id": "5b8cba79",
   "metadata": {},
   "source": [
    "### Explore the dataset\n",
    "\n",
    "Let’s listen to a sample, inspect its duration and metadata, and plot the distribution of audio lengths in train vs. test."
   ]
  },
  {
   "cell_type": "code",
   "execution_count": 4,
   "id": "9d7a9c03",
   "metadata": {},
   "outputs": [],
   "source": [
    "def format_seconds(seconds_input):\n",
    "    \"\"\"\n",
    "    Turn a number of seconds (possibly fractional) into a compact string,\n",
    "    omitting zero-value day/hour/minute units, and always showing seconds (with\n",
    "    up to millisecond precision, dropping trailing zeros).\n",
    "    \"\"\"\n",
    "    remaining = float(seconds_input)\n",
    "    parts = []\n",
    "    for label, unit_secs in ((\"d\", 86400), (\"h\", 3600), (\"m\", 60)):\n",
    "        qty, remaining = divmod(remaining, unit_secs)\n",
    "        if qty >= 1:\n",
    "            parts.append(f\"{int(qty)}{label}\")\n",
    "    parts.append(f\"{remaining:.3f}s\")\n",
    "    \n",
    "    return \" \".join(parts)"
   ]
  },
  {
   "cell_type": "markdown",
   "id": "7bccbdcc",
   "metadata": {},
   "source": [
    "You can listen to other examples by changing the `sample_id` variable to any valid index in the dataset:"
   ]
  },
  {
   "cell_type": "code",
   "execution_count": 5,
   "id": "144efe8a",
   "metadata": {},
   "outputs": [
    {
     "data": {
      "text/html": [
       "\n",
       "                <audio  controls=\"controls\" >\n",
       "                    <source src=\"data:audio/wav;base64,UklGRppMAQBXQVZFZm10IBAAAAABAAEAgD4AAAB9AAACABAAZGF0YXZMAQCxAK4AqQCfAI4AoQCxAK4AdABNADgAKQACANz/3v/7/wEA2v+0/6X/rf+p/5L/c/9c/1L/V/9u/3v/df9c/07/Tv9N/zL/A//d/s/+3/7y/vz+9P7n/t7+6P4D/x7/Lv8o/x7/If87/1f/Yv9W/03/Yf+I/6z/uv/B/9j/CAA4AEUAPAA6AEwAYwBpAFsAVQBjAIEAngCwALUAswCxALUAvADBAMQAzQDgAPMA9gDoANwA4ADkANEApgCLAJcAtQC1AIsAXABPAGEAagBWAC4ABwDp/9D/uP+j/5X/kf+W/5f/h/9l/0j/O/88/zr/NP80/zb/Nf8z/zX/OP8x/xr/Af/5/vz+/v79/gH/Cv8O/wf/+/74/gD/B/8H/wb/Df8f/zL/QP9M/1//ef+S/6n/xf/p/wIACgATADYAbwCXAJsAlAClAMYA1QDIAMYA6gAZASUBCgH1AAcBMgFRAVoBXQFhAV8BTwE9ATYBOAE5ATkBNwEpAQYB1ACvAKUApQCRAGkAPQAZAPb/yv+n/5z/n/+U/3H/Tf87/zr/Ov8z/yb/Fv8L/wv/Ef8L//D+2P7c/vP+9/7Y/rL+pf6z/sj+1P7X/tP+0P7d/gD/KP8//0n/Wv93/5T/sP/b/w4AMAA0ADgAVQB9AI4AiwCUAKwAsQCXAIIAkwC3AMIAsACnAL4A5QAAAQQB9wDjANUA2gDoAOkA1wDKANIA2gDCAI0AXQBJAEIALgALAOz/4P/j/+j/3//G/63/p/+3/8f/vP+O/1v/Q/9K/07/Kf/q/sf+4P4S/x7///7u/g3/Nv80/xX/D/8z/1P/S/8w/yn/Ov9N/1z/av9v/2H/UP9d/4b/q/+z/6z/qf+u/7n/1f8BACgANQA0AEUAcQCeALQAtAC2ANAAAQEsASoB9QC2AKAAsAC1AJYAbgBjAHQAgwCFAIAAdQBoAG4AjACfAHwANgASACwASQAvAPr/7/8aAEAANAAMAPP/6v/k/+D/6P/t/9P/of93/2b/X/9R/z3/MP8r/yn/LP8y/zb/NP8v/yv/KP8p/zH/Nv8i//P+xf66/s7+5P7u/vf+Av8H/wb/Df8j/zP/Mv81/1b/g/+Z/5r/rv/j/xEAFQAGABYATQB8AIEAdQB9AJUAoQCiALgA6wAZASABEwEfAVEBfwGFAXQBfAGvAesBAwLvAcQBlQFrAUYBLAEaAQMB2wChAF8AJgAAAPH/5f/E/4D/LP/v/t/+8f7//uP+m/5I/hT+FP4u/jr+KP4N/gT+CP4H/vz9Av4t/mz+lf6Z/pz+x/4Z/2f/lf+u/9H/AQAwAFYAhgDKAAYBHAEWARwBRgF8AZUBhQFoAVkBXAFeAVABNAEYAQgBBQEOAR4BKgEfAfcAwACSAHoAcABlAFIAOAAZAP3/7//y//T/4v/C/7P/vv/M/8H/oP+B/3X/cf9k/03/Mv8c/wv//f70/vP++P73/uH+t/6V/pf+tP7K/sT+s/6v/rX+tf6v/rn+3v4P/zb/S/9S/1H/U/9l/4z/uP/Q/9D/yf/P/+n/DwA5AF8AfQCTAKEArAC8AN0ABgEhAR8BFgEmAUkBUgEvAQ8BJwFqAZEBdQFAATABSQFZAUIBHAEEAfIAzACVAG0AZwBzAHEAUwAkAPj/2P/C/7H/nf+M/4L/e/9t/1T/Pf8w/yb/FP8A//r+Av8G//n+5/7g/uH+4P7g/un++P79/vj+//4e/z3/PP8g/xD/Kf9k/6L/zv/i/+L/1P/L/9z/DQBMAHgAfgBrAGcAiAC5AM4AvgCsAL4A6gACAfUA3gDeAO4A9wDwAOUA1gC7AJoAjgCjAMAAvgCOAEUAAgDf/9v/5f/d/7H/dP9M/0T/Qv8o//f+0P7H/s7+yv6x/pT+i/6Z/qv+rf6k/qf+w/7m/vb+9f7+/iD/S/9j/2b/bP+N/8P/9v8UABsAGQAeADEASgBaAGEAbQCIAKkAwgDSAOYAAgEeATABOgFDAUsBTwFLATsBHQH4AN8A3ADkAOIA1ADGAL0AqAB2ADUABgD+/wkADgAIAAgAFQAaAAMA1/+w/5f/fv9h/1D/Wf9r/2v/Wv9S/1f/Uv82/xv/Hv8v/yn/BP/m/uf++f4C/wL/A/8D//X+4v7k/v/+E/8D/9n+wf7a/hb/S/9a/1D/Uf9s/4j/jv+S/7X/8f8SAAkAAAAlAGcAiwCGAIcAtQD4ACUBMQEvATEBNwE9AUkBVgFfAWMBaAFpAVoBPAEhARoBIAEeAQYB3wC7AKQAjgBmACsA+//o/+T/zP+e/4D/hv+T/4D/Vv9B/1b/dv+E/4j/mf+x/6z/fP9A/yb/Of9Y/13/Rf8q/yH/Kf86/1L/bv97/2v/T/9J/2b/jf+l/63/tP+5/7b/sP+x/7L/qf+m/8n/FABhAIMAdwBeAF0AewCeAKoAmwCNAJgAqQCeAHYAWgBfAGYAUAAuACMAKwAkAA0ABAAPABUACwAJABcAEwDq/8j/4v8iADwAFgDl/9j/5v/o/97/3P/l/+j/4v/c/9r/1v/N/77/o/+D/3D/df96/2f/Rf8x/zP/NP8t/y//QP9K/0L/PP9P/23/df9p/2b/ef+W/7D/yv/n////BwAGAAcAEQArAFUAdgB4AGEAUgBfAHgAhQCHAI0AlACPAIAAdgB2AHoAfQCEAI4AlwCgAKsArACYAHUAXABTAEQAJwAMAAQAAADn/77/ov+b/5j/lP+c/7D/tv+c/3X/Y/9q/3T/cv9v/3X/d/9h/zv/Jv88/2n/ev9Z/y3/KP9M/2f/Vv8u/x3/Lv9G/1P/YP9z/3//ev90/4H/m/+p/57/hv95/4X/qP/Q/+L/2v/P/+X/GgBNAGMAawCCAKoAyQDMAMIAxwDhAP4ABwH5AOQA2gDfAOwA/wAWASwBPAE7ASsBEwH9APEA8QD2APUA5gDNALMApgCqALAAnwBtAC8ACAD///L/yf+O/17/P/8f//n+3f7R/sP+o/52/lT+Q/45/if+DP7v/dv93v36/Rr+J/4k/iz+Tf55/pn+qP65/t3+Ev9F/2L/bv+E/7r/+/8dAB0AIwBVAKUA6AANASgBRAFbAW4BkAG/Ad0B2QHTAfIBKgJCAiEC7QHcAfYBFAILAtUBkQFmAVUBOgH7AK8AhACDAH0ATQALAOL/0/+0/3L/I//r/tH+x/7B/rj+qP6Y/pP+j/5y/jn+Df4X/kX+Yf5Z/lH+af6N/pT+ef5e/lz+bf6A/o/+of66/tr+/f4e/zb/Qf9L/2X/lv/U/wkAKQA5AEwAbgCVAK0AtwDKAO4ADQEPAf0A9gAKASQBMQE1AUABWQFxAXoBcQFeAVQBZAGLAasBpAF3AUYBLgEpAR8BBwHsANgAxgCtAI0AagBKACoACQDn/8r/vf/H/9j/0/+o/2j/NP8d/xz/If8m/yr/J/8R/+v+w/6m/o/+dP5e/mP+jf6//tT+wv6m/pj+lP6R/pr+vf7q/v7+8/7q/vj+C/8Q/xT/Mf9f/3//jv+x//L/LwBEAD4ARgBpAIsAlgCYAKcAygD0ABMBHgEbASMBQwFnAXEBYQFYAWgBdgFeASkBAAHzAO0A2QC+AK0ApACbAJAAhgB7AGkAVQBDAC8AFwAEAPf/3P+i/1z/Mv8v/y//DP/R/qT+mv6j/qf+ov6c/pj+m/6r/s3+9f4N/wj/8/7m/uv+9v78/gP/Hf9H/2T/Xv9M/1r/lP/U/+7/4v/a//b/KwBaAGwAaABoAHMAfgB2AGIAYwCRANgACgENAfIA3gDkAP8AGgElARkB+wDjAN8A6ADrAOMA3QDgAOEA1ADDAL0AwAC7AKYAkACFAH8AdQBoAF4AUQA6ACAAGAApADwANAAQAOP/vP+c/3v/Yf9Z/1//Yf9T/z7/M/8z/yr/Df/p/tX+2v7g/tH+rf6L/n3+fP58/nb+b/5x/n/+mf64/tb+8f4D/wj/Bv8T/z3/dP+U/5T/lf+2/+T/7v/O/73/6v85AG8AdABnAGQAZgBlAGsAfwCTAJgAnQC1ANQA3QDSANUA8QAJAQEB6ADjAPoAFgEcAQwB9ADiAN0A4wDhAMYAmwB+AHsAfwBwAFMAQQA9ADIADgDh/8X/vf+x/4v/Wv9B/1H/cf98/2X/RP85/0X/VP9W/03/Q/9B/0n/Tv9D/yf/D/8T/yz/O/80/y7/Q/9q/33/bv9T/0z/Yv+I/7X/4v8QADsAWQBiAFsAVgBjAH8AlQCYAJUAmQCmALoAzgDcANgAyQDEANMA2gC7AI4AjADEAP8ABAHeAMMAxQDHALAAjgB2AGUATAAtABQAAgDt/9H/tv+l/5v/lf+L/3P/S/8i/wz/Cv8I//z+7v7p/u3+8f7w/u/+8f77/gb/Bf/t/s3+wv7U/uf+4f7O/s/+7v4O/xj/GP8k/zz/U/9h/3D/iv+s/9H/8/8OACcAQwBmAIMAhgBvAFcAVwB0AJsAuwDRAN4A4wDhAN0A3wDoAOsA2wC9AKUAoQCtALMArgCmAKYArwC4AL4AwQC5AKYAlgCZAK0AuwCyAJcAfgBxAGoAVwAuAPb/xv+u/6r/n/+E/2r/ZP9r/2X/S/8v/yX/Lf84/z3/Of8v/yX/J/80/zf/Hv/5/vD+Ef83/zD/9f6t/oj+lv7E/vj+I/8+/0P/Nv8p/y3/SP9q/4f/nf+z/8j/3P/0/xAAJwAqACYAOwB1ALgA2QDPALQAoQCZAJwAqgC6ALYAnQCPAK4A7gAbAREB4QC5ALcA0wDyAP4A9ADgAM8AwACrAIoAbgBpAHgAhgB/AGkAVQBOAEYALAABANr/yv/T/+L/5f/Z/7//nv+B/3H/b/9v/2X/UP87/y7/Lf82/zz/MP8R//f+/f4U/xn/Bf///h7/QP8y/wH/8v4p/3P/iP9h/zj/N/9T/3D/if+q/9P/8f/9/wAACAAYADEATQBmAHAAbABlAGUAawBzAH8AmQC5AMwAwQCmAJgApQC+ANEA4wD8ABEBCQHhAL0AswC4ALAAoACcAKQAmwB5AF4AZAB3AG8ATAAyADQAOgAlAPb/v/+P/2L/Pf8u/zb/R/9P/0X/K/8L//L+5/7p/u/+/P4S/yD/Dv/b/q/+rv7O/uj+6f7r/gP/I/8s/yH/HP8u/0b/Uv9X/2P/d/+K/5v/sv/H/87/y//X/wAAMwBXAGMAagB5AJEArgDWAP0ADQH7AOQA7QAaAUYBUAFAATkBSAFhAWoBXAFIAUQBUgFbAUYBFgHqANkA1wDGAKIAggB1AGgAQAAFANz/2v/n/9v/q/97/2//hP+Q/3f/RP8b/wr//v7n/tT+1v7l/ub+0/69/rX+sf6k/pL+iv6K/ob+eP5v/nX+jP6r/sf+1f7X/t/+AP8v/0z/Sv9E/1v/jv+6/87/0v/a/+r/BAAsAFwAfgCFAIIAkgCyAMMAvgDCAPMAOwFlAVUBLgElAUIBYQFiAUsBOwE8AUQBQgEvARMB9gDiANkA0gC9AJsAgAB1AG0AVAAtABAABAD2/9X/sv+m/6r/oP99/1v/WP9u/3r/Y/83/xT/C/8S/xH//v7m/tv+3P7W/r7+qP6t/sz+5f7i/tL+z/7c/uj+7P75/hn/Nv88/zj/S/96/6b/sf+u/8T/9v8lAD4ASgBfAHUAfAB6AIkApgCzAKQAmAC2APcAKwE1ASMBFgEaASMBLAE5AUoBWAFfAWQBaQFmAVQBNAERAfUA4gDUAMYAswCbAIAAXAArAPn/3v/h/+z/4P+8/5z/i/90/0T/E/8N/zD/R/8p//D+1f7h/t3+qP5s/mn+n/7I/rr+lf6N/p7+mP50/mb+kf7U/vX+6v7h/vT+Dv8Z/x7/Ov9n/4v/l/+b/6j/vv/U/+3/DwAxAEEAQgBTAIkA0AD4AO4A0gDRAPIACwH+AOEA3wABAR8BGwEKARMBMwFHAToBIwEfASEBDAHcALQAqwC2ALoAtgCzALEAqQCdAJkAmACEAFkAMgAnACcAEQDf/6v/h/9q/03/O/87/zb/Ev/d/sL+zP7S/rP+f/5f/lz+X/5Y/lX+Yv50/n/+hv6J/oT+eP58/p/+0P7v/vb+Av8j/0//cP+H/5v/sv/M/+7/GAA8AFMAaQCLAKwAugC7AMoA6QD8APUA9wAhAV4BfQFvAVQBTAFSAVoBZAFyAXMBWQEzARsBFwERAf4A5QDPALsAqwClAKgAnwB/AF0AVQBiAGEAPwAJAN7/xf+x/5H/Zf81/xT/Bf/+/uj+vP6Q/nz+fv59/nD+aP50/oT+ev5W/jz+Sv5z/pX+oP6l/rj+3P7//hf/Kf87/03/WP9h/3T/l/+//9j/3f/h//r/JABCAEQARQBwAMIACAEZAQMB+gAfAV0BiQGQAXgBWgFLAVABXQFhAVoBVQFbAWUBaAFnAWsBbAFVAR8B3wC4ALEAsgChAHoAUQA7ADQAJgD//8n/pf+e/6H/mf+C/2L/Pf8W//3+/f4C/+r+s/6I/o/+t/7F/qH+a/5Y/nL+kv6R/nf+bf6G/qj+qf6N/oH+n/7N/uL+4/7t/gj/Hf8l/zb/Xv+E/47/jv+n/9P/7v/v//n/KQBtAJ8AsgC2AL4A0wD7ADABWQFeAUsBOQEuARcB8ADXAOEAAAEXASABKQEyAS4BHAENAQsBCAH0ANAAsACnAK4ArgCVAGUAPAAwADYAKwABANb/yf/X/9r/u/+J/2P/Vv9U/0z/M/8N/+n+1v7U/tP+yP65/rb+wP7E/rb+oP6a/q7+z/7l/uf+4f7m/vv+FP8i/yz/P/9h/4D/iP9+/3j/i/+u/87/3v/h/+b//v80AIIAyADqAOwA8AAMATEBRQFGAUgBTgFIATcBLwE2ATQBFQHvAOYA9QD7AOsA4ADqAOwAzQCfAIsAkwCXAIQAZwBNADAADAD2//P/7f/P/6v/ov+y/7T/lf9o/0r/PP8x/yP/G/8V/wv/+v7v/u/+9/79/vz++v76/vv++P71/vj+//78/ur+3P7t/hT/J/8W//v++/4R/x//JP86/2T/hv+W/63/3P8LABwAHAArAEoAWQBSAFUAbwCKAJUAowDLAPkABQHwAOkACgE8AU0BMAECAegA6ADoANUAvwDGAOsAAwHrALwApgCxALUAnQCBAIMAlgCaAIUAagBQAC0AAgDc/7n/j/9l/1L/V/9T/zP/F/8h/zv/Mf/5/sP+uv7N/tj+2P7j/vb+8P7B/ov+gf6v/vL+Gv8a/w//GP85/1v/a/9w/3r/i/+Z/53/ov+y/8z/5v/1//n/9////xQALwA+AD0APwBZAIwAwQDiAOkA4ADTAM4A1wDqAPQA5wDJALEAqwCqAJ8AkQCYAK4AqgB0ADAAHABCAG4AcQBYAFMAaAB1AGUATQBBADgAHgACAAAAFAAYAPX/wf+m/6v/sP+Z/3L/Wv9a/1v/Sf8r/xz/I/8y/zn/Ov9A/0L/Nf8g/xn/Kf8+/0L/Nf8g/wn/+f77/hT/Mv9A/z7/PP9F/1b/bv+U/8X/7/8GABYALABIAFsAYgBjAGIAYQBmAHgAjwCcAJgAlQCiALwA0wDbANgA0gDPAM0AyQDGAMYAzQDRANAA0ADdAO4A6AC+AH8ATQA3ADsATQBaAFMALwAFAPH/8f/u/9X/tv+u/8T/4f/m/8n/mf9z/2r/cf9n/0T/JP8g/y3/KP8J/+n+2/7d/uX+9P4E/wn/AP/5/v3++/7r/t7+8v4h/0f/Uv9V/2j/hv+Z/5v/m/+m/8b/9v8jADwAPgA/AFEAaABzAHEAdgCJAJ0ApgCdAIgAcwB2AJYAuwDBAKsAoAC7AOcAAgEIAQ0BEQEDAd0AtgCfAJQAiQB6AGsAWQBEADsAPwA/AC8AGAAKAAAA6//Q/8X/yP+8/5X/c/9+/7D/1v/L/6P/h/+B/3T/Tf8e/w7/Kf9S/2T/Wv9N/07/U/9T/1P/YP9v/2n/Tf81/zr/VP9m/2X/Yv9t/33/fP9s/2n/hf+p/67/kf99/4//tf/E/7z/uv/Q/+T/4v/Z/+L/+v8NACQATwCCAJgAiAB3AIkAqACnAIUAbQB0AH0AagBMAE8AeQChAKEAggBqAG0AfgCGAIcAjgCcAKEAlgCLAJEApACuAKIAggBcADgAJgAqADoAOwAnABQAEgAOAPD/yP/E/+n/8/+i/xD/qP6w/vv+Hf/p/qP+qf77/kH/P/8k/0b/pf/g/7//gP+K/+D/JQAeAPH/3v/j/9D/oP97/3n/gf93/2//if/C//b/DgATABMAFgAqAFwAoADLALgAcQAnAAcAGAA/AFcAUQA6ADIARgBlAHAAYwBTAFUAZABsAG0AewChAMgA1AC+AJgAcwBXAEUAQABHAE4ATgBKAEIAMAASAPX/5P/c/8n/p/+L/4D/d/9b/zn/Mf9K/2b/Yf9C/zP/Rv9f/1X/MP8d/zn/Zv93/2r/Zv97/4z/eP9V/0v/X/9t/2v/dv+Z/7H/nP93/3z/rP/Q/9D/1f8FAD8ARwAnACEAWwCmAMEArwCuANwAFQEiAQIB5wD0AA8BCQHbALkAywD6AAgB2QCUAG8AbABrAFQANAAiAB8AIgAgABoADgD//+3/2//N/8L/sf+W/3H/Tf81/yH/Bf/s/uf+8v7t/sv+qf6v/tb+9/76/u7+6f7u/vn+C/8i/zD/Lv8o/y3/PP9I/1X/af94/3P/af98/7T/7f8GAA4AKABVAHkAfgBuAF8AYABrAHEAYwBJAD8AWwCKAKkAqwCpALAAsgCkAJgAoQC1ALUAoQCWAKUAswCmAIsAiACsANUA3AC7AJsApgDYAAQBBQHnANEAzQC/AJQAYQA+AB0A6v+9/8b/AAAvACYA/v/n/+T/1v+9/7j/zP/S/6r/b/9R/1b/WP84/wb/6v7y/gX///7V/qL+i/6W/qn+rP6k/qr+x/7r/gH/CP8E//n+7/71/hf/S/+A/6r/yf/c/+L/5f/7/ygAXQB9AIUAiQCZALQAywDcAOcA7wD0APsABwEQAQQB4AC8ALYAygDZAM0AtACrALQAsgCWAHMAZwByAHcAZwBXAFsAbQByAGYAXQBmAGgAQQD//9L/2//3/+7/tf93/17/Yf9o/2z/ef+I/4X/c/9u/4P/l/+F/1H/JP8f/zX/Qf8x/xL/AP///v/+8f7j/ur+Bv8g/yv/L/84/0H/Qf9H/2b/k/+u/6v/n/+i/7L/xv/g/wIAIgA4AFAAeQCgAKkAnACeALUAvgCpAKIA1QAnAUkBHwHbAMIA2AD1AP8A9gDkAMgArQCkAKoApACFAGMAXgB2AIEAXgAeAPD/6v/3/+7/yP+e/4b/e/9q/1X/Tv9X/1v/Rv8h/wX/+v71/vT+AP8a/yr/FP/l/sv+4f4Q/y7/Mf8w/zj/Ov8t/yf/RP96/6b/uv/L/+H/5f/D/5T/hf+g/8L/0P/O/8z/z//X/+n/BwAjACgAHQAeAD8AcwCeAK4AqQChAJ4AoACjALEAzADjANUApQCAAIgAqwDBAMMAzQDkAOsA1QC8ALgAuwCvAJ4AnACYAHgAUABLAGcAZQAjANP/tf/G/8//t/+d/57/qf+g/3r/Sv8m/x3/LP87/yz/Bf/t/vn+E/8Z/wj/+f75/v7+BP8R/yf/Ov9D/0T/QP8y/yP/KP9G/2P/av9m/3X/mP+z/7n/vf/X/wAAIwAzADcAOgA8ADwAQwBeAIQAnwCgAJoApQDAANIAygC4ALcAyADTAM4AyQDWAO4A/QD7AO0A3wDZANkA0QCyAIgAdACFAJ0AlgByAFcAVgBVAD4AJQAnADcALQD+/8v/tv+7/7r/o/+E/3T/df90/17/Nf8Y/yP/Sv9k/1b/Mv8f/yn/O/8+/zX/Lf8t/yv/If8a/x//LP8z/yv/If8l/zj/R/9L/07/W/9q/2z/ZP9m/4D/qf/S//P/BwAPABcANgBxAKcArwCTAH8AjQCqALcAsACpAK4AugDBAL0ArwCfAJsAqQC5ALEAlgCIAKAAywDfAM0ArwCdAJIAdABAABkAGQAsACIA7v+2/6j/u/+//53/c/9q/3r/fv9j/0D/L/8x/zf/N/8x/yr/Jf8l/yb/Gf/5/tn+0/7p/v7++f7j/uD+Av83/1z/X/9W/2X/lv/H/9b/zf/X/wEAJwAfAPT/2f/y/ywAXgBxAHAAcgCDAJ4AqwCbAIAAfgCjANQA7ADhANEA0gDiAPEA+wAEAQwBDgEJAQEB+gDyAOUA1wDJALcAmgBvAEEAHwALAAAA9v/7/xYAOwBIACoA+v/a/9j/3P/M/6X/e/9l/2b/bf9c/yb/3f6x/rr+4/7//vb+1/64/qn+rv7L/vP+B//y/sb+sf7D/uL+7P7i/t/+7/4G/xT/Ff8X/yb/QP9b/3D/g/+Y/7X/1v/0/xIAOwBvAKUA0ADuAAUBFAEQAfUA2gDWAOkA8gDgAMcAygDsAAsBFQEbATMBTAFEAR0BAgEMASYBKQEUAQMBAQH4ANYArwCjALMAvgCnAG8AKgDt/8f/wf/Z/+//3/+m/2n/U/9d/17/OP8A/+P+7/4H/wX/4f65/q/+z/4A/yH/G//z/sL+pv6u/tD+7/78/v7+DP8n/zT/Jf8P/w//If8q/yn/O/9l/5D/r//f/x4AIgCx/yX/Rf9aAKQB+QH6AHf/nf70/hYAQAHdAckBPgGiAFQAeADnAEwBaQE6AfQA0gDhAAIBDAHrAKsAYgAzADQAYQCXAKwAmgB3AFsARwA9AEQAYQCEAI0AaQApAO3/zP/G/8H/q/+M/3H/X/9L/zL/Iv8f/xb/+P7Q/rP+ov6L/nD+a/6C/pj+lv6N/p3+xf7k/ub+4f7y/hf/NP8+/0H/T/9n/4P/of+9/9H/2P/a/+b/+/8PACUASQB6AJsAkwBzAGYAfwChAKwAqQC8APEAKwFKAUsBQQE+AUIBRQFDAT8BQgFSAV8BUAEiAeoAxQC2ALIAsQCwAJ8AbAAmAPT/7/8GABMAAwDm/9L/zf/I/7P/kf92/3L/d/9q/0L/GP8H/wX/+v7i/tf+4v70/vb+6/7i/uH+5f7q/u3+6f7h/uP+8/79/vL+4/7t/hH/Lv8y/zX/TP9q/3j/fv+W/73/zv+7/6j/w/8LAFkAgwB8AFQAMgA4AGoAnQCoAJMAjwC4AO8ABwEBAf4AFAE0AU4BYgFyAW8BUAElAQcB+gDpAM0AtgC0ALgAqQB/AE8AMAAqACsAHwACAOb/3f/i/9n/uP+U/4f/iv98/1j/PP88/0L/MP8P//7+AP/5/tr+tP6c/pb+nv67/uT+9v7c/rb+uP7i/gT/CP8M/y//WP9f/0b/N/9G/2T/ff+Y/7n/0//Z/9D/xv/A/77/y//l/wAAEgAvAGIAlwCtAKcAowCtALEArQC6ANwA8QDZAK0AnACmAKsAogCuANgA+QDxAN0A6QAMAREB5QC2ALQA1QDlAMQAhwBdAF0AbQBnAEEAFwAIAAYA8P+9/5D/gP98/2//Xf9b/2T/Yv9R/0D/M/8f/wX/8f7l/tH+r/6T/pH+pP64/sX+0v7k/vT+/P77/vn+BP8o/13/hv+L/37/ff+S/7H/0P/2/x8AQgBdAH0AngCqAKQAsgDoAB4BHAHoAMIAyADYAMkAqAChALUAwwC0AJwAlQCdAKQAnwCWAJgApACoAJYAdgBoAHsAlACOAG0AVQBbAGUAWAA/ADMAMAAZAOn/vv+x/6//mP9x/1f/Uf9H/yP/9f7c/t/+4f7H/pT+bf5v/o/+p/6j/ov+ev58/o7+qf7I/uH+6/7i/tX+0/7i/vz+F/8v/0T/X/+D/6n/xP/Q/93//f8tAF8AhACiAMUA6gAHARYBHwEvAUcBXwFqAWQBWAFMAUUBQwFGAU0BUAFLAUEBQgFSAWgBbQFXASsB/QDYALsAnQB7AF0ARQAmAPv/1f/K/87/wP+V/2v/W/9Y/0j/L/8h/yL/G//+/tf+tP6X/oj+lP6w/rr+nf51/mb+cv6B/pD+sP7e/vv+/f7//hr/Ov9F/z//Q/9X/2f/a/90/5T/v//b/9//1f/O/9n/8f8JABsAMABRAHQAgAB0AHUAnwDhAA4BFgENAQoBDwETARgBIQEkARQB9wDeANYA3ADoAPUAAQEIAQIB7ADKAK0AngCYAI8AgAB0AG4AYQBIADAAJwAiAAoA3f+x/5n/i/92/1b/Mf8P//n+Af8m/0f/Of/9/sL+sP7C/tv+6f7u/vP+9f7u/tr+xP66/sj+5P74/vv++v4D/w//GP8n/0f/af92/3X/jP/G//v/AgDq/93/7P8AAAYABAAPACgAQgBSAF8AdwCZALcAwAC6AL0A0wDjANUAwwDdACEBUAE+AQsB+wAfAUoBVQFGAS0BBwHWALEApQCkAJoAjQCNAI8AewBVADoAOAA6ADQALgAtACEA/v/W/8H/tP+W/2X/Of8f/w7/Af///gr/DP/z/sv+rf6e/pL+hP55/nb+c/5s/mj+b/6D/qL+yf7s/gD/A/8E/xH/Kv9A/07/X/95/5X/p/+1/9X/CgA5AEIALwA4AH0A2QAGAe0AvgC0ANgAAgEPAQYBCAEqAWABgwF0AT4BFwEjAU8BYgFIAR4BBQHzANAApgCUAKEAqQCNAFUAJQAUABwAKQArACAADAD2/9z/vP+X/3v/bP9h/0v/JP/6/uH+3v7k/tv+uv6W/or+m/6w/rH+pf6l/r7+3/73/gj/F/8l/y3/MP80/zX/NP88/1L/bv+B/3//cf9p/33/uf8NAFUAdwB8AIMAlACfAJ4AowC3AM8A3ADmAPcA/wDuANwA6AAFAQMB1wC5AM0A8gDqALcAmACuANkA8ADwAOMAwgCHAE8AQwBdAG8AVwAlAAQAAQAHAPv/0v+h/4b/j/+p/7P/nf92/1X/Pv8v/yf/Kv8v/y//Mv8//0n/Nv8K/+3+/f4s/0r/P/8d/wH/9/73/vz+Cv8j/0P/Xv9m/13/U/9Y/23/g/+L/5D/pP/E/9z/3v/V/9j/5f/p/+T/9P8uAIAAuQDCAK0AmwCUAI0AgwCAAI8ArADMAOgA+wADAQUBCAEGAfgA5QDhAPEA+gDqANMA1ADlANsAqQB6AHYAigCIAGAAMQAUAAIA6//T/8H/r/+Z/4f/f/9y/1P/Lv8c/x7/Gv8D/+3+6/74/gD//P7z/uv+5/7t/gD/Gf8q/yn/HP8K//r+9P78/gj/DP8O/yH/Rv9m/2z/Y/9n/4H/m/+m/6z/uv/S/+7/CAAoAFIAggCxANEA3wDiAO8ABwEYAQ8B/AD8ABEBFgHuAK8AjACfAM8A7wDtANkAzQDPANgA2ADLALUAowCdAJ4AlQB8AF8AUgBaAGQAVwAxAAoA7//U/6r/ef9d/1//Y/9O/yb/DP8O/xv/G/8Q/wn/BP/z/tb+wv7O/u7+Bf8B//H+9P4U/zv/SP8z/xL//f7+/hD/Lv9X/33/iP9x/1H/UP97/7b/3v/m/+D/4v/4/xkAOwBTAGMAdgCUALgA1wDrAPcABAEPARABBwEIASQBUAFoAVcBKwEDAekAzQCpAJEAkgCcAJQAegBoAGUAXAA/AB4AEgAZAB8AIQAmACcAGAAAAPv/BAD1/7L/Zv9U/4H/p/+S/1v/Pf9F/0r/Kv/2/tb+1v7g/uH+3f7k/vb+Cf8T/xj/IP8s/zT/M/8s/yv/Nv9F/0v/Rv9E/1D/aP98/4P/iP+b/7//4v/x/+3/5P/n//n/GABAAGoAjwCuAMIAxgC6AKoAqgC6AMQAvgC0ALkAxAC8AKQAmQCyAN0A9wD0AOcA5gDxAPoA8wDaALMAjQBwAFsASgA/AEQAUABIACAA6P/A/7D/o/+D/1X/M/8r/zT/Of8u/x//Gv8f/xv/AP/d/sr+1P7o/vP+7/7m/t3+1f7R/tn+7f4D/xH/E/8V/yH/Pv9n/4//qf+2/8X/3f/y//j/7f/j/+P/5//l/9//4//5/xoAPQBZAG8AhQCbAK4AugC8ALwAyQDqAA0BGQEKAf4ADgEsATUBHAH+APgA/QDtAMoAswC/ANoA4ADFAJsAewBzAHsAfgBnADsAGAARABcADwD6/+//8v/p/77/gv9Y/0r/Qf8s/xH/+/7v/uf+3P7S/s/+2f7r/vL+4f7J/sn+6f4J/wv/8/7j/uz+A/8W/x//Jv8r/yz/Kf8p/zX/Uv94/5r/s//P//n/LQBaAHIAewCCAIwAmQCqAL8A0wDgAOgA6wDlANQAxgDNAOIA7wDnANYA1QDoAPgA7wDRAL8A0QD2AP0AzwCPAHUAgQCCAFsAMgA3AFoAYgBCACQAJAAoAAoA1f+v/6L/kf9t/0z/Qf9E/z//KP8H/+H+wv66/sz+7P4F/xD/Fv8a/xj/E/8R/xf/IP8l/yX/If8g/y3/Sv9m/2v/W/9P/17/gP+Z/6L/qv+//9f/3//Z/97//P8lAEEASgBYAHwApQC4ALQAsAC3ALoAtAC4ANoABwEWAQIB6ADeANoAxwCsAJoAjAB0AFkAUABYAFcAQQAwAD8AXwBsAFcAPQA4AEIAQgAoAAMA5f/U/8n/w//C/8T/tv+L/1D/JP8V/xD/+f7S/rb+tP6//sT+wv7F/sv+z/7X/u7+F/89/03/R/85/zT/P/9T/2P/ZP9g/2n/hf+f/6L/lP+V/7T/2v/r/+X/5v8EADQAXgB9AKAAyQDqAPYA/AAQAS4BPAEsARQBDQEVARIB/gDzAAMBGwEYAfIAxACmAJAAcwBcAGUAkACwAKEAcgBTAFkAawBmAEkAMAAmABgA+v/Z/8v/y//G/7f/rP+p/5//fv9X/0P/Qf81/xH/7f7s/hH/O/9I/zn/J/8j/yP/GP8C//L+7v7t/un+7P78/gv/B//0/u/+CP8u/0H/N/8k/x//M/9e/5b/xP/V/8z/xf/Y/wQANQBZAHEAhQCbAK4ArgCNAF8ATwB4ALkA2QDGAK4AwgD1ABgBIAErAUwBZQFTASUBBwEJAQwB9QDWAMkAwgCdAFsAMQBCAG0AawAtAO//6f8MABwA/v/R/7z/vP+y/5P/a/9F/x3/+P7q/vj+Cv8D/+X+1/7t/gn/9/6u/m3+d/7G/gv/Df/n/uH+E/9O/2H/U/9O/2X/if+n/73/yf/K/8L/tv+t/7H/zf///ykANgA9AGgArwDMAJkASgA4AHMAuwDXAMoAtACkAJ4AqgDCANAAywDIANkA6wDoAN0A6gAEAQIB2QC1ALQAwQC3AJ4AlACcAJYAbwA6AA0A8f/d/8//xv+9/7L/ov+I/2X/Sf9B/z//L/8a/x//RP9d/0n/I/8Y/yf/If/1/sj+vP66/qD+eP5o/nn+iv6C/m/+a/54/o3+p/7K/u/+Cv8d/zL/Tf9l/3n/k/+///j/LQBRAF8AXwBkAHwAowDEANAAzwDUAOkACQEpAUUBWgFgAVcBSwFJAUgBOQEcAQIB8wDnANcAzwDbAO4A9QDvAPEAAQEHAfAAyQCtAKMAoQCcAJIAfgBWAB0A7f/W/9X/2v/Q/7D/ff9R/0j/YP95/3D/Sf8k/xb/Gv8i/yf/Kv8s/y//Mv8v/yX/Hf8i/zD/Nv8x/yn/Jf8e/xD/Df8j/0H/Tf9J/03/Y/95/37/eP92/3r/g/+Y/73/5P/8/wgAFwAuAEYAXgB4AI0AlACQAIwAkACdALcA4wAHAQEBywCXAJAAqgCzAJkAggCNAKsAsQCVAHIAYgBhAFwATwBEAEEAPQAxAB4ACADv/83/q/+c/6L/nv93/zj/DP8K/x7/K/8v/zn/RP82/w7/8f7//in/Q/8//zP/Of9G/0P/Mv8y/03/bf9v/1X/Pf89/07/X/9u/3z/gv95/27/e/+h/8T/zv/Q/+b/DAAsAD8AWACAAJ4AmgB+AHAAgwCgAKEAgwBkAGkAkAC6AMoAxgDCAMYAygDFAMIAyADSANUA1wDjAO8A5wDFAKQAlQCOAHoAXQBQAFoAagBmAEwAKQALAPX/4P/M/7r/p/+O/2z/Sv82/zH/Kf8N/+r+3P7u/gf/DP/8/u3+7v76/gf/EP8V/xT/C/8B//3+Av8P/yb/SP9v/5D/qf++/9P/6P/7/xIALwBGAEQAJgAAAOr/8v8QADUAWABzAIUAjgCcALsA5gANARwBDwHxANIAvwC9AMQAyQDQAN4A7ADsAN4A1wDeANoAswB8AGEAbwB9AGUANQAZACEANAAwAA0A4v/K/9P/6P/j/7r/i/94/3r/av9D/yn/Mv9F/z//KP8i/zH/Ov8m/wf/+f4F/xv/Lf80/zX/Ov9H/1D/S/9A/z3/QP80/xr/Ef8y/2P/dP9b/z3/PP9X/33/pf/O/+7//v/7//D/7f/8/x4APwBHADoANgBOAG0AewB6AIMAlACbAJgAmwCpALAAsADHAPkAHwESAesA4gD+AA0B6QCrAIYAjwCoAK8AkQBaACcADwAMAAEA5f/S/97/8v/m/8D/sP/C/83/rP9x/1D/Uv9X/0n/Mv8g/w//9P7Y/sv+0P7X/s7+uf6s/sD+/P5C/2j/Xv9F/0L/U/9d/1b/V/9y/5P/m/+Q/5f/xf8EADQARwBPAF4AcwCBAIIAfAB5AH4AiwCbAKgAqQCgAJoAowC0ALkArAChAK4AyQDMAKYAeABxAJsAzQDcAMYArAClAKkApACWAJAAlACWAIkAdABmAF4ATQAqAAcA+f/4/+z/yP+g/4b/dv9g/0D/If8K//v+9f76/gX/B//5/uX+2f7b/uH+5/7r/vL+/f4M/xf/E////u3+8/4T/zf/Tv9T/07/Rf9A/0j/Z/+Y/8j/5v/u/+v/7v8EAC0AVwBzAIcAqQDaAAYBFwEQAQgBEQEmATEBJAEHAfIA8AD0AOoA0wDEAMEAsgCIAGQAcgCmAMAAmgBXADUAQwBYAE8AKwAGAOv/2P/N/8v/zP/J/7//q/+N/23/V/9K/zL/Df/4/gz/MP8u//3+1P7j/hL/Jf8L//P+BP8q/zv/MP8p/zX/Q/88/yv/Kf86/0f/Qv84/0f/dv+s/8r/y//M/+r/HgBEAD8AHQAFAA8ALgBQAHAAkwCxALYAogCOAJAAogCrAKMAmgChALQAvwC6AK8ArQC1ALwAuACsAKoAuQDIAL4AnACAAIgApQC2AKwAmACJAHkAXQA8ACkAKQAvACgADwDr/8f/r/+e/43/fP90/3f/cv9V/zL/K/9F/1//Yf9X/1n/Yv9f/1P/Vf9p/3T/ZP9G/zT/Mv8y/zX/Qv9X/2D/Uf87/zP/O/9G/0r/Tf9a/2//ff+A/4X/n//I/+X/4//R/9L/8P8TACQAKgA4AFEAZwBxAHgAiACgALoA0ADcANkAzADHANMA4ADXAL4AsQC/ANQA0gC2AJgAhwB8AGgAUABAADgALQAbAA4AEQAbABQA8P+9/5f/jv+c/6z/qv+Q/2b/Qf80/z//S/8+/xv/Bf8R/yX/Ev/S/p7+rP7n/g//Bf/s/u7+A/8M/wb/Cv8l/0H/UP9Z/2X/bf9u/3b/kf+s/7D/pP+z/+n/IwA4ACwAKgBJAHEAewBpAGcAlwDfAAAB5AC2AKgAuADCAMIA3wAiAV0BXwE8ATABSgFfAUoBHAH+AP4ADAETAQUB2wChAHMAXgBRADQAEAABAAcAAwDm/8X/v//Q/9H/pP9V/xX/D/83/1H/NP///vL+Ev8l/wf/4P7r/hX/G//p/q/+m/6h/qP+pP6w/rz+t/6u/rv+2v71/gr/I/8+/0f/P/9J/3D/mv+w/8D/6f8jAEwAVgBVAGUAfwCPAI0AiACUAKsAtACgAIcAjwC1AMwAuwCoALwA5ADlALkAngC9AOkA5gDAALMAzwDgAMEAkQCDAJIAkgByAFAATwBkAG8AYgBKADgAJwAKAOb/zv/J/8T/rP+K/3X/cf9m/0n/Kf8U/wH/6f7i/v/+If8V/+D+wf7m/iv/TP8//y7/M/81/xv/A/8Z/1n/h/9//2X/c/+n/8n/v/+2/+H/KQBMADwANQBUAGgAQwAZAEAAqwDuANIAoQCyAOYA5gCrAIgAqQDaAOIA2ADtAA8B/gC5AIoApgDdAN4AoQBwAIQAuADGAKkAmgCxALsAiABAADUAagCAADsA1/+w/8P/vP94/zf/Nf9Y/2b/Yf9o/3P/U/8M/9n+4/4G/wj/6P7T/t3+6P7c/sr+z/7h/tj+p/52/nP+m/68/sD+xf7s/h//K/8H/+n++v4m/0f/WP9z/5n/s/+5/8T/3v/5/wQAEQAyAGIAiwCnAMYA8gAhAUEBSwFMAVQBaAF4AXcBbQFtAXcBeQFrAWIBbAFzAVsBLQELAfoA5ADCALAAuwDRANoA2wDdANIArgCJAHkAcQBSACEAAADu/8T/d/83/yv/O/8t//X+vf6h/pf+if5+/oT+lP6V/nn+Vv5U/oP+wv7f/s/+wv7a/vf+5/62/qf+1P4G/wT/3/7R/uv+CP8O/wz/FP8g/yv/Pv9m/57/1v8AABoAJQA4AG0AswDZAMgAqgC4AO8AFwEPAfUA9QAOARQB8gDGAMkADAFdAXUBTgEpAToBYgFUAQkBzgDZAPwA6wCkAGwAZwBwAFoAKAD//+n/4P/d/+D/3P/A/5H/bf9r/4b/of+i/4r/bP9W/0P/Kf8Q/wn/EP8C/9T+qf6q/sn+1/7M/sr+5P7+/v3++P4X/1H/eP98/37/nv/N/+D/y/+v/7L/2P8CABMADwAUAC8AUABkAG8AfgCLAIwAkwC9AAABIQEDAdIAzwD/ACwBKQEIAfAA7wD7AAIB+wDfALgAmQCRAJYAlQCEAGwAXABbAGQAZQBKAB0A+//o/8z/mP9s/2z/h/+C/0j/Bf/n/uL+1P65/qv+r/6w/qH+kf6V/qz+zP70/h7/OP8w/w7/7v7k/vL+B/8T/xD/Bv8I/xz/OP9P/1r/W/9X/1f/Zv+P/8n/AQArAEEARQBAAEUAYACHAKUAtwDKAOUA9ADpANQAzgDXANcAxQC7ANEA9AD4AM4AnACUALQAxgCoAH8AigDMAP8A6QCqAIcAkACPAGIAKwAfAD0ATwA6ABYAAwACAAEA+//4//j/7//X/7b/mf+G/33/gf+P/57/nv+F/17/Qv87/zr/K/8W/xX/Kv85/yv/F/8b/y3/Lf8Z/x3/SP90/3H/Uf9O/3n/oP+Y/3f/d/+m/9j/3v/E/7f/y//p//z/DwA4AGkAewBtAHAAqQD0AA0B7ADVAPwAOwFKASMBAwEPASIBCQHPAKgAqwC7ALQAmQCEAHoAawBRADwARQBpAIYAfgBRABUA4f+7/6X/q//O//X/+P/I/4D/Qv8d/xH/GP8t/zr/Jf/v/rn+pv67/uP+AP///uj+2f7q/hT/N/85/yX/Ff8Q/wb/9v7y/gr/KP8v/x//Gf83/2n/kP+h/7H/zv/w/wEAAAAFACQAWQCFAJkApAC9AOYAAwEEAfgA/QATARwBBwHqAOoADQEyAT8BNgErASQBFQH1ANIAvQC+AMoAyQCuAIMAXwBUAFoAXgBTADUABwDU/6z/pP+1/73/n/9m/zX/JP8k/xz/BP/z/vn+Cv8I/+j+vv6u/rv+z/7O/rr+rP6x/sf+4f75/gv/Ev8N/wX/B/8b/zj/UP9Y/1f/X/94/5P/l/+F/33/lf+5/8z/0v/s/yIAVABiAFoAYAB6AI4AkQCZALYA2gDuAPIA+gANAR8BJAEkASoBNAE9AUEBQAE2ASMBCwHzANsAxACwAKYApACgAIoAYwA+ADMARABWAFAAOwA5AE0AVAAvAPT/zP+7/5n/Wv8s/zn/ZP9o/zL//v4A/yX/M/8a/wL/Df8q/zL/Hf8J/w7/JP8p/xH/8v7u/g3/M/8//zP/JP8d/xf/GP85/33/vf/L/67/m/+t/87/3f/l/wEALABAAC8AGAAcADMAQgBGAFEAawCFAJMAmACcAKYAtwDKANgA4QDpAPgACQEJAfIA0wC/AL0AxQDNANAAywC8AKcAkAB6AGoAZABjAFUANwAfACAALAAeAPT/0v/T/+H/1f+2/6f/r/+p/33/P/8Y/xH/FP8K//X+3/7P/sX+vf62/rP+uP7F/sn+vf60/s7+Dv9O/2b/V/9F/07/a/+A/37/cv9x/4T/nP+q/7H/xv/y/ygAUgBkAF8ARgAlABoAOABvAJkApwCtALsAwACsAJgApQDPAO0A5ADIALEAoACVAJ4AvADIAKMAawBaAHgAkgCCAGgAbwCLAIwAbgBaAGIAZABGACIAHQAoABMA1P+W/33/ev9p/0n/MP8q/yn/Hf8F/+v+1/7J/rz+q/6h/rD+2P7+/gn/A/8J/xr/Fv/x/sf+u/7G/s3+0f7m/g//Nv9L/1v/dP+R/63/zf/4/yMARgBqAJgAvwDLAMcAzgDmAPYA9gD8ABUBJgEWAfUA4wDkAOYA5ADvAAEBAQHpANwA7wAKAQwB/wAAAQkB9wDGAKIApgC2ALAAowC1AN0A6QDAAIAAVwBBACMA/f/i/93/2P++/5T/cP9d/1L/TP9J/0T/Pv88/0b/WP9d/1P/Tv9i/4P/kv+K/4b/lv+g/4X/X/9e/4L/jP9W/w//+/4S/w//3/7A/t3+Df8T/wH/D/86/0H/Ev/v/gX/Kf8h/xH/S//K/ykALgANABMAOQBIAEQAZAC5AA8BOQFIAWMBiAGhAb4B/AFMAnICVAIqAkUCpAL2AvsC1ALGAs0CqgJTAhUCFQL3AWMBqQA3AIj/hP3K+pv6/v+NCXERnxKpDWEHKQMMAKX7SvYI8wv0iPgy/lcDAAf8B1QFqf8y+RT0APGk78PvQ/GB83T1yvZi+CT7iv7pAHIBPAHUAfgC0QLBAAf/eQDNBFMIBgjfBFcCOwJkA3MEJwbQCWEOlRBcDiQJSATZAYkBKAIkA2EERwXDBFoC4P7m+3X6efpf++L82/6HALoAQf+U/XH95P5dAOcAYgETA5MF+wYZBqEDGgFp/8P+ZP9iAfgDnQU0Be0C9v+A/ST80vsZ/I/8DP1x/V/9f/wm+0T6X/rk+vL6p/oH+4v8Wf43//3+hv5o/jj+RP2+++D62/uI/icBoQFP/6P74fgu+Af5bfoC/LP94/6x/iL9fPsU+xL8k/3B/nj/8/86ABkAYf9E/mj9gv2w/i8A+gDLAEsAKwBRACgAgP/a/sz+av9PAP0AFgGLAJ3/l/54/R785vq9+iL8Mv5C/5v+M/2J/AP90/00/k3+v/60/4cAWwDj/sH8Lfv3+tn7zPwt/V39Cv4B/xr/hv34+jv5kfl9+zz9cP02/Jf6Cfkd99n06PNq9kj8cgKrBcgFaQVZBiEHCgX0/wX7QPkn+pj6qfjZ9Qr14vbu+IP43vXr8wD1X/g+++j7QPsd+9X7DfzN+hX5B/mo++P/rQPtBQ4H/gfgCPAIkgdVBZ4DQgOOA94CQgBZ/Iv4pvV486nxmfAL8S3zG/aA+Jf5lflF+Uv5vPld+i37ofwd/zkCrgROBTIEqQLqAd4BZwHc/+D9o/xb/PX7Yfrz9yD2APZi92f5mPvq/QQADwGLAAb/kP3K/Mz83/1+AFEEhQcACGYFmwH6/kL+eP5r/t79Lf1j/DP7qvlp+PT3G/hj+N/4Ivo+/CP+dv4Z/X37OPtd/If9l/0s/Qb+5gBPBMQFagQlApoBGwMcBDUCbf6G/JX+AQIJAmT9Pfiy99H7cf8a/uL4VfSI8h3xz+0t6+fuJ/smC0QX1xseG/UYOhYJEYwILv/V+Kj3ovqk/ncAjf7m+Zr1lvQy9yv7S/7IAE0EyAg1C2cIyACJ+ODzmPNf9ez2Nfid+rH+AQMiBbIDrP/Q+3b6iPu3/P/76/nn+Df6MvwY/Hn5BPeu93z7sv/jAT4CkALPAyQFNgW+A7EBRwAoAEAB4QIqBL0EPwXBBkcJBAuWCToE1fyw9iH0NfUw+Cb7Lv1p/uL+mf0V+Z/xA+s36xL27Am1II40NEPVTKpQJ0wgPvsppBbaCYQEZQOPAuL/5/qx83/qK+Bo1nvPs82i0s/d3Ouy96L94P28+0D6yfkU+Q34mvg9/HEBUQQOAq/7BPUn8SLw9e9r74bvQfIe+B//KQSCBRwEpwJCA+wFEQlzC2kNKRDoEyEX4xfQFXsSuw/sDQIMOwk1BjUEmQOCAwADWALXAn4F9gm7DiYSWhOyEnYR+BCDEQUSCRExDp8KqgddBZ0C4/5f+/D59/qz/AH9mPsk+iD6//rJ+oX4rPUE9fH3FP12ASADfgJrAfsAYwAL/p75/fTm8p30yPiT/Av+cv19/Fj8jfzP+9r5Svhs+f39GwSOCE4J6AZ9A5EA6P2N+rD2SPSo9Ur78AL/CAYLXgmXBj0FAgbmB+8Jegy1EO8Wvx37ImklRCVLI68fHxqeEhAK9QG6+y/4MPeK94n3O/ZU9KHzS/Wv+Bz8lP6JANICKQUsBskEiQE1/kz81vug+5z67fi198H3dfg3+Bf2AfMA8UXxE/Pa9Bf2tfeX+i/+8wAPAiMCcgKbA1QF6AaWB7EGEwTLAN7+yP8tA0kHrQpHDYEP9BCDELsNmgmqBasCawC8/hj+Iv/VAW8FBwn/C+oNZw41DWYKVgaVAe38VvmU98H3TfmR+zD+1gDTAkID0QEz/5783PrY+RH5Rvih92T3iPe+97H3T/fU9qn2N/eq+Mb61/wK/gL+Rf3c/Fv9LP4K/jv8Mfni9dLyN/Al7+bxdPp8CCkZ/iiqNQo+EkGjPb0zUiVrFY4GK/ot8UPsKes67Gftu+2H7Rnt7+uw6Yvny+ey6wvyKfgk/Nv9Dv4j/Qf78Per9C/yFvF38e/yo/Sd9Xn1vfQ29AT0jvOT8vrxN/Pc9u/7wQA+BGYGxAe0CCAJqQgTB70EtwIZAvwCSwTYBJwElgRKBdUF1AQxAoD/gv6P/58BpANbBfEGSwjyCIwIHAf/BO0C3wFqAvcD9gRLBH0CDQGnAE8At/4C/Nf5jvnJ+vb7/fsF+9v57vgX+Pj2ZPV588DxBPHU8fjzi/bO+Kz6b/wQ/if/df8p/3r+R/1s+0D5cfdT9rz1ofV99p74OPvL/Kf8uvtZ+477D/sT+aH2kvWA9jf4Tvng+Tv7IP6zAVYEJQV8BDQDwAESABf+GPy6+qn6JPyq/hQBTAL+AbgASP8f/lT9E/2o/RT/tQCxAbIBRQFZAWgCHQSrBWgGIwYMBWoDeQFw/479D/wP+4r6g/r6+qf70PvB+pT4W/Yx9RP1DvW09Ar1Y/dT+2T+Z/7t+9r5U/qN/BT+3P1f/ZP+VQF8Az0D9ABx/gD9j/xq/D78Nvyf/LH9g//EAZgDFgQxA9wBHQEcAVABdwH9AU4DDgVNBkwG6ARpAj7/Evy0+YL4B/h497H2YPYX94v47/nn+sD7qvw2/eX8/Ptj+6z7gvw3/Yj9nv1+/dj8f/vH+U34kffR9yD5P/uM/Wz/6wCtAuUEpQaPBlQEMAGj/t38yPqe90/0IvMQ9lz9iAdcEgQckSOdKK4qJCnyI1wcmRRkDt4J7gXEAbL9ivqC+O329/Rg8oPvBO2o6w/sOO4t8Zfz0vRT9er13Pbl9/r4iPrQ/F3/TwEjAuMBxwAC//b8Svtb+tH5G/lL+BD4tviN+bv5hPk4+rr8YACjA5wFlAYZByoHjQaoBWQFHwYdB1gHuwY3BqMGxwe1COQIrgi5CBkJMwloCLAGmwThAgwCTAJwA+wEHwa7BuwG9wbcBngGDAZYBtoH/AlXCwALZAmmB0AGoQQ9Aqb/K/6J/jMACQJRA90DjgNCAj8ASf7v/AT8FvtM+l76l/s2/Sv+T/5y/kr/lwCXAfAB9QEIAh8CBgLMAZsBVwGgAGv/Rf7V/SL+mP7c/l//4ABAAxkF5ASXAv7/HP8+AL4BrwGE//v75vfJ89HwSfEk99UBWQ6dGZYieSmCLcksuCbyHa0WDBPDEVMQ3w00C5oI1ASg/pT2CO9G6i7pNev47r3yHfXI9Yf1I/WR9ILzu/ID9Fv4g/7NA2UGcgY4BZsDzwEEALr+Z/41/xIBmQOvBcgFNwNF/1D8qvuU/K/95f5EAQQFfwi7CacISgesB/IJlwwhDl0OHg4UDukNmAyvCVMGqQTbBbIIoQpBCnAI3QbKBfgDqAAM/T/7G/x0/noAaAGnAc8B5gGfAfIASgA5ABcBrQIQBBcESQJq/8/8OPtp+gr6bfoN/Gj+7P9I/5z8NPlY9p70HfTA9Dr2/feJ+Z/6MvtX+437rPwb/wQC+QN4BHQEyQS0BIoCIf6t+dL3N/m6/KMBigiUEb0a1yBhIq8gLh4rHJAaFBnSF7EW/hT0EVoNaweMAH/5k/MB8OTuOe/679PwiPE58QPvf+vp6Frp8uwU8h/3bPu4/m0AIwB2/rH8rPt1+yf8Nf5jAQIEKgTDAZ/+Ufy0+vX4bfdp9yj5Hvuf+7P6r/lv+cj5jfo//Df/nALqBHwFLgVIBSwGVQdWCHAJEgsVDcEOdw8LD5MNLQtBCJYF1QPpAisCPQFOAIb/e/66/J36Jfn0+Lz5wPqL+wL8D/yp+wj7iPpU+nD69vrz+/b8I/3++/P5zvf09XL0ovMZ9L31U/eF90L23fSh9KP1/fYU+CX5qPp2/Mv9Iv7L/Z79Sv7z/zICFgRMBN4BRP2E+Pn1xPaG+j4A5gYhDTgRHBKLEKoOSg6qD9ERnRNDFCsTDRBGC8wFoQB2/LD5YPju9yf3GvXr8Y/uv+t66afnvOZb51vpk+vT7PPs1ex77TTvr/F69D33kfkB+3H7bvvC+7n89/0d/zUATQHjAVEBu/8j/lf9Iv3N/Dr89vtS/Oj8Lf0v/YX9mP45AN8BBQN+A4sDpAMKBJkEFgWRBUcGLgfRB8MH9ganBSIEtAKhAecAMAAy/xL+Mv2d/Or7zfqO+bz4mvjn+D75Y/lA+bn4tPdN9gL1f/QU9Vf2a/fG96P3m/f395n4Zvl6+rr7oPyu/Ab8Wfsr+3H76vuO/H79kf5O/2r/NP9b/ygACAHzAHH/Nf2k+7X7T/2q/xACPgQtBtQHJAkbCsEKNwvIC8IMBg7ODjQODAwoCagGBgXqA7wCLAEv/9X8T/rw9+L17PPF8bbvge567uPumO5b7TLsSuyn7TjvD/Bf8B/x4fJG9Yn3WvkB+6r8Bv64/gT/kf+LAGwBywEbAhADhwSFBWkFsgRYBLYEbQUfBs0GfAfmB7UH6wbgBfAEUAQQBCoEjAQNBWgFTgW3BBAE5wNHBKIEcQS9A+ECAAIHAQ4AZ/8p/xL/6P7E/sX+vP5U/nT9YfyJ+0771PvN/Jz92v27/br98v0q/ln+0P60/6YAMQFMAT8BKAH2AMAAzwA9AcUBEgIKAsgBdgFCAToBNQH/AK8ApQAHAXABVQGiANP/ev/v/yoBvgLoAw8EWgOpAskCzAMbBRUGegZ2BmkGogYWB2cHQQenBtQF9gQjBIgDSwNUA04DAwN/AtwBFAEsAFH/s/5S/gP+pf0l/XX8rfsc+wf7Vvuu+9n7Afxd/Oj8d/0D/qv+d/8xAJ4AvADPACkB5AHNAqYDWwTxBEwFQAXlBK0E7wSOBSkGnAYFB2AHcAclB9YG5wZUB8UH/gf/B8kHRAd4BrAFTwV8BQMGdAZrBtgFCQVbBOMDbgPnAnwCYAJ7AokCZwIrAvEBxQGmAZkBnQGoAaoBkAFMAewAnwCSAMAAAwFBAXoBmgGIAVcBVQGmARECQQIoAvUBtgFQAc8AdwBvAIcAgQBpAIMA5wBkAb4B6gEAAhQCKwJFAmgCmALIAtYCogJIAiACeAI8AwkEjQS+BLEEbQQPBOgDQgT9BKMF4AXYBegFJAY2Bs8FGgWjBLwEEgUOBYcE7AOgA24D3gLqAQ4BkwAsAHb/mv4i/jb+Yv4t/qn9Pv0Y/Qb93fy7/Nj8OP2s/Qz+YP66/gj/L/9D/5D/PwANAYEBeAFIAVcBsgEcAmwCpwLTAuUC6AIAAzYDYANUAyED/gIOA0kDjgPEA94D7gMVBF4EngSgBGAECASzA1YD6gKFAjoC9QGaASwBxgB6AEoAMQAaANP/PP9+/u39rv2f/ZH9i/2p/d/9/f3q/cD9sf3a/S7+fP6U/nf+U/5L/kT+Df6t/V/9SP1N/Uj9PP1G/Wr9kf2v/cL9zP3T/e79NP6Z/vn+QP9x/5L/nv+i/8L/DwBtALEAzgDWAN0A+gBCAaIB3wHPAZ8BogHkARkCAQK6AYoBewFfASMB3wCaADAAgf+m/tj9Ov3J/HX8L/zm+477Mvvp+rr6jfpC+tP5XfkS+Qz5OPlj+X35pvkI+o/6+voh+yP7O/uA+9r7Kfxp/Kr8A/17/f39Zv6p/tz+Ff9Q/4D/uP8cAKIAAQEEAcgAnACeAKIAeAAnAOH/vP+q/47/YP8v/wj/7P7T/rD+eP4r/tT9hv1Z/VT9XP1L/RP9zPyS/GT8N/wa/CH8O/wz/Pz70fvy+0/8ivxf/N77Xvsu+1/7t/vd+6b7UPtD+5b77vvn+5P7WPtj+3b7WPs0+2P78PuI/OH8+fzt/Mf8jPxe/Fz8fPyi/N38Tf3V/SL+Ef7l/ez9Ff4V/vL9BP51/vf+Mf80/07/fP97/1b/fv8bAJ0AVwB5/wH/h/93ALAAxP9a/mf9Pf1t/VL9qfy0++76nvqh+qn6lfpz+jz6z/lF+Qf5T/nO+RT6Ovqx+nX72/tt+6r6cvrt+nP7g/tn+6v7WvwL/YP95P1O/qb+1f7//k//tP/3/wsAFwAsADoANgAzAEEAWgBzAJIAvADXAM0AtwDGAPQA+QCrAD8AFwBDAHUAYwAkAPn/8P/f/6z/Z/8d/7f+Kv6i/Vj9U/1p/Xr9i/2c/ZT9Y/0o/RP9OP1+/bP9v/23/dH9If52/o3+Zf5E/l3+kv62/tn+H/9s/33/Vf9K/4r/1v/X/5T/Wf9O/17/d/+h/9H/5P/T/8j/5v8bAD8ARwBHAFsAlADsADcBRAEkATABogE0AnECQgIIAg4COwJUAl4CgAKsArICjAJnAmMCZwJRAhYCvgFRAesAtACzALsApgCAAGcATwAYAMf/ev8q/6/+IP7p/U7++v5W/zv/Gf9V/8z/JwBlAL4AJAE4AdwAgwCfAAwBUAFjAakBMAJxAiUC5QE7AmsCEAF3/pD9egHHCb4RCBRrD/IHOwNsA5wFZgXSATD+yf2w/xUAuP01/Nr/6gekDgUPjAn3Anv/xP+xAaYCbwES/w/+7v8JA4cDef/w+fr4fv8vCYMNwAdT/Cv1C/i+AMQFagIn+9j3Ufu4AREGNQcSBw4HmgbWBC4CCwB4/1IAmwFXAlQC+AF8Aa4AnP/y/jT/7P8/ABkA7f+s//n+ev6v/7wCdwXCBTwEYgNOBNkF7wYhCCYKFwx4DHALrgpJC7EM0g1ADgcOOA00DLoLKgznDOwM1gsTCl8ITwcJBwwHgwYeBWADygE0AHj+Nv0X/WH9gPwX+qX3oPbS9ij3Svd393P3zPb/9ST2Q/cX+N/3g/dQ+E76ifxu/g4AcQGOAtcD3AU/CN8JTQp1CnYLPg3FDjcPgw4gDboL6QqyCmUKXgm9BxwGuQRfA/EBkQA0/5397Pui+vb5ivkN+bf41PhN+eT5lPo0+0f7wPqd+tv7Bf62/4gAdwHqApoDcAKbAHQAfAKpBAgF5APXApwCrAJ6AikCEgJhAkEDqwTvBfoFbwQRAp//p/xS+IrztPEk9icAEgp+DXkJJAQkBTYOuhm0IE8hDR/nHbQeGyASIVghciCNHXsYLxIdDFsHGQRUAS79W/ac7WXlxN/T3B/bFNnn1dLRIs6azAXOStGH1BjX9tkJ3t3ieOfh6xXxhfc1/qQDYQd9CmQOKBMTF14YiheFF7oaFyCkI34ixB1qGXIYgBqYHLAb8RYlECUKggZ9BGACkv/T/Lb6s/gq9qbzc/Is8x/1CfcF+Pv3tfdt+Kj6Vv2o/g7+2fyG/PD8v/xV+3v5PPjG95b3K/cY9u7zsfA97bDqX+nd6P7oR+r77AbwkfH38MzvlvBa9LL5Y/6IAcsDsgWABiAFlwEF/c74vvZ5+bsCChCLGoUcdxdHE4oWbCDCKtkwpDICMmIvMipIIw4dLhn8FiUUZQ7LBIv44+wr5fHhM+BH3H/Vcs7AyXTH5MVcxBzExcZjzEHTXtn03ePh9uZr7sn37wCtB5cLSQ6cEYQVJxgsGIsWbhV6FREVqBLiDocL+AjrBdMBLv6d/Kn8ePxR+zf6Evpz+p/63Prs+8L9j//gAAcCaQMHBcMGggjqCXAK3gmOCPgGWgXiA7ECdQGA/6n8x/mg97716fLS7ozqVedz5aDkyOTl5WrnkOgo6bPpo+or7K3uwfIw+F/9ZADRABMAFADLARoFlAmkDgwT3hShEowMQQRb+/Dy8Ozq7JL1tATXEsYYDhYeEdcQ1xYbIHspojFFN/c3PzLXJ68c7xOLDukLSQqfBhb+/vB+4wLaK9Ua0n7O+so8yRrJ2MjRx6/Hp8o00evZ9OI762vyd/h7/dwBNQbsCuAPYBSDF48YUxdbFMoQoQ3rCroHWAMx/lT5PfXJ8WjvX+808nz2E/pi/Ij+cQHOBCcI4QtmEP4UXBjyGfEZWBhCFfQRXxDpEK4RnRCZDdMJ0wVXAc78Z/lu95j1yvKj75Tt2exc7FLrH+qT6Rnq0+vM7nLyffUO98X3FPlu+9D9Yf/kAMYDwgdjCosJEwYuAyMDTgW7B7wJ4gvCDTwNiQgFAFT19ela4G3dF+aT+bwPMx80JSkmICf7KLMqoS2rNHI/j0iuSYhApC+5G1wJ2PsH9JPvfepP4szXXs13xO+8qbYKs1u0frtQxrbQ1tdq3IjhMemj8ir8gwV9D68ZySGAJZIkpiDdG78X4BTQEogQQw3kCIMDC/3D9c7ufelU5kPlpuYv66/ymvsqBJsLGBIXGCge0iTtK0sygTb5N9E2CTO7LAIl1x1sGCMUgw/jCdsDT/6N+Ur1F/H47K7pIehU6DHp5ukW69ztxPGy9Gb1SPXr9gT7t/+4AmQDjwIgAV//T/00+7b5tPmL+zr+ov9F/uH6tfco9tX1EvaK91b7yAAyBSUGOQMo/Un0Xen331/eR+kg/1gY1iwpOa0+sD8RPbY3rTLtMYY24zwwP085rirNFQT/7+pp3E7T5M1py0vMrs8m0nHQFctCxhfG58v/1kvmQPgHCiwYiSBJIzwiyR8oHo4eliC7IqYjtiJGHz0YEg0z/7zxoucl4vrgROP252LtSPEB8g/wM+6a77318v+ZDBoariY6MDg1wzUwM7Mu4iiOIh0dYxl4FmES6QuDA4D6C/IE60TmbuSB5cfoFO3z8O7yO/KB783sZexT78b0q/oF/xABTwGTABT/r/zm+Qz4APjs+OX47/YC9MPxs/AX8H/vq++s8YP1+/m0/SEAyAHIA/MGAQuUDi0Q3g7mCYUAjPNY57/iXuqq/EoTPigVOXFFJUxNSylDsTdtLoUqtyrxKronXSAbFswJ6vpA6RfXtchfwfbAo8RvyejN09Er1e7XltpZ3qPkIe4h+tcGQRLbGqgfEyBaHAAWQw/HCdcFBwMWAcz/N/7S+sL00+wM5YDfft1l38Lkc+z39MH8dAJMBdQFQQY+CbYP9hdyHzElvinHLPIrHSV2GRQNTQNC/Gf2RvGa7VLrFOkI5gDjL+G24FXhpONQ6FXuZfNp9o34MPvI/c/+J/5i/cH98f4MAM0ANQG/ANz+CPyD+dP3GfZv84LwRO/i8F30f/cu+UT69/vz/fv+YP+VAWsHJA+EFKQUuw8iB477oO4k5R3ltfA1BMgZHy5BQPRN/VIDTRI/wS/7I0wczhY4Em8O9QrtBez8nO71233ICbkUsZmwubS4ugfCIcsp1bTdHuNX5vTp3e8w+MYBHQu7EooXPRkyGLQUpA4dBnD8+vOS7gvshepz6A7mceR846ThZ94W3O7diuRp7Sn21/42CA4R4BYUGbwZFhuoHUEhFyaSKwMvdS3FJo4d8hPpCTD/bfUM73zs2etD64fqYuoI6wHsGu3R7sDx2fVN+jv+agFRBDUHhglmCq4JBQj+BYsDmACs/Yb7SvpZ+dr3XPUX8tfucewE6yLq/Ono6+Hwtve5/akB/gSeCe8OMxKEEToNRAZz/Lbv4eLA2zrfTu1dAYsWIysYP+dPE1jhU+RFPjVAJyMc9xHmCNQCrv8o/KH0COjJ10LGGLYZqjmkmaQcqrSzSMDBzYnZfeK76fTwgPii/y8GFw0TFWMdACT3JpAlgyArGXkQrAYk/FLyZevB6NLpgey37pvvoe+q7yHw8/Bw8un16PyBB7gT1h5VJ0YtVzELNNM1EjejN8Q2AzTsLzYrcCU9HTsSIwZt+yDznuxd5w7kj+Nz5ULo+uqO7frv1/Eu8+30pvdx+uf7GvyI/PH9R/8//w7+1vz6+xL7FfpD+Q34SPXk8FHsn+hj5WriY+FH5FnqZvBv9Jb3x/uvAD4ERAXzA+//xPeK60PfWNkP3qzsAQFvF8EuGUbkWWNkQWIXVnhGazidLLoh3heQEAgM+AcnAab1quVu017CUbX4rJiomagoryu9Wc8A4AvsGPUe/lQHkQ4fE38X0R5LKeczNzu5PZw7SjUOK+4d9A8AA7X3G+4Z5zDke+Wy6CzrgexQ7m7xnvTB9kT5Bf+yCK8T/BxqJMkrfDNhOYU7yzrCOWE5KjiZNCgvAymjIR4X4QgQ+dDq599u2P7TS9Le0hXVe9iP3E7gvOII5Hjl6ef46u/t5fBY9A34Evu9/BX9Z/wn+wL6Xvmm+PD2Y/Q78uHwHu8A7PTow+hj7NrxnvZJ+mT+4wONCeYMggwvCbYEu/+p+XbzcvGL+EcJ0x7lMzBHd1maaG9vUGutX6hSRkeFPEEx2yZ/HxEbjxZNDqYAJu8+3XbNwb9Ds3upcKbUrKi6qcq22CDkHO5N9yD/zQR3CJYLUBDFF6YgECgeLDgthiy1KR4j6RdiCUn6Mu1h44zcsdem1J7UWtjd3U7h2OD23tnf/eRa7J/z6frEA6MOGxpBJNArXzBtMm4zCjWrN+05yzk0NlYvwSXUGTAMEv7H8OPkgdpm0j/OHs/Q017Znt3m4OLkG+pO70XzevZR+gn/LwNGBYAFgwWxBvQIJQtGDDUMZAsTCvUHjwQAAGv7QPgL9//2Cfcn9yv4Ffpz+wT7kfkO+br5MflX9bLv8+zw8JL7ywnYGCsoXDi5SAtWTlwjWnVS80mZQqE6NjAMJcgcRhgjFH8MAAFA9C/oN9zFzs6/qLHhp+SkHqhzrji1jbwtxifS2t2R5jDssfDF9bD77AEACMYNkxPHGY0ffiKvIDEbUhX2EKkMFwZt/VX19O8T7TfrjOlR6P/nZ+ih6N/niOZP5qnoTe3f8t34GQAkCRETQRyeI7QocyuVLIst6S5rL6YtMyrSJnEj7B1MFasLqwND/Z/2gO/S6e3m2eXx5OrjdOOy4xHkPuRy5ALlPOZ76Mfreu/s8kT2F/pB/tEBMwSvBbIGGgebBmQF+wOxApYBuQAUAHH/m/6b/ZX8rPsf+/P6KvoI9wXxSOo45ljmUOll7fPymPtQB10TUhzmIHgiByPWImIgvBqeE14OkwyADGELoQjlBTQEawK5/p34BvE96XPisN1B24Dawdok3Nje8OER5CTlPua856Tocehq6CzqhO3W8Fbzx/Xw+G/8Zv+OASQDSQQSBc8F1AYLCBwJ5wmKCiELrgsiDD4MpQtMCrcIXwcYBm4EgwIOAYsAzQCCAZ0CFgS6BU8HtgiyCf8JvQlqCRYJJwhJBi0EtgLKAbAAb//n/oX/mwBgAacBUAHb/0f9svon+TT4sPbC9N/zm/Sh9YP1lPQN9PPzDvPc8IHuae3O7f7ugfBV8l30OvbC9yn5lPra+9b8tv2l/kb/4P5J/Wr7i/ra+vf6TPni9Y/yIfG78SHzevRG9pH5g/7pAzEItgo1DOQNJhA+Ek0TYBMvExUTwRL2ERYRhhANEEcPaQ4EDgEOfg3SCy8JJgbpAov/iPyL+qn5UfkX+Sb5xfmj+un69fkF+Cn2avXg9Z720vbs9jj4NvvE/kIBOgJoAlACkQHA/1b9QPvU+bX4rfcZ91H3Hvjz+JD5Gfqz+kf7rvv5+2z8Rv2L/g0ApAFWAzIF8wb3B8sHxgbTBZQF3gUmBksGrQaKB4gI/AiVCJ0HqQYaBtsFkQUHBXAEGQTeAxYDPgGt/lb87fpd+iv6E/oo+n/6BPuW+x/8i/zS/Pz8Gv1I/cn9+v7wADQDGgVjBi8HYweRBrkEqgI6AXYABQAaADYB/QIeBL4DdgJbAZgApf+J/iL+/v64AMMCHwXyB9MKCA0+DpQOMA5UDbcMIw2QDhYQAxGVEUsS3hJKEuYPCgy2B7YDRwBa/Q/79Pl9+kL89P1q/rP9y/xN/Mb7ePps+Hr2cvV59Sj2E/cd+HH5IPu6/IL9Nv16/Db8h/y1/Cz8PPus+uj6zPsL/Vb+Vf/K/+D/DAB9ANsAqADP/7n+Ff5t/uX/IwKqBEcHHAoPDXMPfhASENgOow3cDIEMdwy3DFQNXQ6VD0QQnw+YDRIL+whcB6EFmAPHAacAGQD4/7cAzQKPBUIHoQYABMsAPf7n/A79v/5eAa8DowQkBNcCUAG9/xf+ePwf+3f67/p+/F/+ov8bAFMAbwDC/9z9pPuQ+t/6Xfsh+9P6m/tC/TH+R/0g+1P52/iK+cf6e/wl/xIDmwdeC5gNFA84EQAUhRUZFIUQcw2nDGMNug3ZDIkL4Ar6CvUKvwnvBh4DdP+Z/C76fPer9Nzy5PJR9N71uPYE92T3Mvgu+cP5nvk4+Yb57/qo/JP9qP0T/qn/uAHOAlQCDwH2/xr//v2W/Kj7Ffzr/ToA0AEbAn8BzACBAJwABQHuAaoDKwbpCD4L5wwLDrcOeA6fDCsJQAVnAj4BJAFcAfoBWAPyBIwFngTxAmYBxv9B/Q36gfeb9uH2LPcc90j3Lvhp+Q/6dfmb9yj1KPNw8gfzQ/Sq9Yn3Wfqs/RoAqADb/yT/P/+L/zX/pP4j/yIBaQNkBPsDTwOfAi8AC/rH8Nvn++Je47vnbu4J984BJw4CGt8ikyf9KN4o8Cd1JeggvRuXGJ4YQBr9Gt8ZXxdaE2cMqAFz9Fjn7dtV0tHKpsbWxnbKBM900oPUENay11LZ0Nqm3MDf3eQX7Mf00P1FBu4N9RTkGkse9x2hGroWLhSsEq0Q4w28C1YLxgv+Cg4IywN7/5n7I/hp9SX06/TB9xz8BAF+BfIIOwssDHILIQkZBoIDBgLWARQDlgVgCBIKCgqVCN8FjgHs+4j23fK38Pvuju0w7Xnte+xF6X/lgeOA4+Pj/uPo5Jvnh+uS72PzFfea+iP+QQKzBtIJmAqmCnQMNw93DukGtPpw75vodOU75L7lmuyK+YQJsxcFIeQlmiguKjUpDiQaHKoVKhTTFsoZShrVGDYXSBWGENAGHvkW6+rf2Nck0WXLvsgcy9TQjNXJ1jnWyNam2OHZUNrd3A7kqu4a+WoBqAhEEGwXrxvBG9oYTxVLElsPEAxmCdQIJwpCC4UKsgiDB+gG/wTqAG/89Pnf+cr6svu+/CP+ef9VAL0ApQDv/x3/Uf/zABsD6AS2Bi8JqgueDI0LbgkaB1QEpgBN/NP3lvMk8D7us+0E7S7rQunx6OrpK+oU6YvoY+oA7rrxgvWP+s4AeAZtCnoNSRAVEdYM0wJk9tPsiOkk7B/yEfrjBEETZSL/LDMwgS5oLNoqDyftHzsZxRdvGy4frB5FGtEUMA9rBwH8pu5C43/cxNmY2J3Xyddm2mvesuA533Tb3tiB2ZXcc+AC5cHrpPVYAc0LkRK3FT8XcxhjGKEVBhGTDSANXw4BD+AOpg+qEeQSYRGBDfUIlwRhAMn8wvqA+lz7/fxt/8sBUAJ2ACD+bP0k/rD+Jv+KAYMGjwviDeUNMw52D1AP7wv5Bm0DkwHm/g76L/U38wL0mvT18hPwGu6V7Wbt0+yM7MrtR/EO92v+xQVqCx8PJhKlFKYTZwuF/H7tq+XD5pfsPfPW+8YJGxzpK3wyEzD4Ki8oxiYjI1EdyBndG1wh+yQNJCAgRBu/FHMKkfxr7rDjrd1N2wbbPdwY3zDjn+bQ5grjCN4E3JbeRuMF51TqbfBi+soEbwsSDgIQKxOIFVIUWhCdDbEOHxLZFBYWehfNGR0b3hgUE00MrwYPAkf9i/iM9Xv1pfdC+hP8EP3N/aL+WP9+/yv/Yf9EAcIESAhvCm4LVQz8DNQLOAjmA0YBiACo/0j9iPpu+T76TfsW+7T5OPhY9x/3YvcQ+FL5ivvr/soCygVVB4AIVgo9C4IHxv0c8ibrseui8OT1+vuKBt8VQCRYK+4qWCiJJ/wmViNcHfUZSRykIUUkQyGYGpQTuQzUA5n3POob4PHbnNyX3nzf2t+K4ZDkb+b75Gjhi9/U4cjmPuuh7pTz6vtRBXsLGw0RDSoOWw/RDbUJ0wYRCCgM3A8tEokUdRcFGSwXOhIeDDwG+QCr/Kz5tfcs9jb1a/Vj9rT2+/XO9br3Dvvc/bb/4wHQBMgGOQYmBB4DJASzBd8FhQT8AkcCAgLdAPr96/l/9gT16fSL9Jjzs/Ms9tv5YPwn/eH91P8pApkDdgSGBWwFUgHc+P/vsOsk7bfxMfdn/skIhxQlHS4g5h80IJshACGIHA0XOhXkF/oaXxpAFqgR5A0ZCV0Bg/cT7ovmnOCi27vXc9VA1WLXgNss4K/j2uVB6PbrqO8+8SDxevJ693X+zgMuBoYH1glfDP0MgQthCuoLqg8hE3gU3RNdEkEQ9QwkCE8CcPxd97jzw/EQ8bbwXPDJ8LfyVPXO9qr2hPbp9zD6pPsu/Fv9vP/ZAYECpQKYA20E7ALp/tH6cvjo9rT0j/KG8uz0u/cV+f74ePgZ+DD4R/mE+y3+qABDA8UFrgXk/wb1xeoW52Dq/u/Q9FT7jgfnF+0kOCmIJ9MmFSkSKSYiiBcJEZQR/hMYEh0MBQcMBeICdfwS8njnTt9X2WnUUNCJzY7M9s0n0vfXw9wv3zjh1OWZ7Mbxg/MM9YP60QKiCJUJkwk0DVkTHxcTF+IWaBlPHJUbRRfsEkEQQQ3gBzcBtfvo95r0L/E07u/r+Ol26Iboter/7f3wrfMG9wT7Ff4E/7/+Zv+PAYADhQNWAgwC/wIiA+oAsv34+xr8KPze+jP5nvgV+Zb5rfmm+dz5k/p6+1z6wPMe5yLa79QC2vbj9uxY9rQFLBuSLhc4JDl3OXs8Jj2pNUgolh2vGi0cmRtBF4ISnQ8/DKkEPfiQ6YTb0c+Px0LDOMJMw4bGkMw71Dzak9wl3WnfO+ST6Uju8fM1/LsFeg2REjYXZR3wI+EnQSgXJ1Qm+SSPIOIYqBD9Ce0Dr/wI9WvvOexX6frlQOSx5S7o0+iR6P3q5vAV9yf7tv7dA/4IugrzCO4GmgZ8BhEFuQOQBAYHpgiBCMkHKgeIBTgC0v5S/Uz9jvxo+jj44/XG793ixNKmyGHKo9Q64PHrWv3yFooxxEJ8SKdJ/UvlTLtGJzqJLpwpuylPKZwlYyCxG0QWwwyw/UbrlNlLy7PAPrk/tcW1KbsWxPTNL9bS2zngrOWm7BXzIvc3+sH/2wj4EmgbtiLnKoAzVzlPOnM3xjJ3LHsjARgFDHEBv/iI8Z3rBOdV49TfXNzK2SXZgtpF3W/h6+cG8Sb76ANVCgcPZRLpE5UTshJeEmkSkxK/E2MWpRj4F3oUuBDfDUcKnQSA/vz5r/WM7ZLfpc6pwI26oL21xwrWh+gNAUoe6zgtSRVPzVHpVc5XMVIAR9U9pjouOsY3tTI5LJ0jIhcYB4H1huO30RzCbbcxsquwNrJmuLXDzND52tbgAuVX6rvwFPap+dH9+QUBE8Qh2i3DNX07rkBTQ5s/rTQWJjIYWgxOAWD23+xy5hXjTOHg39HeqN5b31PgdeGx4zXoKe9497z/BQfZDOYQFxO+E5ETeRMmFHoVVRaSFXwTuRFTET8RdQ9QC9QFRP8+9aXkGs4wuNSriq1wusLMe+KM/T0dgDqcTUpWuVptXvNdblUaSJk9FzniNs4yIS29J28h6BYjB3f0v+F80JDBA7apriusfq/SuMTFMtLJ277jBezU8534IPru+wsC0gwAGbkjdC06OGpDn0qvSedA2TN+JN4RNPzJ51LZxdC9ynfGAceBzY/V8dnl2rLc++Ab5Y7nS+uq8zH/WAlkEKYWuR1YI2IkSyFcHVUa3ha8EZkMGgr5CagIBAP1+LTrF9u2xt+xIaTpoyextcbO4O3/PyQjSA5ip2xPa7plEGDWWMxNuUBkNtExgDHeMLUroCAuEdr/au212LbBbqwZn9ecO6Orrd+50ceu1hzkfe779fn6c/3G/lYCnwpvFpAili1WOLZC00npSS1BzDAXHAEHFvR846vUDMlnwzDEIciMy6fNZs/a0M7RzNPT2G3gmuhf8U38+QeKD+QQQRCiEtQWyxfDFJ4SqxQoGLkYCBYUEuMLP/+r6djNhrJXn6CZy6HXs+/LM+qsD843Y1i9aSttvWlYZPdccFIiRps7DTYKNnI4uTfKL9cgdQ3P9tLc/MHGqyGem5iSmbyhx7ETxmrY3uUS8E34svwX/P/5/fsgBAcQpRzBKOozIz0EQ7FDzTxZLSMYawJA7/XdO85Iw5XAvMRzymzOedGt1JnWAtbm1GXW7Nrt4GHojvJR/sIHxAyDD4kSahQOEkcM4gfLB8kJJArzB6EDFPu96iHT7LpAqgKlpqoIumnTbPZrH5hHmmeeev9/pnp8bgle0kqiNwgpXSJrIhkkpCKkHP4SBgbL9P3e28bisNahnZwqoQWtEL0iz9rhSvOPAEUHSgfzAtb9avvj/VAFzw9IG9EmpTEEOdE4Ki99HuEKXPYu4U3NQ7+Juku+tMZz0NbZquHu5s/pZus27BHs1evA7Rnze/qbAfsHfA62FFEYbxeeEgsMpwWbACv9zPny8nDlDtJYvk+x8667tgDGZ9uW9xoaOT4JXMdtq3PqcYlrbGA+UH09pyw0IcsbchqCGWEV5Az1Abn2WOo92unG3bVkrSWvxrckw6fPtt1q7Sf9rQmdDxMOZQg/BBwF4wmGDyEVbRxJJhMw9zSHMdsl5hQ4AirwqN9v0SjH08L/xN3LXtQa3FTihOdJ7HLw8fIX8wbyXfLP9Xr7UQGvBnoMyRK1FzIZQxd2E8kOlAgT/1LwwdulxNKye66yufjOXeccAW0eQD4HWYNm62VYXuhWCFB0Re412yZYH6cg4CQMJSQfkhWCCsb9+u6b3/fRhsdnwTLBcsfR0Z7cWuY08Hr6cAIEBbgCfP/s/vEBmwfODucWtR8TKacxFzYAM20oDRojC4P78umQ2GLMV8iIyjvP19S322Dj3+ny7SXwf/E28nLyQ/PS9dT5wv3JANgDQgijDbwRmxJmEGQMQQZ9+5jqw9Ypx9vB0sce1hDqAgMcIKk9s1VQY2hlql5CU1BGEDksLHchpxvmGwYgySP4I+sfYBjUDZAAovHz4nLWss0pytvMJtVf4GTrgPRp+7D/RgAF/QH4fvR19Lf3c/2rBaEQJB1HKAEv5i94KykjOhhcCyn93O6K4kXa+9Yf2D/cv+E959PrRO+x8fTyqvIY8Xrv4+4r753vd/De8i/3Pfy/AIkEhAcLCJEDXfkB7O7f39ic2FjfYuyE/g8UoioQP0dOv1beWJxVSE1ZQDExziM3G4cX2haBF8EY2RlZGcYVsg4GBVT6/+/S5lffdNpU2Wrcq+JI6vHxBPmH/v8A0/9E/G74cPVX84zyY/Tf+WMCFQwmFWsc9SDOIVQevRZMDAYB5Pb47mHpF+aR5SDo4ezg8X31S/eb94/2CvQd8Ebrd+b44u3hfOOr5oLqGu/y9Er7zP8XAGn7/PKV6bTiGuFD5b7toPnGCZEevzRqRsFPwFGST49KHEKbNpMqnCCLGSsVcxP1E9oU5RN+ENALuAZ0ANj3Q+3h4iXbQdf/1pfZdt4h5YDs0PLM9rf4qfnV+WX4ZPXM8q7y7PTy93j77ACrCEkQ1BQAFpQVLBQ8ENAI6f/4+G71z/Pz8XHviO1S7Yju5e9n8AjwNe/c7XTrGugx5Vrk/eVT6b3tUfPg+RIACgSzBCMCIP3h9ifx5+137iLzZPs8BkoS/B3oJ8sulDH5LyUrOSWdHzQalhSYD9cMyAz+DZMOvA3SC0oJJwZKAtP9JfnK9ETx4O6g7WbtJO6879Lx5fN69T/2H/Zo9aX0DfRa81nyh/Gt8f/yCPV794b6Gv5oAXsD7wP4Av8Arv7Y/LT7Xvr19y/14fOo9OP1mvXl85byz/LX8170KvQT9M/0QPbJ9+f4jfkX+un67/uE/Pv7Pvrk99b15/Sa9e/3XvsU/0kCgQSaBewFFAZzBuIGJAd0B18IAgrJC/sMSg3ADHALiQl/B+IF/wTDBNoE2wSJBBoEAAQwBOMDgAKlAK7/DACiABgAcP6//KP7mvr4+Pj2fvUh9cH14vYl+Er5HPqH+rX62frZ+mP6Zfln+Bz4k/gT+d/4CvhE9/r25/aO9tX1GPXI9AL1bPVg9Zn0tfO187/0x/XN9SH1z/T99KT0//KI8DvujOy765Lsxu+Q9OL4afvN/IP+zgCTAvsCpAIKAx0FlwhuDKsP6RFmE6cU9RUNF1kXhhb1FHwTfhJzEY4P4gyGClMJ0gjhBzoGxgQ6BOkDfwKm/3b8RfpH+ZL4MvcV9RTzO/L08q/0U/Yf9yj3HfeQ93T4O/lt+S35KPnb+ev6Y/ui+hD5tPc994P33ffT93v3P/dP90D3XfaB9Jry9vEH8/L0i/Z99074VPkW+sP5IvjF9ZTzWvK78gz11/jF/IP/9QAjAtIDfAUKBm8F7wTYBUcIYQtHDpQQThLZE60VlxeFGJMXYBWfEywTMBNyEu4QmA/tDoUO4w0ADfMLowoKCVQHeAUpA2IAtf2y+1H6Mfk4+IP3/PZz9g/2Kfaj9ur2rvZK9kH2ovYv9833i/hj+TX67vqJ+wP8afze/Fj9j/1Z/fX8yfzp/Bz9K/3x/Ff8jvsl+3b7IPyB/KD8+vxq/Qf9c/uA+Q747Pal9fL0Pva7+cr9qQANAtMC2wN2BVkHsgjgCIcIWQkfDIYPwRHXEj0UXBbkF9kXFRfkFi0X9xYYFj8VkBR9E/oRwxADEKkO3QtwCAgGEgVRBHcCs/9t/cf8aP3B/YT8A/ro93z3TPjp+KP4GPgq+AL5Pvpz+z38RvzC+5L7Xvyz/YP+Zv77/fH9RP6L/pb+e/5M/hn+9v3T/Wv9p/zw+7z77Pv6+8z76vu0/MP9X/5d/i7+D/6T/TH8Jvql+Pb4Zfvs/uwBYgN8A0EDoQPEBBcG9AZZBwcI5gkNDYAQ8RLkEwAUQhT8FK4VthUJFT0U5RPwE7UTnRLXEDsPZA4BDiQNOguPCN0FkQOeAdP/Gf6G/EH7dPoV+tD5T/mk+C34B/jT90v3wfbH9l33A/iD+D35dfra+xb9YP7//2IBmAGsANH/1v8RAFb/jf2z+3r6wflj+aj5mPqK+/P7J/zD/Kb9LP4y/kX+sP4P//3+pP47/nv99vvq+UP47fdG+fP76P7lAIMBsQG3AqwEXAbZBqsGOAdXCa8MIhB3Ev8SHhIjEQ8RgRFEEesPdQ4PDrsOdQ9xD8MO+Q1nDeEM7gsrCqsHBAXPAiwByP9K/qP8APuj+bL48ffd9kn14fOG8xv0a/SS8zTy1vEk8131YPfR+BL6evvd/LP9g/1f/Pr6Kvot+oP6pvqp+vX6kPsD/Of7U/u7+oX60/py+wH8Q/xo/Mb8Wv29/bH9gP2G/ab9Zv2V/Hz7cvpx+Vv4hPep90j57Ptd/qj//f9pAJsBHAPxA+oDAQRWBfoHwwpEDAUM2wosCpwKfguvCwgLowqMC3UN7Q65DskMGAoACFoHzAfeB1oGqQNmAU8AT/8I/cr5MfcL9oT1nvSS8z3zrvMN9MTzJfPM8tDy0PJ/8gLy4vGZ8hD0hvU79kD2ZvY691z4BPnx+JX4cfiT+Lf4rPiS+ML4dvln+vf63PqI+pz6GPt++7n7VPyZ/fb+vf8XALYAwQGJAm0CbQHa/8f9MftO+Kn1AvQf9Dj2Vvmv+zX8m/t4+3j86v3q/mj//f9MAZ0DlQYgCTIK/gnuCdwK3guJCwcKBAl1CXEKhgp9CSYIDgcTBg0FFAQfA/ABjwBd/3T+Zv3d+z76T/lO+Zn5XPlY+AH34PUU9XL0A/QH9Gf0hvT18zfzNPMQ9Az1uPWG9sf31fjs+IL4wPjM+ZH6ZPr8+Tj6vfqM+o35j/gH+Kf3Rvdi91H4nPma+lP7Rfxv/SH+2v0K/dv8Mv7PAHMD0wRdBLQB2/sN8iHmIt3n257ia+z288T30/kJ/FL+JAB4AlAHkQ/pGbYjrirSLVgtQSr9JQkiWh/vHfwcqxuOGVUWgxH2CqUDSv0F+Y32vvST8o7vseub50vkQuIB4f3fwN9g4azkvefO6B3oh+ed6I/rjO+D86z2//g5+/j9zACtAnIDSgRiBpYJ3wySD5kR2xIqE84SaBIQEikRWQ8oDUMLdgn6BpMD6/+8/ED6Zvg697H2d/ZJ9ln27vaz9/v31Pdg+I36fP31/sL9Sfsl+lD7Pv3M/QP8gPdX78fjNdn51qvg0/Bx/A39hvZH8uX1iv+eCi0Vyx/2KdYw4zG8LSQoqCXIKPYvszUONLIpyRvSERAPVRANEJ0LcQQB/Sf2eu/46I/jTuCI33vgX+Es4D7cpdci1vLZXOEF6O/qGev669Dv2vXe+5MAXAQqCGQMhxBjE+4TmRKxEZYTExgYHLEc5xlCFuoT/xJyEmgRaw9HDFYIcgQQAdD9e/rf99D2lfaQ9ZDzbfLH8xf3jPoY/bL+W/9P/wAAGwPSB40KughVBBAC5APWBqgGXALR+9bzL+ma3BTUHddI5r/3df4g9vXn8uIC7+YGgx2BKConHCFRH2Yl+i/UOIE8ADx5Ofc0fy2iJLoeah7CIEAf9RVQBx76H/T19er6RPwm9qPqMeBS3Arfl+Nc5bzjW+GF4DrhduJR5ObnZe0B81L2xvZU9uj37/wYBBEK+AsfCngIRwuZEp0ZdBtcGP8UxxRpFn4W9xOZEPcN1AtuCbcGsgMVAHf8iPrV+in7+vhD9e7z7vZ5+3r9lfwz/PL+ugOeBwkJXAiRBrYEJASFBU0HqQbrAtv+wvzP+UnwTuBL1IbYluwcAJIByPA74N/imPmsE+AfgRvPEa4PCBn5J7gz0zcjNucy5S/tK7kmPiM4JAAnPSRgF8UEAPdI9Z78JgKi/IXsydtX1WzbxeV46dzi+tff0VnU+Nu94qzlKOY35xfqke1C8PLyp/c//ksDxAOUAZACEAqbFCQbOhr+FGURpxJQF1YbZxsdFyYR+gzHC6ILEwrVBmEDWQD1/C353faS9/75DPt2+Sb32fY7+a78BP/y/rD8HPrL+bH8kgDOATP/Zvvp+Ub7AP3j/P/61/f48Zvna9vB1frdFfHnADYA8/Bf5HDqJwF2FgAbHRFFCPMLsRkMJ0otbS1OK6godCWWIvUh7SO2Jdci3xh+Ctz+RvzpARwHiwJU84Pi9tpq35DoYezx5qfcJtWd1GHZvt5F4crgSt/R3n7gouTG6mfxRvbV99P2TvaX+WsBzQoKEaERjQ6KDLQO3hMfGJsYpBWXEYsOGw2eDNoLtQn1BY4B9v36+1H7GfuO+kH5K/f49OLzuPTW9n74dPgl9xT2PvZQ91r4zfir+Aj49fb19fL1KvdT+JL3pvRJ8Zfu8OpM5D3dHN1F6HP4agDi+THuy+1T/sITJx2JFtELrgrJFOog0CaMJtYk4iMtIt0ePByyHKgeLh0eFSUJ+f9H/iwCwwR7ADz2ZuzD6GLrNe8z74PqFORB33TdVN7U4HjjZOSK4i3fmt124B7n4u3+8Krvs+xd7CTxlfknAREE5QIjApcFVwz5EXYT3xE7EPQPTBBIEL4Pmw5zDFsJRAb0AzUCdgCg/qv8PPqV90L2ZPdr+Tv5M/Z/80T0ffdj+Wz47PZs90v5JvpX+VH4IvhX+Hb4+Pj7+XP6zfll+W36ufom9rjsleXj6OX1iQFKAf/2ne809fcDGQ9qD1MKzAlqEDgYzBtZHIod6B7oHJYXQxT7Fo0cgx2HFu8LxQSzA3IFDgWRAPH5ivRL8sjySPQm9WH0o/Gh7Vvq9emj7O7vpfC97U/p5Oa06Obt+fJ29Pvxwe517prxgvW591/4+/hB+gT8dP7pAYMFbgcqB4cGoAdkCtQMSQ3jC+MJeggoCIYIdwgDB3IELgI/ASwBmQDx/uX8efvc+of6LPoX+o/6Nvtt+1j77Pux/bz/mQApAOj/EgElA6wELAVpBe4FTQYSBo8F6wQiA2T/Xfue+mP+6QLUAp/9IflS+0IDIQolC5wIGQhdCz0P2xBEEbISfRQYFHARvw9GEQgUFRRhENYLtQkmCroKcwl6BjADbQAU/vr7l/pG+kX6MvnV9rv0b/Rt9bH1NPTv8Unweu8n75XvMvFA8zv0zPNz87P0TPe9+RP7m/sf/B79sv6iAGUCcQO3A50DjQO7A0MEEAWqBZsFJQUYBbsFOga2BZgESASQBaMH4ghmCMoGrQVEBiEIdgnyCEgHaQYxB4QI/QiqCHsImAhRCIsHKQeZB+8HGAdoBTwETwQSBZoFjAUGBVIE3wMTBMMELwXOBOQD/QItAj8BdwCCAHoBdAJcAiMB0f9n//X/sgD9AAEBWgEoAtoC+QLXAhUDnwO+AyoDjgKeAhsDSgMVAxcDiQPSA10DfwIOAl4C8wIhA6UCtgHNAE4AOAAbAJT/yP5E/kT+cv5n/jb+Lv5E/hf+jv0m/XX9g/7D/5wA4wDLAI0ATQAxAGgA7gByAZIBQAHWALYA8wBUAakB9QFYAtACKwMqA9ICfQKYAjID5wM5BAkEmwNGAysDIQPgAkYCkQE9AYIBCgJJAhwC2AG+AaoBfAFzAdcBcwLHAqcCeAKlAiEDiwOUAzIDlAINAvMBSwKtAqcCNgLFAbIB4wHcAUkBXgDJ//n/jACYANT/Iv+L/7sAKQHx/w3+Mv3F/Yv+Uv5I/XT8dvwb/fb90v6d/z0AoADDAKwAfwB9AMUACwHgAEYA1v8HAJ4A8ACrABgAn/9Z/yj///7i/sP+kP5g/nr+Df/o/4cAegDG/+z+h/7I/lP/kv8j/yT+JP26/A/9qf3d/Wz9qfwE/Iz7Ffum+n76pfq9+nX6AvoB+sv6DvwS/WD9LP0s/e39P/9SAIoALQAbANAA0QFAAt8BLQGvAGEACQC6/7f/5v+2/9D+h/2E/BT8A/wF/A38Mvx7/Oz8lP1h/gj/Qv8c/+/+9/4f/zj/RP9m/6X/4P///xcATgCgAN8A1QBmAJ7/rv7k/Yb9pf0G/lD+Wf5M/mf+p/66/lb+kf3L/FD8J/w6/H/84vwo/SL95/zF/Nv88PzA/Ev8y/ty+0/7V/tr+1/7KvsB+xr7Xftx+zT74Pqh+kz6uvk++WP5Lfrx+h/73vq5+uH6FPsv+3T7FvzM/Bf96Py//B/9Bf70/nv/kf98/3r/mf/D/+//GwBAAEEACQCn/0X//v7C/l7+rf3A/OL7aft1+8j79fu9+z/73Prg+kT7yPsy/G78jfyo/Nz8RP3i/Yj+8f4E/+j+z/7B/rT+vP72/jj/Jf+i/hb+9/0y/kD+0P0h/Zz8Xfw9/Dj8e/wH/Yz9sf10/Sv9Kf17/e/9Sf5z/ob+qf7s/kP/lv/K/77/V/+n/vL9fP1X/Wn9iP2P/WX9Ef3F/K/8yPzc/Nf80/zU/Kb8HPx1+0z7DPxz/bX+Gf+g/gn+MP5B/4oAJAHOABMAp//Q/2QAHQG0Ad0BdAG5AC4AGgBBACwAqv/q/jz+2f3Q/Qf+Ov4l/s39i/2n/QH+OP4m/gX+Fv45/hv+uf17/cP9b/7y/vn+x/7r/pv/dADZAJEA/f+3//z/hwDxACABSgGeAQUCQQI1AvkBvAGlAbwB3gHVAZYBVwFTAX8BlQF7AWkBpAEZAnECfAJaAjgCCQKnAR8BtQCXAK8AwgC3AJgAbgArAM//df8v//L+sP6G/qP+CP+B/+T/OQCgABkBlQEPAm8CdAIBAncBawH+AaECxwKJAnQCxwI7A3gDfANsA0MD5wJtAgoC1wHAAawBhwE4Aa8AFQC5/8D/+v8PANT/b/82/2j/+/+hAA8BOwFYAYkBugHQAeYBGwJQAkAC7wG/AfYBVwJqAiIC8QEhAmcCRQLDAX0B2gF6AqgCQQLjASsC9gKYA6oDbANbA50D/AM/BGMEeARyBD0E7APHA/0DYgSCBCMEjQNGA3IDrQOKAx0D0wLdAv0C7gLHAsoC+wITA+gCoQJ+AoECcAIqAtoByQENAnQCwwLpAvkC9wLZAqoCmgK+AusC5wK9Aq4C2gIYA0gDgAPRA/UDnAPvAo0CywI+Ay0DbAKAAQQBEAFRAXUBZQE2AQ4BCwE5AY8B+gFjAp0CfAIQArgBtgHmAe8BvgGNAX4BcQFaAXEB0wE3Aj8C+wHNAdwB+AECAiICbwK0AsACvALwAlwDuQPiA+8D8APPA5ADZwNvA3EDIwOSAhQC4QHTAaYBUAEJAf4AEgEBAbcAbgBqAKcA6QAVATkBVQFNAS8BRwG1AR8CFQKwAXwBvwEnAkUCHgIHAhwCJQLsAXkBAAG4ALkA7QATAfwAvwCVAIwAgQBgAEUAUAB6AKoA0wDtAOoAyACaAGcAJgDy/wMAYwCpAGQAsP8k/x3/WP9e/yX//f4R/z7/Wv9q/3r/c/9M/zL/VP+U/6f/j/+2/1kADQEdAX8AAABEAOIA4QAdAIj/xf8jAI7/WP4o/tv/HwL6AjYCfQH4AcgCYwK7ADP/q/6J/vj9UP2F/ZP+Vv8F/zD+3f0q/lf+9/2C/Yv99f1D/l7+oP4u/7P/3P/D/7T/xP/d/wAAQACIALgA5gA6AXcBAgHE/8P+Vf+FAcQDfgTOAykDZAO3A/8CdgFxAJEA+ACcALX/PP9k/1n/l/65/ZH9/f04/v79zf0L/nf+pv6X/o/+rf7u/mX/EQCqANUApACHALcA9QD8AOUA9QAaAe8ATQCa/2n/yf8rAAsAgP8J/+n+6f7Y/un+Uv/G/8T/X/9F/9r/nADIAFcA8v8NAHgAvgC9AKAAkwCfALUAsQB7AC4A/v/i/5D/7f5Z/j3+fv6u/qf+rv7h/vv+yP6N/qv+GP9z/57/2P9BAJ4AtAClAL0AAgEzARwBygBwAEYAagC6ANEAcgD0//j/mwA6ATwB3ADBAP4ABQGsAI4AFQGuAYIBwgByAOkARwG9AMH/ZP/B/9L/4v6C/dv8W/1e/g3/O/9p/x4APgEGAtcB7QAdANj/s/8u/3v+O/6L/tv+yv6j/sb+9P6d/tb9d/0g/lv/AwCd/+r+/f7B//b/5P60/WX+UwGIBO8FnAUvBUMFtQS4An0Ayv9/AMMApP9j/n/+b/9S/6j9Cvz6+938/vzz+wn7V/tX/OT85/xF/Vb+Xf+t/7T/QAA8AcUBiQFBAZ0BMwIpAo0BUwHaAUoCuQGMAPr/XgDeALkAUwBuAOQA7wCAAG0AGwHFAY0BwgBdAI8AnwA7AAgAjAA3AScBgAA/AMsAYgE1AXAA4f/j/yQAQQA0ACQAFQDx/7L/Z/8h//b+9f4d/1L/bv9U//3+j/5D/jj+Tv5b/lz+Yv5k/lb+WP6U/uP+7v64/rP+H/+c/6//eP9s/4z/bP8D/9v+Of+Z/3n/Mf9w/xEANQCS/wT/cP9+AAkBmQDo/8v/KwBgACgA+/8+ALcA2ACBABUA6//l/8X/nf+z/wEANgA1AE4AswAJAeAAfACsAKcBmwKlAvoBjQG/AfMBlwEAAc8A6gCkAOX/XP93/6T/L/9l/jf+xf4k/7v+Lv5k/hz/Sf+0/mT+Jf9VAM8AeQA/AKYAMgFUAUMBbAGOARQBIQCT/77/5P9D/1/+df67/9gAiwBe//n+4v+zAA4Alf4n/lT/gQAdAK3+//20/pb/ev+6/mX+u/4q/2v/vv8vAGgAUAA+AD0A3f8q/yj/fgAeAjECjAAZ/2f/ngDDAH7/gP4E/wkA1/96/sf9zf5NAGYADP8O/rz+VQBBARYBxwD2AAkBTQBR/2P/zgBPAoYCkAG4ANkAhAHKAV8BtQA/APT/kv8P/6L+k/4J/9n/fQB0ANT/S/9R/4f/Uv/s/jP/OwDSAP//mP5p/sr/7AAbAPn9wvyW/UT/7f82/2T+of7F/70A0AAhADv/ff40/rT+5v/fAJcAV//J/gEAzwEFAkAAZv4L/of+af7n/W/+JABUAdkAtv95/wIAEAB4/2L/PQDLAO//gv5N/oL/YwCl/zj+FP6c/yUBLwFLADQAWAEzAl0Bhf+n/pr/NwH8AbUBKQHHAGgAJQBnAAAB/ADx/+L+If9TAKoATv/N/Tv+PgA2Aab/av17/QAAFAKRAcL/S/95ACAB9v9o/l3+b/+z/7L+Af69/tD/p/+0/tT+SwD9AG7/Yf3j/eYAywIXASb+Hv4dAdcCtgDa/df+DQMnBXcC0f5G/ykDAAUKAuj9lv3UAM4CygCz/dn94wBDAon/5vvO+8L+DACZ/RX7tPzqAGQCbf8y/MT8m/9XACf+efyw/ez/NQDU/pr+vwBNA8wDMwKMAF0APAHNAWwBrgBmALEA+ACxANL/1v58/kz/5gABAqcBgwAqAAIBugFdAeUArgEIA90CwwDO/sT+3P9UAC8AxAANAjQCTwAl/vz9gP8iAKX+5Pxk/cj/BgFM/3r80vu9/Vv/kP76/In9GABpAcP/mf07/gYBGAKu/8n8R/2lALUCMQG1/gj/6AFsA3QBnv6n/kIBhQJdAHX9gv09ANEBEwBW/T/9CABRAlYBNP5i/LP9kQAlAnQB7f87/3n/u/+l/7D/NADkAEMBEwFHADr/1v63//wACwHl/4L/5wAsAgABZv64/fH/IQJ8ARD/C/6K/7oBfgJpAYf/if7P/6IC3QM9ASL9efw3AGcDpQFt/c/84QAYBP4BVf0o/KP/2gKbAar9B/yF/ugBSwLC/8P9if5XAPz/Sv2a+2393gDAAeL+sfsg/AcAlAO7Az8BSv/p/zgCkQNSAq7/mf50AAMDqgIC/+z7Df0pAbEDqwLSAB4BXgJqAXn+Mv0v/0IBAADR/An8lf6cAPT+hfu2+qT98gAPASX+f/vK+3P+fQDT/7b9f/19ANsDnQON/9P7UPxHAJUDWQOWAHH+1f4PARgDogP6AiMCmQFWAYcBVwLpAvgBCwDC/1cCBwUKBA4AC/63AKAEsgT8ACj+5v79AFwBTAAJAPoAmgEYAQEAnf6n/Pj6VfvJ/bf/6P6R/Nn70/1xAHYB4gAOAKP/Zv9J/3b/k/8D/wH+nv0//tv+R/7y/JD8EP5YAFsBRwCI/mz+rQBiA7UD9wCg/cP8yv5NAQkCDwHf/1H/Wf/1/xoBywGeAM39tvuF/LT/ogJUA+8B+P/Z/ib/UQD8AEwAQP/Q/10CsARjBNoBt/+X/34AwABAAA0AZgBsALT/Ef9k/z8AhgAVAPv/0ACYAeYABP///Tz/bAHgAdn/tP0v/voA7wLOAd3+Rv1o/pIAXQFVAOr+UP5T/jf+9/0o/vT+wP/Z/y3/RP7O/UT+oP8dAXsBCQCq/Wj8nv2BAMQCtgK/ALf+Ff7h/ioAIgGMAYEBGAFuANb/vf9eAH0BZgJTAgkBPf8l/of+CQCUAT8C3AHAAGr/fP6o/hoA+gHdAhMCUgD6/q/+7P7l/pP+gv7b/gH/cP6h/ar95v5rAAUBeQCN/wv/JP+j/0sAuQBzAHz/lf6S/kT/mf/n/tj9tv3t/pYAdAEnAVAAtf+M/6P/3f9JAMIA2wBhALT/df/y//EA+wFtAqMBov+3/bL93/8wAkQCJwBT/qz+UQAGASoAR//B/wQBeAGyAN//KgBoAWsCUQI8AR4A8f/gAAMCHQIDAfD/BAC+AI0ACf+x/Rb+uP+qAA4ABv8E//L/iQARABP/hf7P/qX/YABjAID/K/4l/df8M/0e/nv/wQAGAer/QP5c/bz9vf6C/7b/f/8l/wb/bf8wAKkASwBE/0n++P1v/mr/dgAsAVoBEAFbACz/tP3G/En9Mf8+ASUCygEpARQBSwH5AO7/FP+O/2EBNgOBAwMCAgAS/67//ADAAXEBmgBBAOcAAwKHAv4BAAGCAMcARwFfAekAKAB//0D/gf/b/67/3f4Q/gD+nP5C/6j/BQBkADoAOv8c/vj93f6P/wn/0v1Q/fr9zf7G/k/+nv7n/+UAdwD7/rf9U/2G/RP+Kv+MAC8BUQCs/sf9SP5f/woANABmAN0AYQG7AdcBogEpAdkAIAHOARoCmQHKAIMA7gBrAWAB5QCKAJ4A2ADKAHAANgBXAHoAOwD0/20ArQF7ArgB4/+o/uf+1P80AM7/G/9a/qj9qv0B/+AAUwGI/yb9j/wO/qz/vv+y/gj+Sv67/qP+Mf7//Sn+Qv7//an9zP2L/mT/s/95/1H/nf8EAAUAq/9r/3H/h/+1/1UAWQHvAWUBGgAZ/+T+Pf/n/wMBYwInA58CSwFnAIwAKAFgARkB3AAHAVoBUQG/AAQAtv8UANUAcAGiAYgBVwEtARwBLQE2AfwApgC+AHgBHwK2ATAAmP7x/Uz+Gf/1/7IA+QCCAKf/Mv9e/4r/Jf+T/qz+j/9tAHkAp/9t/k79w/ws/WP+ff+M/7D+Av4u/pv+S/5j/Sr9WP7x/1AANf8a/mf+s/9QAHH/J/4T/n3/FwGKAcAAq/8a/yj/nf9rAJ4B8gLCA4UDRQKyAKD/ef/8/4cAuwDJACsB7AFkAt0BjQCg/wkAcQGLAoECvAEkAQAB2ABTALn/jv/7/8wAqwExAvAB4QCt/zH/pP9RAGYAxP/z/or+q/4O/0f/Hf/D/rv+Rf/c/5X/J/53/Nn7wfxQ/kn/Tv8I/xD///7//U38lvtA/V0AIwLDAIf9a/vw+9z9L/95/7H/XgDeAIsA3v/b/7oAmgGPAbgAHwCVANgBxQJ0AhgBuf8a/yv/gv8KAOwA7wFrAvIBwgCA/7/+7f4mANQBvwIpAskAMwALATcCMwLrALP/lv88ALIAuwDZADcBOgF4AJn/lv9KAGkAO//l/Tv+ZQBxAn0CtgDG/t39+v3H/iMAgwG9ATEA1f1d/Jf8C/71/7wBjQKVAVf/2f2o/ssAxAGGAIz+uf37/dv93fxI/Gb9qv8oAbQACv/I/bD9Jf5m/r/+BwAqAq8DRQNEAVH/iv6+/jv/w/9NAIoAQADy/2oAoQGHAicClADS/h/+XP9ZAlkF6gUiA/r+q/yM/eL/DgFiAHP/8v/AASQDpAKcAO7+IP/eAHwC1QJJAqEBvQAU/0T9CP0Q/5gB9gFx/xz8uvok/M7+jgCSALb/MP9O/5v////qACgCSwJBAEj9Cfx0/XL/if8M/mH9k/4FAPr/Bf/6/ioAEAGJAFL/yv41/8r/IgCiAGUBlAFHAPv9bvzi/Kv+/P8AAKz/MQAoAe8A2P5D/F77C/0zAL4CDwM3ART/pv7G/ykAhf76/Mn+nQMaBwkGcgLaAHACFwQgA6EAZP9WAHgCwQQ+BigFbwCS+pv42vy5A1wHxAUPAvH/wv+D/0X+PP2//XH/1QAVAb8A2QCfAVMC/QEyAFL9hvqe+ej7VwBPA6IBSPz29yT4K/uC/G/6+PfQ+MH8RwDsAJr/jf5M/nn9R/s5+eH51/1gAtIDhAHb/oX/CgNABWADjP8w/rcAIATxBEUDGQI/AykF5wTEAUr+uP24AOUEOgeWBtoDeAC0/bv8Hv6tADgCDgIAAr0D8AWhBUsC1f7U/YH+ev5b/dn8uP2w/n7+g/2Y/LX73fpY+3f+RwPoBkcHzgRpAeP+Yf4uABUDoQQhA1X/h/tx+XH5XfvE/jQCegODAbb9ufoZ+lz7Ef0N/sb9Pvwn+tr4v/lR/YACDwf8CPcHXwWeAvX/Tf3J+yf9JQGlBFkECQBt+jj2ZfQf9Zv49f1LAqsCNf9v+/f6M/52AtgEigTXAqEB8gFUAyIEwAIW/yL7p/mx+17/igH0AGH/PP+SACsBpv9t/fL8oP6SABMBSgBI/3D+aP0J/J36l/mV+Vv7zf74AS8Cr/7f+W73Mvnk/WYCAQQdAq3+rvyM/bf/ZQDF/r/8TvzV/O37kfie9Afz6/SK+Mv6xflh9sjz0PSF+Tb/DQNiBHwEngTrBNwECARtApIAnP+AAKUC1QNzAoD/if11/UD9j/oa9oLzhvXe+jr/Rf+z+3T49/j7/PsA3AFBAOD/IQPBB6cIhwMi/Ob4I/xYAQ8C9vwf9wX2efmQ/PH7Zvmq+Fr6qPuL+jv4B/da9x74+vhn+tL7uftV+mT6uf35AbEC1P5d+sD58fwtANgA1P8p/w3/Qf5m/LH6S/oC+8n75vtT+3H6z/n7+f/6B/wQ/C77vvrw+zL+of8u//T96/2X/5IBeQKBAq8C9AIZApL/j/zR+t/68vse/e79FP5+/b78wPym/Zn+Cf93/3QAXwH1AA//6Pyu+477VfwC/gEA0QBu//P8pfs7/P/8K/xk+vD5vfsZ/rz+i/2g/Kr9v/9uAM3+uvys/LD+cAA9AOr+Mv5C/uP9rPyl+5D7/fuF/LH9gv8eAKv9Vfnl9ov4X/zv/lb/cP9/AE4BNADK/YH8z/2RAEsCgwHc/kL8X/uI/MT+ogAoATkAg/4G/Yf8Nf3F/tsAIQPmBEAF6QPfAaQAyACVATACjAIAA3IDWANXApYAn/5V/af9j/92AYABpf/j/c39mf5o/gj9W/zO/XcAQwJcAr4BowEzAscC2QJnAtkBuwFbAmAD7ANuAycCtABB/6L9Lfzh+2b9DAAnAnoCMwGO/6L+wP6Q/5sAkQFUAuMCRANLA5gCCAFM/6j+1v8LAqADrwPMAuQB5QA3/0H9sfyp/iwC6ARtBRQE6QF2/+/8/Pp2+nL7Af0O/jf+zP1f/XP9S/61/zgBigK2A7MEJwXlBGsEZAS8BKsE1wPTAlECPwI0AmICdANPBZUGvgWPAjf+9vki9qvyivD08Yj4CwOfDbkU1RfnGJgZCxpCGmwbmh6uIrgkniKhHEAUngqXAJv3OfHR7XLsSOxx7RPwN/NI9a/1Z/Xb9aH3a/rF/VgBjgSFBp8G8AQKAqf+wPuF+pn7K/5kAPkACABg/lf87vmk92f2q/Yf+Ff6Af0o/y7/bPyj+Nv2qvgN/eUByQUvCN0IBgiVBnUFpQS/A2gDLQVpCf0NBxDCDgoMMgoVCmALrA0rEHYQKQvu/iTv1eIo4D7oI/deB2gVByCvJscoyiY+I7khvCRKLN41CD3iPJ0yzB/NCT325uf73hXbvds130ziQeJ03iDYOdFDzDPMydKg3uTrcveiAMIH8gvfC2YIIAWKBSsK1BATF7IbPh5yHmwc2hg7FG0OlAclAfn8JfuX+WH27fE67nPsMewJ7ZrvgPQC+5QBPwfNC+YO/A9KDyQOwg0ADssNkwz8CiMKTQpQCkcIJAMA/KT1afIu8m/ykvBU7Cbo+uaX6STuj/L29vn82QRvDGgRPxPUETQLTf1x6mvacdVA3mHx1AgiHxMwIjlrOkc2kS/3KKQlbCibMGk4cjghLWQY+/6y5fnQpcQkwjbHf89B10PcEN0s2XbSTM1AzlzXQuc6+tYLbBgnHnYdfhgOEo0MOgkhCNMI7wqIDVgO6QpiA2z7JfdC9x/5RvrB+pf7mPyf/Gz7Avp9+W36Hf1WAcwFpghACbgIaQiFCJEIgAh/CAkIPAYDAzL/hvtx+OL2C/iT+5L+df0x91PuBeca5J3leOlt7cTwKvQP+Ir7Uv1p/TL9J/6zAJ8DZwNC+6zpEtW5ySPQqOXq/9AWKCkOOK1B3UI4PAkzMS08LZgxkjVZM3gnjxPV/KvnrNXpx5nA4sBaxsXM2dGn1ebXXNfD1EnUedoT6LX51gotGBcgdCKMIEQc8xZDEQEMNQgOBlcEVAEF/KH0g+zf5e3ikuTu6T3xzvj3/iMC9gEnAEL/VQCoAoMFFQkJDVIP1w0ICbwDUwDb/jD+3/0F/gX+hvzd+N7zEu+667rq4uxL8jT55f3A/Ej1detv5QPnxu7U9zz+fAEEA4IDiAIpALT9b/ws/CD7ufb37IHeR9AOynHRkeXY//cY9SwZO7ND6UYxRQBA1zlvNf8zcjPpLl4iXA6n9z3jUNMhyDrCOMLLxnvML9Bl0ZfRUtKS1HbZS+JT79r+zA0WGdAe8x5oG+gWGhPJDyYMYghOBYcCEv6A9h/tLuX14D/g0OGn5ersoPcPAyULqQ0LDAUKegqkDbcRvBSwFXgUdxFHDYgIyAOO/3T82fpv+kH6X/lq96D0tPGW7yDvmPC98yT4LP1FARoCWf6F93Hxfe9U8gn4sf0MAZkBqADu/43/F/7z+tb3ePYs9Y7vr+O41Y3N/dBy4A34XhI5Kto76UWASdNI1UX4QVA+KDtrNwUxDCbZFa8Bwuwi27/P/co9y1HOKtLI1PLUbdO40v7UuNqB40HvdP3HC70WLxylHEIa+BbzE7YREBBGDs0LggjRA4X8h/KZ6N3iA+Ox5nvq2e018y38ywb6DjISgRE3EBcRchRaGFsacxmjFrITeRFwD8sMfwkTBuAC5P8N/T36Ffd08zfw4O4F8JjyKfWD9176hP09//H9DPr99ZT0VfeQ/WkEXQjFBykEngDP/hj+Z/31/HL9//2+++bzjuYR2KLPZNNd5Mf9ihhsLwVAL0mmSm1GzkB2Pbk8SjzcORA0tin4GfUFI/F436DTsM420K/VB9s53W/c69o52p7a+txY47XuEv2wCtoUuhpoHFwa9xVyEZIOtA0UDmAO8QxfCLEAzfcg8Prqeei06CvszPIP+3sCCwdNCLQH5Af/CtUQxRbwGb0ZAhjGFkMWPBW4EvIOxgq+BuwCP/+f+/H3R/Q98bjvGPCw8VzzufSU9t75H/4nAbgAuPzS96f1Gvgb/poEoAjeCB8GkgJAALv/JQC2AJcBugIWAmn8kPDx4dPWZtRX3E3tMASwHN4x0j9RRfRD/j74OXY39TeSOTc5RTRnKb0YRwT67ybgFNc61MPV49mJ3iLhEeBT3MvYC9hl23fjAfCm/kwL1RIzFWsUVBIQELAOzQ5pD4AOIQsvBt8AdfsD9nnxAe/M7kXw8/Jt9rP51/tD/Xv/OQOhB3wLkg43EUQTTBRSFJMT4xEDD4YLhAhPBgoE3QD4/Cb5Afbh8x3zrfPM9Ir15/XU9vv4rvs2/UD8M/lM9hr2YPle/lUC1ANlA1ICVwGXAD8AoQDZAYADrgQgBMQAUvpk8Qfn7dxK1mvXz+I29msLshwgKNMu/TH2McQv5C2ULoExsjPNMUsq3x12DlT+7e+45RnhPOFc47nkJuS54cDdBtnH1fXWod2z59LxIvqEANwEiQbJBV4EDwQEBSQGkAYmBvkEFwPMAHf+Fvyb+ar3QPdi+K35wvml+GL3p/Zq9rT2F/j9+u3+tQJJBWoGqgbNBgsH+gZTBpAFVQVgBaEEkAL3//395fwk/GX74fqT+rv5Y/dO84DuC+sW6ybvHfWP+ZH6Hvl69+32mPfc+Yj+SwXsC7IPUw8MC5EDufkx75fmVOJv42np5fIj/jAJPhIyGDsbwhyMHmshwSRpJ9so+yj4JkwhfRdYC8j/m/YM8PTrYuqt6vbqgulU5tjiR+D+3jDfQ+Ev5RvqC++X86D3rPoa/Of76fpD+tL64vzu/7gCGgTxAwAD1gEvAK79ufpE+M72BPZU9Yj0wvNA8zzz6fNU9VP3o/nz++z9Yf+MAOQBfwPsBLoF+QXxBZwF1gTqA3cDpgPuA8oDKQPCAZX+7/gq8mjt9OwH8KLzdvWN9Tf1IfUB9dH0gPUQ+FP89ACnBAsHQQgJCJ8FuABX+n307vBC8DbygvYJ/SMFKQ1BE78WhRj1Gb0buR2YHw0hdiHhH7UbJxUHDVIEOfwH9nnyCfFY8GvvPe4e7e/rQuoR6Pflz+RL5afnbuuB77vyr/TI9bn2BPj0+ZL8d//9AdcDPwVqBgcHpwZfBasDxgGU/yr9BPuB+Yv49vfY9zv4uvjf+LL4mPjK+Fb5k/oE/YYA7gPVBb8FYgQCA6AChwNJBSoHowhwCQkJgQZsAfX6p/XC84z1KfkC/IT8+vrr+KP3S/eI96D4Z/vY/2kEQwfSB9EGBgWvAiUALf5O/T/9a/3i/Wr/0QJECPoOQxVRGZAaSRpwGt0b0h0bHwMfNR2BGTMUOw58CDQDaP6C+vb3gfZd9Qz0ZfIU8O7s7OnP6CTqWeyG7Zft4e377iXw+fB78sn1avqw/noB9gLZA58EgAWEBnMHAwg/CEwI2QdLBrYDKQGc/+v+WP69/aP9PP7v/hr/3f7P/kz/TwC+AWoD4wSiBXgFwgQTBO0DngQqBikI4AmZCvEJ7gcFBRAC/P8w/1//2/8qADkAHADk/57/Zf9n/9n/3gBbAu4DOwUfBowGMwavBBcCPP8f/Ub8lvzX/SAAsANpCG0NZhFsE9AT5BO+FEgWsBeaGGAZIBr8GdMXjBNeDrEJDgYgA38AJf41/Hz6WPhI9avxv+6A7ZLtku2q7JDriOvJ7F3um+8n8Qb0Cfi++/39Ff9DAE0C3gQ0B/cITApGC5YL5gppCewHQAd7B+YHrQepBncFqwQRBN8CvQB4/mX9Hv7q/3sBDgLIATQByADCAEQBVwL5Ax4GhwiFCiILyQnWBnED8gBCAHQBmwM8BVQFJASxApMBjgBa/13+Of74/ioAowFzAxkFUwVEA6D/VPz5+rH7Xv3P/sz/KgHKA2gHrAp+DDMN/A1xDygRshJNFB8WaBcXFx4VhhIdEJkNUQpTBnoCk//N/dP8A/yi+jf4+fS78VbvIO7r7VnuFO/R70vwSvDN70rvmu9d8VX0hfcU+vb7nv1H/8sABAIFA/QD4wTTBacGCgepBsIFIAVUBQ4GbgbqBaUEBANLAc//C/9I/ywA6wACAaMAYACBAK4AYACp/1//ZgCfAsoEtgU/BRgEvgInAZH/8/4hAJICdgRMBDIClP+x/bH8Dvyc++P7WP16//QA5wDK/+X+1/7y/j7+2vzk+xb8xvyy/KP75vr9+/H+OgJeBFQFPwbYB5QJbgo8CtoJEAqhCp4KbwlWBxwFZQNTApkB3AAGAEf/pf6w/ej7fvls9432pvaX9pT17POB8rLxBPHt76vuHu7Q7lXwwvGi8k/zUfSl9dX2pPdw+Mr5zfvs/Wb/6P/S/+n/pwDWAdECTwOoA0ME2wSpBFQDbAHY/+z+Vv7F/V39YP2z/ez91v2g/ZT9tP3f/Sj+6v5SAP4BIAMkAxwCmgBD/3z+Uv5v/lr+6P1w/Vv9gf1I/XX8nPtm+7j74vuj+2/7pvvs+6T7y/oF+s35FPqJ+vr6Qfsz++76B/sK/M79e/9iAJYAqQD4AFgBdQFQAV0BBgIfA/QD9ANCA3YC4wFYAaQAEQAUAKcALAH9APX/Zv6+/En7Ffr9+M73jvaL9ff0kPTH817yqPBE75Xunu4+72bw//HA8y31CPag9rb3wvls/Mb+MgDeAFYBxgHcAWQBwQCUAAUBhQFmAZcAtf9T/1T/F/9P/nb9Qf3C/Wb+t/7h/kf/2f82AE4AfgAFAaYBBAIYAggC0AFHAYIA0v9T/9f+T/4F/jT+gv5D/kP9Evxn+1T7VvsW++j6Zvub/Nz9e/58/m7+lP6A/rn9fPyC+xb70vpp+kX6/vpd/HP9tv2i/Q7+Mf+UAM4B5wIDBA8F1gUyBgsGVAVNBJMDogNYBBEFTgUHBV0ERwO5Aff/df5+/f78tPxn/Oz7Kfsz+j/5afiV97D28vW39Qr2gfao9ov2oPY59yX49PiD+Sb6Pvu6/C7+Uf9DAEgBUQIJA0QDOQM+A2sDoAPFA/QDTgTfBJEFLwZ1BkYG0wV3BUEF6QRIBKsDdANyAwAD3gGdAAgASQDyAKABOwKUAkQCKwHh/zn/dv8GADkA5f9h/w///P7//v7+Gv+N/14AQQHJAdsBxAHaARMCLQIXAg0CMAI6ArwBiwDy/nf9n/zA/OH9r/+rAXIDxARzBXAFGgUwBUMGGAjeCecKLwsSC8cKOQpUCUAIXAcHB2QHKQitCFoIHAdqBc4DgwJ6AaYAEACt/y//Nv6V/If6kfgu93b2Jvb09cz1sfWE9RL1efRY9Gv13Pf9+sX9pv/aAPcBPQOCBL0FPwdFCVELcQwpDO0KlwmlCC8IRgjoCKMJwgkGCfIHJwenBg4GQgWZBEoEEQSJA6EClwGfAMr/HP+1/tL+uf91AXoDxwSlBF0D6QEGAbwAzAA6ARUC7wL/AuoBPgDz/p7+Mf9OAKIB6wLnA2oEdQQqBIsDaQKqAJv+Av27/B7+uwCYA78FwwbSBnAGIgZWBm4HmAmFDFkPCxELEZIPcA2cC9EKRQuSDOQNeA70DVkM3wn1BkQETgL8ALj/E/4f/Bn66/do9dDy1fAC8E/wRvFD8o/ysPH475nuqu4r8ETycvTz9tr5UPxm/Yr9Zv4XAecELAgrCpALLA3YDtsPCRD/D1QQ5RAXEXsQDw8UDeIK4ghxB5oGBAY0BeQDJgI3AFT+tPyY+zT7fPv++yH8mfuu+vz58fmG+nH7dfxp/Sf+hf59/jf+7v3b/TL+D/9VAKABdwKaAiUCeAH1ANUAFwGLAc8BRAE3/2v7xfZJ8wDzePYw/J4B7wT/Bd8FvgVVBicInQuCEHMVaxg5GIMVJhK7D7YOrQ4RD3MPZw9rDv0L5gerArP9e/o5+XP4afbj8izvT+zm6fnmsuOC4ZjhhON75fDl3+S44wXkGOYN6QjsFO+J8gT2q/ht+k38Nv8KA0kH4gu9ENkU7hb0FkYWBhYRFu0V2xVDFogWXRVEEhIO6QlMBlUDFAFP/1z9u/qo97v0QPJE8Pvun+7o7jrvV++K7w/wxfCL8XryifNZ9MP0YPXz9mz52Pte/ff9Kv5Z/o3+xv5H/3UAYQJdBE0FngTVArYA7/1V+QDzru0R7U7yhPoZAXgDnQJkAdQBJwTuB2QN4xQqHeciBCOwHa0WTBIUEmMUmxYqF7oVVhIIDSgGx/6k+E31u/TD9Hryuuw75dje7Nqv2PbWytX91ZrXXdnY2QLZetg+2uzeKeXh6hXvVPJx9Uv4RPqu+xT+xQJbCd4PZBRrFv0WsBdmGcIbuB2qHtIebB7oHHoZdBR6DwIM2gmDB94DMP+X+uL2A/SG8UHvle3m7NXsQ+yB6mvo4+f16cDtZ/HD89z0+vQi9MTyQvIh9H74jP3VABoBD/+Y/Ev7jPv1/DL/GQL8BHkGdQUpArf9zfhb897tfuoC7CzzJ/0GBXwHrQUwBOAGiQ0UFaEbISJQKZguFC6yJ28gcx0RH5AhwSEqH08aMBM0CjEBRPoP9qnzffG37dbmNt2506LNk8t8y2TLDMvVyoTKGsq7yrHN9tKr2VvhkenR8IP1M/hs+9oApQcyDi4UvxnSHfceuh2gHIkdDCCeIjwkaiTEIncfpRtiGKwVBROOEJUOWAxmCIkCdvwa+OP19PRz9PvzSPMz8v/wMPAs8CzxU/NP9hL5i/qu+lL6Ffrf+Z35v/mk+gD8Ov0P/mX+4P1P/GX6Y/nL+eH6l/ur+4L7W/sK+4n6I/q3+fz3S/Mc7IXmAuhh8gcBWwxrEM0P8w/NE5wapSIvK6wzcjolPV46AjOuKlImbijTLVYvVSgyG1YOZgX//p/4ZPK67fjpTuT32mrPeMWtwNfBJsYIySvIq8V1xbfIW83w0f3XUuGL7Bn2GPyO/40C2gYLDpMYuyO3KmsrAylAKPwpSCtIKpUoICjrJ2olEyD4GTIV+xFXD2wM7ggQBXYBuv7A/P76e/ng+Ev5tvk3+Uz4X/gg+vv87v8/AmgDKgMRAkwBkwGCAl0DFATjBFEFRwReAZz9gvrA+OX3Ivfs9RX0xPF67+XteO027t7vH/Jj9Lf1gPV09HX0gfbG+Lv3RvK57C/uzPmkCmoXrRpqF20V2Rl8I7AtZjXHOtY+5EAVPzI5MzKDLiswbzRINfEt9h4NDoYBQfvw9yvzyuvR47jcKtVky/TAi7pXuzDBMsYvxj7CS7+4wTfKAtZd4TXq5/Dx9v78lgKxB9UNqxZVIR0qhi2tK0UoUCfwKRAubjD8LukpBSMUHKgVpw+tCgoIygdmB6cDN/yU9PrwevJp9ij5Dvn19vX0tvSL9qX5Iv3FAGQE8QYhB3UFtwRiB54MvxD5EO8NbwpqCMYHdAeoBvkEJAIx/o352vTA8AjuSO3/7V3umezb6Hnl/uTT5wDsEO8P8Mfvh+9M8MLyDfes+0P9QPmx8ZrtjPMYAwsUGx27G8oV3hMjGvolkzEWOWU8xDxGOpQ0wi1wKngtozMVNQYsRhr4B+T8jfrZ++D5e/Hs5L7YfM/AyM/DmsEPwzbGx8ZRwjW7FrdxunnFH9Sm4DnndujJ6KDs8/SI/+cJIBO+GqofKyGLIL4gFSRWKrgwfjNZMFoonx86GsMYPhhsFaMPZQg4Aen6V/ab9Kb1Y/cF92fzF+436j/qdu7v9M768P0C/nv8ofsa/eQAdwXrCFcKGAobCSMIowfNB2YIsAjfB6oFZgKz/jD7UPgB9pDzRPBS7NXotebJ5Url6eT85K3leebd5jbniuhG66ruwPGf9Nv3bPou+Rjyf+id5OzsIP+jEBsXOBGJBwcFVw4sH8MutzZuNnUx9CvHKKAp3C4xNoI6rjayKUEYDAqTBCQH6grUBxT7nOma203Vq9Rb1fLUp9I8zSPEY7q0tUq5ocILzG/RDdKvz/3NftFc3HrrSfia/tT/RgDXAh4IBRDzGYwjYCnPKaImXyOcIt4ktCgJK4koXiDMFQQOvwszDUoORQwoB5sAevo29qL0h/V89434YfcU9EPwN+6E78bzpfhq+y37e/nH+Cv6vPzh/sj/j/+n/pb9+PwZ/X/9YP2I/Ez7u/mC9+j0EPOe8qjyvvGo72zt4es466nrZO2I727w0O+k78TxTfWo9/D3v/cu+GD3rfIj67Xmn+vX+S0JXA90CYD/dP30B4IY1SR3KFwmSCOVISEi+iXQLDIzdjTFLpQkpBomFZQVURlVGlETpwTd9Djr4ukG7ZzurOo84bbVh8xOyJjIH8urzYnOgswYyLLEpcYMzyjarOI75oPm5OYJ6urwe/rvA2wKSQ14DqUQHRVYG6YhHialJ7Qm7SSeIwcjDCOtIzck2yJqHmIY/hPjEoETCBM5EM4LDwcAA3cArv+E/+391vlv9Fbwb+9i8fvz5/Rw89Pw9+7s7o/wGPOD9bf2IvaH9JfzR/T19XT3cvgv+X75AflU+ND4x/q2/Ov8bPvK+WX5hvq8/Df/zwCYANb+v/zD+p73TfLu7GbsqPM9/+UGHgU5/dj4uf5LDOQYXR6MHQ4bHBqDG5UfTyZmLYUwDS03JZQebB2TIdwm8iesIVoVfAgMAc4A7wNwBCD/ivXX61TlqOJj4mTi1uDE3LvWLtFGzzjSptds24PbxNmk2d3ctuKL6dfvJ/TK9Sf2PfjG/VwFLwzaEMsTohXCFlYY3hvyILwk/yTaIlghuCGWIqUiaSKWIi8ivR/BG3EYARdDFlgUxRBmDCcIigT0AWAA3/41/Gv4EPWJ833zb/OZ8ojx4fBq8L/vcO+A8MLyhPRe9OfyBvLF8nj0+vXw9oL3mPdE93v3R/ka/Ar+Kf7T/cL+qgDzAVUC8AI9Aw8A0vcv76Dum/kyCYIR+wyvAUP7UgDWDWYbhCIjIn0dQhlZGfwecidKLV0sYiVmHZcZcRtSIJsjSyFXGBsMAAOeATsG6AneBn798PL66+rpTet67Ujtfug/4C/ZnddW2x7gCeKb4OjdRNxb3QTiTun876nyHvHz7kHw7vV2/a4DLwdmCHwI0gjkCnwPchXNGScaNhdzFNUUERhdG4MciRuvGfEX5RYEFw8YgBjMFkgTExDRDhgPUg9nDh4MnAiDBDEBvv+b/wL//vxm+nT4N/fz9Xj0MPMa8rrwKO9W7t3uAPCD8A7wWO8W73XvbfD+8dfzWvVU9mX3O/mC+zH91/0n/vT+CQCYAHoAOgDA/8D9nfmV9cP17/udBHUJIAe4AAL9WQBTCZgSbxeoFnsSoQ5IDm8SCxn/Hd8dshgfEo8Ozw/sE+YWdxUcD30GBAD0/rwCAgfiBtoA3vfL8NDuifGf9RL31vNE7Snn3+TY5rPqW+0b7VDqBefQ5RXor+yC8CPxB+8D7aLtJ/HM9Xv5M/tX+yf77ftR/gUC2AU2CCkIYgYSBScGbwnGDDYOmg0rDAsL0grfCwoOCBAIEI8NYgr/CEEKwAxGDpMN5wp+B6ME/gJSAs0BnwBo/mr7ePiJ9uH1ufXs9CLzFPG774fvYPDy8bLzAvWp9QL2dfYL98P36viT+v/7UvzT+7/7qPy5/fD9bf3q/In87vtM+0v73PsV/G37UPob+Uf3hvQ78rrytvYD/Fz/PP/6/GP7evwwANQEZAi1CdEI3gbRBWwHnQvOD8MQyA2XCcoHgQnIDLkOlQ2DCVgE2gD4ANYDBgZyBCP/7PjE9MPzHvX89i/3WPQx74Dq3uhc6oLswuyw6gDoveap5wHqWuyz7fft2u1a7i/wbvNY97f6ovw3/YD9of7tAKkDlQXrBQQFJQR+BB4G4wd0CGIHcQX5A+0DQQUHBxgI7gfnBuMFmgUtBh0HowdABzIGOgXYBM8EiQTEA6cCYgEaABz/ov5Z/on9FfzU+on61fq0+uP5Fvne+Pf46/i++IT40vdL9pP0+PP/9K72hvfv9pX1o/TG9Mn15fZ194H3hffY95T43Pmz+179nf0p/Jf66PoX/dL+CP45+//4ivn2/I8BLgV1Bo0FDATWA7cF9ggfDAAOMw5ADWAMrAwcDnYPcA/gDbYLIArECW4KFAtcCrYHDQQSAb3/sf/k/2D/kv2M+lv3ffVy9fX1NfW38qzvie3D7N/sLO097SPtYu167kfwE/Jt84/0yfUF90D4/vme/Fz/1gDCAHAAVQFnA1cFFwbGBUQFYAVaBtUHAwkmCSEIjgZtBZIFMAeKCVILpwvmCkkKtAoDDG0NRg5TDtINXw2EDRcOIg7HDBoK9AYnBCoCQQFhAdIBgAHu/6j9pvtg+sX5qPnZ+fT5iPmd+M33rfc0+Lv4pPj893f3vPee+D75Avk7+Ln37/fh+IH6n/xy/u3+9/3m/FD9fP9EAlAEGwX3BIkEVgSJBOIE5wQeBC4CMv9P/IT7Af6dApYGKwgZCEYIoAm9C/AN4w9jEXUSnhNjFVIXPhiVF/IVJxSFEmgRgBGzElUTlhGiDXIJiQauBPYC8QB1/jb7Yff689XxdPDB7onsf+oG6ennReec58TomumE6YDp++oC7k7x1vOd9TP3NvlB/GsAngQsB6UHjgfNCMwLbw9WEpYT0RKkEPUOvA8GE6kWZxjvF4EWQxWDFEIUfhTPFGQU0hKhENAO0A0pDesLdwkMBrcCjQDH/5b/8/52/W77ZPmw92T2Y/WH9NjzgvOH85zzefMs8+/y7vJc8470gfZ++Lj5TvoX+1X8Q/1P/Rb9h/1+/h//VP/7/3UBCAMCBKkEewU0BmkGawZjBtwE0/8G+DTyY/PC+/QFAgykDHYLbgz/D+oTvBY5GVockx8WIqYkUSiKK7MqjCSMHHMXZxblFoQWsRQhET0L/AMh/uD6wve38XjpzOLb30PfzN7N3RTcttiL05/ObcwyzVrPG9IA1iPbcOAJ5R/pB+2u8Gf0Gfnv/rUEVgkiDdwQXBQmF5MZKxxMHhcfcR9oIVglHSmyKkgq2ihMJjcioh0pGrUXuRSlELEM3gmSB9gEvQGw/l37WfdR84DwQO/q7vXuRO967/nuv+2M7OXrneuT6x7sXu3G7tDvrfC28b/yjfN59Mr1zPaY9r71BvYm+MH6NPye/Dz9aP5b/8r/agCMAToCqwGwAFkAUf9O+ojwz+ZN5GPr/PYQAD4FKwtVFc8gjyfDJ3UlCSWyJnQoTCqzLa8xgDJdLk4oeiSHIvMd9BMjB4b8cfZ680jxhu4u6hnjktlf0JnKVciXxgHDrb6uvGC+RMJPxg3KAM4Q0uHVUNry4KLp5PHU9738SwN8CzESZRUFFycamx5tIXkhOyETI70lTSaSJC0jaSM1IzkgPRvYFrYTEBDIClMFvgEaALz+fPyc+bj2AvS58ZnwGvGX8svzE/Tr8xX0rfQ19U/1EfWv9Cj0f/ML8zjz8POH9E/0HfM/8Tnvue1e7TXuee9O8JDwoPCP8Bnwee+s71jxAPS09iz5o/vQ/en+u/7+/QP9kvok9Yftx+di6Bjw7fpJBO8LqhVcI9QwbjeKNS0wuixkK3op6yZdJj4oaSm2Jxcl0iOqIfMZIwxf/ajytOvf5KjcP9UO0bHP284lzfrKBcm3xiDDFr+HvZ7A5caizGbQ99SV3XjpofSX/GQCwwd6DLMPTRL5FacaiR6yIDsicyQTJ74ohyhQJlgiLB27F+IS5Q6VC7gIEgZdA5EA/P2++375BPew9Oryi/F/8KfwE/NU94z7c/5yAFgC1AMUBDYDKAJGAQ8AT/68/Bf8J/z3+9r68Pjy9nH1NvRs8sLvM+0M7EvssuyZ7MXs8O2B75bwpPHT8xf3P/rT/JX/wgJdBcsGygd0CG8GVf8E9Ynth+3U86f7ZgLiCcQUWiK8Lp42BTr5Ol46FTdVMOEnzyBZHCgZDhb+ExsU0BTUEh0N/AV//1D42O2W4GbUYcwByAnFy8KBwhbF/MkJ0G/Wl9zV4brlcuiP6rHsae8h8+P3gv0bBPcLmxR0HO4hwCS4JWUlkSMWIJMbAxcBE8gPiA1GDJoLBQuDClUKPQpUCeMGEgOq/nf6IPc49RL1c/bS+Nb7Zf9XA08HAQtJDtYQAhI+EaUOBAtVB0QEEQKnAMD/GP+e/lb+GP5p/cH7/PiR9VHy0e8N7qDscusJ6xHsmu7u8Sf1yffc+cL7Bv4QAbkEMwjKCrAMyg6FESIUYRWXFMcR3Ay4BWr9oPbV89/0PPdo+Qz90ARZEO0bfSSRKhMwZTSrNN0vhSiQIQAbShPnCnAEQwHu/5j+d/2//QP/If99/FD3yvDN6a3iiduo1PfODswCzRTRZNYb3Ajjruu29CD8WgESBXkHIAhiB6cGugYCB/sGjwf9CRYOhBJlFpoZxxsqHLsaXRiOFa0RMQz+Bb8ASf1L+2v61fq6/Mn/fANmB/gKkw0MD+0PsxD5ENIPEw3gCbYH/gbPBjcGdQWYBfUGaAh6CAkHQgUIBOcCvwAY/XP4w/PZ7yvtouvd6s/qDuwA7wrz/fZA+vL8Cf8uAKUAZQHBAp0D5QJNAagAoAEYA+gDVgRgBT8HQwmoCh8LyQoXCmMJKwgjBbH/Qvlm9HvyqPJJ89/zgfW++SQBeQpUEw0aIx8gJN8oAyuzKCQjUR2OGLkTtg1dB0YC0/5S/IL6tvm1+YL5dvjV9v70jfLT7ubpwuRw4DDdj9pA2OjW5tcE3GXiJukS72H0uvkJ/6sDSgfTCQsLzgrCCQsJDAkZCa4IZAg3CSwLUw3qDvAPiBB7EJEP7g3OCxsJtAXxAYz+6PvU+Qv4xPaX9t33PPrx/HD/zgF6BJYHoArUDOINGQ7wDVINqQugCMEEJAFp/jb84flg91r1RvTj867zjfOw8wb0PfRN9Jj0VvUj9mD27fVL9Rn1ivVi9k/3SfiQ+Tf7w/yJ/YT9k/2A/vr/2ACFAKz/b/8yAGoBWQKyApwCbQJhAlwC0AEZACH9o/m79hD1ZPQA9KjzK/S69n/7IAH/BfEJRA7mE+MZHh5JH+sdeBvNGKwVbhH3CwoGrgBV/KT4NPU48jTwQe/y7truw+5V7h/tSOu56fzoR+hk5oXjfOHC4cvjzuXv5hboqer77h/09fgT/b4AQARVB2kJTwqYCvMKaAtlC5sKYAkeCM4GOgWgA5wCbgKjAoYCwgGLAFT/XP6O/cL8Ifwi/OP82/2G/kf/AAGbA7cFRwYOBqQGPQhOCZwI1AaCBQcFVwSYAiwA/v1S/K36ofhO9ir0evIN8YvvDe4x7WbtMu6w7sHuUe8M8U7z4/SQ9Tv2hff8+N35Ifph+vX6sftV/Nn8W/35/cz+zP/NALkBrQKqA1oEhgSUBAgFiwX+BN4CDQDe/Zr8fPvn+TX4XPcW+Fn6bP2UAP8DowjVDi0VqxnzG3gdKx/wHyIe9xk5FeYQOAxMBqj/lfmo9LLwr+0D7LPr/uvj6/zqy+kz6Y3pFuqk6R3owOab5hzn7+YP5gXm8Ocy65Pu4fG89T76v/7DAnEG8gkLDWkP6hCJEW0RCRG3EBkQfQ4LDNgJfAhHB4AFwwNCA+sDXQTTAyEDagObBLgFPgaOBiYHBwjZCE8JVAkVCdEIiAjrB80GeAVUBGwDjAKrAdYA1/9t/tr8p/vV+sz5OviJ9jz1T/SU8ynzGfPp8jHyaPFz8WnycvPs8yz03/Q39gH4B/oV/PP9tf+8ARMEDwYTB2wH8QfyCPoJjwq0CqoKhwoSCtwIlga0A2cBVgCR/7z9Yvvf+nf9ggGXBMMGRwpKEB4XQBwAH5MgLiKpI8sjkyFcHcYY/RQzEaoLgAQw/o36aPiA9eHxg+/j7h/u/+vR6R3pEun85zDmeOUG5hjm7OQt5H3lGOgg6l/rRe208Aj1Rvku/e8AxAT8CMwNsxKzFmsZbhs8HXMedh5eHcYb6Rl+F18U5BCaDfYKNAkvCH4H+wYMBwQIZwlYCr4KUwtkDDgN/gznC78KygmLCJ4GNATKAbz/Kv4I/S78h/s++3P73Pv4+6b7QPsT+/r6nvrQ+Yv4+PZ49V70fvNs8k3x7/C98RjzPvRv9Xv3a/qD/XAAmAP6BskJnws4DUkPMRG6Eb4QGQ8LDckJ9ASr/4P7CPmm97b2RfYK99f50v4GBVsLCBI8GqojeisALyUvUy/dMCsxYS1KJh4fOBnvErsKtgE7+iX1iPFd7o3rbekK6CbnbOaP5XfkWuNw4qvh4uAE4OveU91423raZNvo3cDgguM/5/rsL/Sa+9ECQwreEa8Y8x3TIcIkrCYoJwomfiPnH+YbJBiyFAYR4Qz/CFMG5QQGBHADlgPABJIGjQiGCkEMPQ1ADbgMAwzECn4IiwXMAnMA6f0E+5z4c/cu9+f2ffau9vD3ufkT+4n7XvsI+6j62fkd+ID1v/KY8ALvXu1069rpTekA6rHrIu4w8af0UPgo/DgAPAS1B2cKewwSDt0ORQ7uCxwInwNd/8L7oPiw9VTzi/Ik9AL4av3HAx8LqhMhHXMmSS4CNBA4BTtEPE46jzRWLHYjZBp+ENQFmfuf8p3qa+P73SjbNdqm2TnZtdn+2rfbQtuz2v7aUdtu2svY5tfj13zXeNaM1iHZet0o4kXn8O0h9n/+WgZyDiYXHB+IJDQneChyKfIpFSlRJt0hiBw0Fz4SZg2FCDEETgEZAAcAigB/Ac4CNQScBQ0HKAgkCMwG9QRqA80BO//H+3341/U/82LwHu6B7Vfuh++K8NHxxfMZ9lD4MPqF++P7H/ux+Sb4VfaW88HvoutY6FbmN+V55ErkcOVh6JHs6/D59C758f2zAlQGGggNCIwGGQRXAbL++fsE+cP21/bM+Vv+LgOrCAsQERnUIQkpUi+mNVE7ZD7nPaw66zXHL3cnkhzzD1kDF/gZ7ozki9uU1MLQDM9mzZPLiMt0zp3SOtXE1Q7WZdcQ2efZEdpj2vTaWNvc23PdgOCJ5C7pv+6f9Zv9GgaWDqEW1B0NJGcpsC1BMKAwEi8wLDIo+iK1HN4VzQ7DB3YB+fy6+gL6wfm5+YL6ffwq/40BFgPmA2cErQROBMoCHAC//EP5CfZO8yvxde/z7fHsQu077/XxI/SO9SH3bfnS+2H9/v0T/qX9W/wp+l33FvRn8Onsduop6VTos+cH6APqRu3q8LP0zPiu/Dn/CgAMAEIAngBeADz/4f2N/U7/RgNyCKQNDRMWGhMj4CvWMfw04jcCPI4/rD/XO+s1Li/oJhocgQ8NA//3M+4k5dzc69XX0LfNLsy1y+fLl8yjzePOatCF0jbV4tfq2VvbwtxV3tzfc+Hb46rnm+we8kX4j//gBz8Q0hemHiglNCv6L8cynDP0MicxLy7vKYokZR7lF1ERAwuPBWkBb/4e/Fr6qflj+gf8qv3x/h8AQQHhAboBMwG8AAQAY/7n+275sveb9sz1Y/XV9Tv3D/m2+gP8Pf21/lUApAEaApwBdQDk/uP8afq69yr11vLT8IbvWO8Q8PfwzfE+8/z1vfly/TQAoAGKAR0ASf4t/dX8EPw6+q34q/nr/QIEVArVEH0YhiHmKlAzMTqtP/lD2UaNRz5F1D8zOGkvqCWZGpoOAAO++Fnv/eUm3XPWx9Jf0f/QPdEd0iHTotP40zvVm9fR2Z7aeNrr2qbc096G4Bzix+QZ6aDu1fTa+wQEDg0VFmEezCVdLNMx0DVBODo5hDjDNR8xdCuBJS0fBhhuELkJ6ASjAej+f/xF++P7sf1A/97/KgAYAZcClAM4A+ABlgC5/6P+rvwz+jP4OvcH90v3J/i8+a77ff0x/zcBlQOYBY8Gcga9BcsEgQOCAZ7+CftX9w70SvHt7h7tWuzo7HvuoPBI86j2qvqu/ssBNwPKAmcBewBlAMX/Tf1F+tT5Xf3JApgHbgzmEz0eXijPL341fDteQd5EMUWJQ2RAfzpSMa4mfhwxEi8GMvk07tDmVuFR28LU08/zzWzOis9J0NXQ8tEx1D/X8NlV29jbstxQ3tbfkOBJ4ZHj9ueV7X3z2flhAQUKoRIeGoYgoiaiLH4x8DP5M+gytTGyL2EreSSQHH8VqQ8vCpYEm/80/F36PflV+Af4w/gd+if7pftN/K/9Qv8HAOD/fv8j/yH+A/yQ+fX3XPcF96X24fYx+Bj61PtB/Zz+3f/JAFgBcQGgAKT+IvwB+iD4evXO8VPuR+yD6x/r7OqU63LtIvA987D2UvrF/eUAwAPABcEFhAOFAJD+rf1Q/L/5f/fo96z7SAEGB/UMkxRtHqkomDCYNYk50T3lQOc/XDrNMmUrcSMxGfEMywDr9b/rDeIK2qLU9NCwzTnLD8tRzTXQJ9KB04nVfthB27Pcytxq3HfcHd3j3YHelN8x4rHmYeyS8nj5fwE5CqESXRrXIfkoly6kMYAyTzJOMYcuUymLIrwbehUTDw0ITgFW/Hf5hPeE9RD0Y/Ra9lX4Svn0+W37VP1b/kX+F/5L/t/91fu9+Pr1EvSN8jzxrfBM8cryr/Tk9m75+fsP/ob/aQC6AHQAmf8V/tL7CPkm9kXzG/DJ7Crq0Ogq6Grn/+Y+6Hzrju9g8zP3qvthAE4E5QYiCL0HXgWZAbn9YvpL93H00PJb8/b1//lH/9oFYA2AFXceQShqMcU3lzobO2466Tc9MoIpPB+1FBcKM/9T9CzqduHF2kPWcNOS0ZXQ+9DQ0ibVEdet2J7a39yb3jrf+N5d3p3du9zx27zbmdzo3unioejQ7xD46ADjCacSABuXIrMouSzrLjEwyTC4LwksMyakHyYZdhKMCz4FPwAz/Hz4kPWG9Hf1JPdl+GX59/oz/Tz/UgCSAIcAVACA/5L9yfr+99z1XvRG897yxvP/9Z34zPrB/C3/7gEABLAEZgTqA2ADTAJIAFH9e/ne9NHv/uos5+7kiOTC5f3nsOrj7eDxgvYV+xH/mgIJBjwJqAvnDNkMVwtKCCAE3P9d/MP5k/eT9Ub0s/SS96n87wKECXMQRRjSINIo3y6VMl00aDRoMkgulCjtIXUaFxIhCToA8Peq8O3qKOch5fDj1eLX4WjhoeEU4lHiR+Ia4tXhb+EC4cvg5eAh4T7hauFh4uTk8ejO7fXyrPhm/78Gog2EE+oYVR4rI0YmdCeYJysnaiWFISQc6RaaEnYOnQl+BGIA+f3i/Ir82Pzf/XH/MwHyAngEagWNBS0FvgREBGADAwKxANj/Qv+H/sf9if0B/tT+uv/eAHgCRgTWBQ0HBgh8CMIHiwVQAsr+J/sv9wbzfO9w7RXt7e1h7z3xnfOO9sn5wPzx/j0A+gCbAVAC8wJXA5cDAwTXBPgFBgeTB0wHEgYSBNUB/P/M/vz9Pv3t/Pv99AA+BbUJ+g28EpQY/x7QJGUp1Sz4LgMvgSxCKJ4j6B49GQkSIQr9AjP9OPiG81jvNuwu6tjo5+di517npufN53Pnm+bC5XbluuX45bXlO+VS5XTmm+it66rvVvQ7+Un+/AN1CsAQthVeGa4c6h8JIhkijSCGHlEcXhmNFZgRDg69CncHygRRA7kCHgJWAScBKQLgA0QFzAW9BZ8FqwWjBSEFBQSiAmQBZgCX/0z/JgAoAloE0AW/BvcHbwkUCi4JVwebBSwEfQJaAC/+Rfxt+pL4GPde9iv2/fWw9YL1lPXU9Uf2Ffcw+EX5GPrN+qj7v/z8/Vf/zwBNAqMDswSEBSsGvwZLB7QHugcaB7MFfwOeAH790PoS+Sb4sfff92/51PydAQAHpQybEpEYzR3nIQolKyeIJ3IlcCHaHFwYZxN0DUsHawJb/zj9DPv5+Lv3VPfM9kP10fIj8I7tw+p059fjgeDi3RTcGdse21/c+N7O4qXnK+3v8of4zP3XAqEHrgtrDtQPbRCCEM0PIw4oDNcKVwrdCd8I6QfJB1cIqghvCFAI0QhsCT4JLwjlBr4FbwTMAlYBrgDXAFIBxAE/Au8C3gMHBVcGigc5CDcIrAfBBlYFNAN6AKv9Vfu5+bz4D/ho96b2y/XM9I7zMPI88UfxSfKA8zX0dfTl9Nn12PYx9+T2wPaP90n5KvuI/Fn96v1F/jb+z/2X/Qr+Bf///6wANwHCARoCDALJAbMB1QHZAW8BkgBA/1L90PpB+GL2l/XO9eL22Pio+xT/3AL0BjkLDg+jEb8S+hL2EoASzxCjDdIJggYSBBECJQCc/uf97f0F/pz9lfwP+yX55vZg9IvxUu7Q6mTnb+QO4mTg69864UXkQuhl7JfwH/XK+br9KwAZAQ8BkADi/zr/3/79/pT/gwCbAY8CBAPNAiQCiQFnAb0BFwLvAScBMACr/9v/jgCCAbQCLASxBd4GgAeqB28HuQZ7BeIDOQKpADr/Av4v/eP8HP2y/VT+kf4e/gv9o/sL+kX4g/ZH9eL0GfV39eL1h/Y+94j3Vfdg92H4B/pO+9T7Tfxo/bT+J/+L/sH9jv2h/T/9bfz1+zX8lfxV/HP7evqu+fb4cviX+Ib5ovpB+3z78/vW/Jj9u/2V/fH9G/+OAJYB4gF4AVcAd/4b/OX5c/j692P4rfkE/HL/mwPrB+wLSg+KERkS1BBWDm0LXAjxBEoBPP6s/Mn8C/7Q/58B/QJiA5ECsgD8/Xv6bfZ+8mXvO+2c63jqbOoL7Avvc/KA9Sf4mfqw/AL+av4s/pX9xfz5+9T7+fxK/9YBrwOvBEYFrgWSBZEExgK+ABr/VP6//kMAPwLZA7wESwURBgQHfgfjBjsFOQOsAeoAswCfAKsAKwE2AkkDrgM0A2cC+wExAr8CLQMsA7cCBAJOAa0AIgDI/8j/GgBxAH0ARAABANf/sv+C/0P/8P6H/jr+TP6v/uH+c/6Q/eD81fxE/aL9jP0R/Zv8pPxa/Xj+b//T/6v/Uf8U//z+9f4Z/7j/BQHDAlUEVwX1BZoGXAftBw8Itge/Bs4E4QHG/pj8xfve+3j85P3DABgF5gnJDdwPLxCBD3gOEA3gCvIHHQVJA54CqAIcAwkEQwUdBv8F+wRyA3IBwf57+1X4FPYG9f70m/WO9sD3Tvk6+xr9Tf6N/jH+wf2I/Z/9K/4v/1gANQG8AVgCYQO2BPEFygYhB+IGEwYBBTAECgSQBF4F9wUmBhcG9gWQBXsEyAJSARMBQgI4BCwGwgfqCIoJegm2CGwH2wVUBCMDbQItAmECHgNOBHwFEAa9BaYEKAPCAQoBUQEyAsoCjQLBAfgATwB8/3D+m/1e/Z398/0g/iX+FP4C/iL+tv7R/y0BYAIaA1cDPwPsAl4CvgGJATYCmwPeBEgFGAUuBfgF8AY7B3wG1ARsAl//Gvxo+fz3H/js+XH9YwLXB7sMohDDExYW0BY1FbQR0Q3MCpUIawYwBMUCAgOWBCcGeAYxBasCXv+0+zT4c/Wz87byJvIC8pDy3PN69dr2vvdQ+M74Uvnd+Xn6PvtM/Mr9yP/5AbkDgwRtBBME7QP2A/sDGwS5BAUGvAdcCV8KSArICB4GKQPXAHX/q/4n/iL+Ev/4ACoDvQQ2BcUEBAR2A0wDiAM8BIMFMgepCCUJQQg9Bs4DxAGsAJMAAQFDAesAGABL//b+Fv8N/+r9Ivsw93TzQPEG8XnyLfXG+JL8jf8SAXEBcgF0AUQB0QCjAGsBUAPBBeYHEgkACeMHOAZUBPcBVf69+HbxHeol5afkQenA8fb7+wXiDmIWGRw3HwQfzxsvFyITuBCPD6gObg3TC88JNQcQBIcATPy39vzvw+nw5crk4eTU5Jrk0uR/5Q/mVebL5tLnU+lG6ynugfL/9279lAH/AwsFRwX8BD8EXwP/ArkDwgXtCOIMAREkFPIUwRIwDqsIhANq/4b8y/oj+m36W/tg/AP9T/2z/UH+c/71/XP9A/7K/9MBMQPDA5sDbwITADH92PqM+Sv5mPnR+nL8m/14/Yj7ovdf8oLtCOtn607tdO/h8dv0Z/cX+Az3CfZl9vT3Kvox/SEBDQW/Bx0J7glDCsIIswOQ+gzvAOXX4MzkVu/F/HQKxBcDJNks1S/4LMMmAyBqGuUWwhX4FS0VhxEwC40DWfsz8gDo9t391YDR4NCG093Xp9sl3XrcoduZ3Kbfj+N35wTsX/Jv+nICQQiiCqEJXQbJAuwAngECBKIGEwn9C4IPJhK/EVkNGAZy/pv4cPVf9F308vRW9qX4Rvtb/YP+9f4j/67/QgH7A9EGVAgeCCEHTgZ9BfoDxAG2/7H+Bv+KAKECKwTuA0EBMfw89XDt0Oaw4/fkQuks7mfyFvaB+Rf8Hv3K/Fz8Jf2o/2kDUwcqCrEKjAeQ/wvzKeWO23jbg+bN+RUQoiR8NPc9HUDqOgIwtSLrFpoPnQ1pD7MR7xA2C00B1fU0603iPtvn1urW29vS40nrXu9a747sRumw5wHpDu3X8oT5tADLB1cNew8YDZwGIP7b9unzcfaz/E8D4Qc+Ci0LfQoXB+QA7fke9Rv0Qfai+aj88/7zAO4CfgQDBYkE+wNoBBwGgwijCqwLPQuYCX4HlAXJA5gBCP8N/cD8OP5cAKEBuQAG/Qn3svCy7OTs/PDQ9gb8mf/YAU8D1wP8AhwBwP+HAMUDBwiaCmEIL//t7/PfBdeK2jvqZQGiGpsxaUKaSS1GvDr2K0keLBXvEgYXsxx1HQ4WtQjy+W3sleBJ1/zSw9X83hzrVvW5+SH3EPBE6Z/mJum179z4cAPADWkVehiEFq0QFAk5Ain+jf1k//QBDgRVBZsFXAQxAbP8q/gp9w35W/3+AWEFOAcDCAQIDgcpBRYDBwLCAg4F3AcBCt4KgAotCQoHJgTWAMT9qvsG+9v7uP30/yACAAToBGIDRv6I9qnvle298SX6BQM7CZELsAoeCCcFRQKl/xj+6/7/ATMEpADi9HHk7dfI18bmoQBdHeg1mEamTpFOSEeAOnUr0h7KGPgZ0h08HewTuANy8tfk69ux1hLVLNg84O7q+PN994f07e246N7o4+5b+EICqwqXEGQTwBL5DhAJxAKB/lT+HwICB0UJLAeuAeL6YvRd70DtXe/L9ef++gdhDp8Q+g5WCyIIFAeOCM4LdQ8BEmYSdBDGDEwIDQQBAZ//T/+r/rH8qfnB9uL0NPSk9IT2afpPAMkGBgtGChcEYPvC9E/znfbg+4kAlwP3BH0EwAHb/BT33PJt8m71sPeu8xzoVdvl1zbkQv1uGUAwAD/yRhZJx0QBOrgrSB9YGXwaMB5dHVMTagHW7bvebdb80ynWkdw75lTwG/cA+A7zQOua5bHmbe8a/F4HWQ6KESASyQ/aCdEBa/sH+i3+PwUhC1kMxAfi/mv0kOqS4tndWt4+5UTx7/5hCjYRIhOqETUPuA3HDecOhRA9Ej0TFxLYDRoHs/+A+Y31C/Rs9Ib1KPbz9Wb1EfXs9MH07/R69jj68f81BsAKSgu6Blr+1vVi8cfy/Pfs/O3+YP7e/Lz6I/cw8nDtmukE5avdx9R5z5zTCeS5/hkdZDYWRO5FGkHLOjI0niy8Je0iFCSWIzgbLgpM9WriH9XtzgfQ2tZG4EjpAvD18snwQeqi427i++jP9CUBYAojD40PgwyFB2sC6v4x/nEAYwR7B1kHPwMb/GPzW+pL4tXcfdvD3rnlfu439/j+0AX+CxgRTRRbFfYUAhSvEo0QUA01CbsEUQBI/Mz47vW982/yLvLW8v3zQvVg9hf3Qvcs94L30/hX+xT/mgNGB4AH7AJ4+1H1PvNc9MX10/UH9TH0KfOo8Srwqu4M64TiqtWkyg7K2NiU9BEVOTEyQ8FJOkd1Pwg2gy1vJ0AkuyLKH9wXUwnv9erh1dHzyKjIM9B93M7o0fCY8hvvH+nk43bi+eZr8cr+Qgo2EGwQTw0xCeoE8gDE/v7/GwTtB/sHMQMB+4rxTOiI4Nvbrdsd4MXnmvD1+AAAkwXuCX0NrRC0E0sWqRcTF4cUxBCMDB8IiAMZ/y/7s/cx9LHwBe4W7QTuBPDv8QHzafNX9Ab3d/tmANEE3wiiDGMOggucA/f5CvPj8DryZ/SC9Q/1zvP58sLy6PD46TLdjs/lyRvTCOtJCt0m1DkKQnJCUz5jNxovWigvJlco/CnMJOAV5/9G6UPYJdCa0PbWE+BC6Svws/IK8ObpPuRF4yXp9PQWA90O6RT5FIMRYQ3zCXAHHQZfBrwHggjIBqQBqvm88HzpBuad5qTpJ+1Y8Jzzh/c7/HoB9AZhDJQRSRa6GaoadBgJFG8P+QtECRUG1QEb/Q35ivai9Yv1TPW09Ib0bvUN93X4bvng+un90AKsCHYNrQ7ZCiQDFvsU9hj13/bC+dn8lf8mAXcARfxS86DlQdaly9LMHt2V+eoZcjTNQo9EEz6pNLcrESWSIoEl0itLLxAp6hZp/QLlBtUo0H3U6N2v6Erylfh++XT0JOz55eHmCfAp/rkLJhQIFkgTPA9FDOEKuArXC2cOVxEYEicODgUL+ent6uYh5UPnJOuK75z0s/opAagGZwrlDF4PnRIiFkAYUxdKE/cNjwnABpgEOQIMAOv+jP6X/VX7y/i798z4/Prb/Pb96v51AMECmAW3CIQLrgypCgAFQf1n9lHzHvWO+rMAzwS8BXQDS/258V/h+dGozJfX5vDGD1oqsTroP6o8UzUhLrspvyhaKpIsCizNJCcVBADS62Pe0Nmw3DfkhO3P9ar6rvoZ9v7uG+mb6IjvpPtWB7AN8g1JC2IJlAnrCgoMZQwYDCkLHwk+BUL/I/gN8grvd+/f8Z70Vfet+uH+EQMTBpIHVQiRCegLow7ZD+UNNQlOBJQBKAFfAQUBaAAnAOP/tf51/Pv5WPhG+Aj6Nv2mADwD2wQzBnQHuAfeBbQBR/x791z14vbp+uj+LgHOAasAvfvf8ODhe9WM0xbgCvkEF+0vkzvbOK8uNyaBI4MkWibvKDwscizsI1gRTvou5z7dsdxy4nDqEvFE9PrzZvHa7czqe+oj78r4KQSVDDYPqQzoB/oDVwKiAoEDuAPKAsUAtv2R+b30dvBk7pXvuPMq+c79EQCq/5f9iPvb+un7HP6kAP4C0ASgBQUFTwObAe8ASgG5AT4Bif/r/Av6vPe39hr3PfhM+Rz6M/v2/BT/3gACApUCYAKMAIv8ePcH9Iv09fgV/3kEQwctBX77E+rS1jjMd9IJ6fsGNyG5MHw0rS8bJ0MfIxvgG84gTSfEKjsmuBd9AoftT9+k2oTek+d88Sj4P/kJ9eTtBeeY4+rlHe5v+YUDIgm6Cd8G0gKu/9f+VgC+Ai4ElwPeAFf8qfYu8aDt/+zf7sbxE/Sx9Jbz3vEX8RrysvRr+Bf9JgL+BdoGkATlAAX+2vz9/Iz9xf0e/Xb7Ofkf96T12PSe9Pj0D/YF+Jr69fwL/n79+Ptw+mX5IPlR+qP9gALZBmQIhgUU/aPu8dyBz4rP8OD7/c0alS3OM88wOym6IIYalBmHHgUmEiqwJZ0XpwKL7CjcrtaD3JnoyfNq+fr4MfT17JPlduHD46zsrPjEApoH5gbtAvP+bP3Y/vMBIgWIB8sIKwiNBLz9cfXh7rXsEO8/85r1IvSY72zq9OaT5q3ps+8m9zv+lwNuBkgGcwO9/9v9VP8HAxAGDAaZAkD9Y/jV9bf1rvaB90b4ifnG+r/6TfnA9w33m/aY9dT0HvYd+rr/XwWRCQkK5gNc9lzlttio12fk4fopE7Yloy5BLnMn/B0NFqcTgBjfIWQp6ChyHvYMJfpo6+Xj1OMM6UDwNfZ6+Ab24O8v6d3lXug58Gj6DQNrBwUHfwN0/x79ov38ACgGUAtPDo0NwghaARj6wPVn9a736fkX+sX3efMo7mzpdefL6f3vyPeL/nEC5QKrAM39m/w8/vEB2QUlCOUHMgUPAeT82/my+M759vzAAPUCIwLl/jv73PhF+Ar5evoB/If9a//DAbgD9wOfAVL85fOe6ejh7uKY7wsEVBiGJqItSS/ZLK8nkCKqIO4iCCf+KEUlIRrGCOL17Oc14wXnnO719Jv3gfaF8svsVOcQ5XPoavHC/N8Fiwm1BycDif8x/xwCmAbvClwObhALEAkMCQX2/f757Pm/+5388/oj9/jygPCs8K3y6fTk9qn5/f2TAtoEwwM0AWYA5QJCB4oK1AqWCL4FxQOsApMBBQCD/gP+B/8OAcwCJwM6Ai0BvQBJAMv+qPy7+2n9NQFnBTEIrwfNAQv23+db3hbgru6BBWAc6SsFMb0tECeUIYcfPiEbJjws5y/ELMEgAQ4P+hDr3eQ85zPudPSH9h30A+946bLl3uUz6570x/4BBlkIUAY+AhL/1f6qARIGUwqUDX0PXg9qDBoHvwET/9v/DgKFApv/Vvod9a/xbPAn8cnz9/eK/BwA/gFsAhcC8gE9A8YGowtAD2UPUgxtCOsFHgXzBIAEuQPzAkkCcQEIAAz+I/xa+yr8xv2w/lP+wf2J/vYA3wPzBYsGtQSM/hfzauW43LjfVe/LBcUaMyhZLB8pmSJSHWscVyAhJ4Atoy8fKgkc0wgq96/sa+pB7UDxEPS89MbySe7G6ArlyeXs66f1Gv9oBDEEXgCa/KH73v3/AXoGSgqZDFgM2QgbAyD+C/1TAPgE8wayBOf/Qfv798v1dPR79EX2OvkG/Hz9Kf2S+zr6/vqi/s0D0wffCFAH8gQqAzoC8QFeAnYDaQT9A8kB0/64/EX8AP3z/Zv++f4U/63+i/3l+236//kQ+1f92f9uAT0Brv4u+c7wqOdi4vjlqfPkBgQYwyFIJCwjUiFyH+8dXB71IQEn8ijGI1gXigep+XTxiO+P8fHzL/Qb8t3uLOsT53/j0+Lx5q/uKfbw+bP5v/eN9jv3yvm2/Q8CkAUqB4IG1QPb//r7Ivp++xX/IwJMAmv/SPvc9xf26vXQ9hT4BflP+TH5PPnU+QH7k/xH/sP/owCzABsAXP/z/hT/j/8fALAALAErARsA5f1Z+575M/mu+Xr6hPsN/f/+tABjAawA3P7D/ET7zPox+xj8PP0G/hv9+Pie8ZTp0+Rd5mDuS/pBBvgOCxNAE68RXxB/EJgSzBZnHEghjiKGHisWmgztBIMA5/7P/gX/mP7P/DX5wPMk7Qnnl+Mj5NfnDOxg7oru++3o7TDuSO6J7hLwbfOw9yX7nvxN/IT7rPs8/X3/SgEgAk0CUQJJAvYBMAEdACr/yP7u/sX+Ov0/+lL3S/aX99T5NPvs+mT5f/fz9Rb17fRy9ej2kfnz/LL/ngD5/zP/dv+qAAgCJwNGBKMF9AZpBzsGWAO0/8L8Uvv8+sb6SvrZ+X35O/iw9I3ugOek4r7ib+jG8Zj7lwNQCWQNTBAnEoUTsRW3GRcfpiP3JCEiVBzOFTcQ2wtfCM0FiwRQBJ4DrwAE++nzk+3D6fboWOo97A/tROyQ6hbpceiJ6Dnpu+pP7aPwzPP/9Tr3Qvjn+Ub8v/6eAM8BwQKwAzwE3gOzAq8B3QFsA2AFPgYuBbYCVwA7/zH/Df8J/pf8r/uR+5b7Ivtk+uP5xPne+WP65ft1/jYBHgPpAxAE8gORAxYDDQPDA8kEbQWLBWwFCQXdA7IBLP9S/b78T/1e/v7+Vf4//GD5Q/aE8ojtOehZ5Yfn3O7N+CQC6wjbDMoOBhDAEZ8UtRi6HQkjSSetKP0lsB/sF0wRag0LDJMLcgpHCHUFwQEb/Ff0luzy55Hnsumy617sAOwR68Lpeujn543ouOq67mX0PfoS/g//qP4N//kAkQPRBXoHogg0CS4J3QiECCYIxgeKB0sHcga6BNsC9gFWAiIDYwP8AoYCiwIWA+MDpgQmBUoFFgWwBE0EIgRPBM8EfQUYBjwGdQWjA3gBQADQAKECJgQvBMoC3QAP/179tvuL+pP6+fvv/UX/Z//J/lf+h/4H/0P/HP/n/ob+ufwB+LvwPOoO6WPvIvuNB8YQ3BUuGJoZRBtyHRsgeiPoJ74sdC/yLIUkMBllD3sJuQZhBWkEGAMlAIL6sPK56s3kUeKq49HnJuzD7dvrd+hl5snmGenP7D/yh/l0AeAHBQuZChoIHAa/BjQKtQ4dEmoTrRIWELULQQZjAdj+IP8NAVECwgDc+3r17fCa8Ev02flp/4MEKQmRDKwNzAwtDEoOnRMEGmEewR5bG/IVehAgDCUJTQdBBowFTwRiATz86/Xa8APvH/Dg8TjyO/GD8ADxBfKs8ovzUPaq+yECOQd4CTgJ8wcbB3QH4AhqCtcKfQltBoYBsPn97WLgstaL18/kHvlZC08VShfcFToVCheVGzQjtS2qODM/WTyWLvIZdgYh+wL5Hvt4+xD4zPJR7bnm790o1VbR1dX/4C3tw/TR9dDym/AH83T6IATUDBwT8BbbF60Umg30BXoCKgXyCigObgsOBML76vRs76TqVOch55LqFPDs9A/3gPZl9Zz2g/u4AlIJdQ25D+ARqBQ/F8AYmBn7GhMdLB4dHI0WkQ/XCUIGkwM5AAb85Pd+9KfxGe8/7RPtPe9m8yj4wvtF/UH9NP0t/gsA9QFJA/oDOQQMBCkDMAFL/oX7Nvqu+qb7Zftk+Yf24vPN8TfwTO9c70jwdPFD8k7y8vDf7O3keNoi08bWRuluBSAfVyyJLBkndyPfIxwnmCyeNBA9/z8SNwkhMAQX663dJtwR4ITiMOHA3bXZnNStzljLpc+R3WPxoQPnDdMObAqvBhwHDAv6D4wUixibGrkXKA5pAEX0ke7h77P0Qvh+923yg+uu5aDiwuIr5v/saPbO/+MF9gZoBMkBUQKkBpIM5hC0EVsPhAueB18EZAJ6AssEDAjyCdUI1QSU/xD7oviE+Ln5hfqS+Qz3gfSK86b0YPcr+4v/kAPVBYcFSgO9ABP/SP6h/ZX8Bvvq+B72v/J971jtAO1Z7o7wbvIC8yry8PDy8CLz/vY6+wT/JQIXBNADAwEe/Tn6T/kA+m77JPw1+Y3v2N+40HbLetWB7FgIwh/yLM4v+SwPKuEpUCz8MB04ej9MQD8zuBdd9lrb/80szV/STddC2bDYi9b20tXO9s2Y1W3ncf7JETcbqxqlFE8O5QoYC5sNbhAPEmAR0QwbA6n1ZOmQ42DlOetJ8DDyafFb7xDtbuu16zHvUvbr/1cJrA9kEUgPzAtzCV4J4QpEDA8M4wkvBoABnvwr+UT5eP2IA+cHtwjrBo0EqgJKAaYAWAFEAxAFIAX2AnX/FPwZ+jf6Wvx4/8wBywE9/2P7D/hc9kr2I/cP+Fb4bvc99V/y/u9A76bwxvOW9/j6L/0O/vT9z/3V/sQBJgZXCnkMdAtzB+YB+/xx+mD6Sfuc+8T6Qvhj8jPnltcCyX3DAc2H5ToGpiSMOJBAhkH7QO1A/0DpQTVFIklLR1I59B7r/mDi4M8KydPKoc/S0oDTntOO1LnVFNeL2wnnwPlnDrIdaSNpINUY+BBQC2oIrwckCGkIlwbXAM72h+ri36HabdwA5ODtX/Z5+0b9D/1R/Jj8h//9BeIOKheZG8ga5xXXD3AL+wmfCjkLEAoABzID8v/3/Zr9NP/zAjkIYA15EKYQ0g73DFgMbQytC1wJRQaxA/8BkADJ/tv8qPsS/F7+twFQBIIEMgLn/kf8uvqo+bX4L/hI+JP4bPig93b2cvUy9Sn2IfhO+kP8lf79AQUG+gh9Cb0HEwW/AikBDQAT/2T+k/6x/44Abf+V+5z1xe1Q49HW98xEzY7chvjVGGo0E0aRTedN+kq9R6RF8UT1RJtDSz2MLtwWLPpd38DM58Tdxf7KGtBs0znVMNYB10XZwt+a7PT+lBLYIZQoOyYbHkcVSw9QDGgKLwiRBVgCQ/1Q9Z3rReNW3/bg8eaK7gb1PPnn+2X+RgF8BH0IQQ6IFeMbSB7OG2EW2BDCDAYK8wcABrcDrgAO/cP54PfJ92b54/yaAvUJ5BArFTkWUhX6E7oSWxGvD6wNLQs1CEMF6QIUAUP/df14/Nr84f3q/fb7p/iw9Vj0gvQu9bP1XvbU9xv6hPxb/nr/MQDkALEBYQKSAi0CmAErAZwAcP/f/cv8g/xQ/Gn70vni96j1gPOr8l70a/i1/VUD4wfTB/3+d+0Q2pjOmtGe40YA5h8qOS1FGESyPDE2OTMxMwk2zjviQMw9vSwaD0DtadGCwpjBKsoJ1ZDcD9+c3Y7ZTtQ10WzVQeRZ+zsT8COSKYElYRwgE+YMfgoEC9IM7Q0HDCEFDflx6sjd3Naw1pDbieLr6Bjt9u7i79jxL/YZ/RIGMBC8GS8ghCHeHYkXLREuDKIIKwaDBIsDNgM8A74ClgCa/G74YvZX9w76tPyy/tAA8wP1B5sLWQ10DMoJUgdfBlkGgAUOAwQAtv0F/LT5Qvbb8izxmfHe8mDzkfI58ZHwOfHO8nz0zvUL98f4R/s9/vsAzAJZAxUD7gIhA2MC1P5G+Cvxtuwd7PntKvCm8ZzyofNJ9R74V/yUAfIGNQuTDL4I/P3j7J3Zjcu0ygzbX/g6FyUscTP9MaIuRiy3KusqbC/5N9I+9TtbKyoQz/Iq3CvRBtHV1jzdC+E94b/dS9dF0J3MC9DK23Ltkv8tDDUQZw2jCA4GrwZVCbIM+A8XEmsRiQxLA2r3Newu5dPje+ag6ZbqGems5hzlp+XW6HPutfWL/bEEpglBC/4JYghaCcENqBMHGBwZRRcTFN4QBw5NC5AIJwZWBIsCh/+Q+oL0dO8s7eTtZvA183z1M/er+DT68fvK/Yz/OgEtA3AFHQfTBjoEvgBJ/lT9pvzz+k342fV39Az00/Mg8/rxLPGT8RnzpvQx9bn08vNQ89zy2vLv82/23vk9/Zn/cQACAGz/AwApAt0EtgYSByEGQwTiAc7/+f5c/wz/+Ppf8X7ku9rp2gnnYPokDSoaHCFQJOklGSenKPYqzi2FMAkyaTBlKXAcJgz4/E3yDO0G7LjsEOwX6H/h39ok1qXT2tMz2P/gd+uB81r3Yfil+C75wPpm/gYEVwmgC00KBQd8AzsAdP3T++j7LP0n/nj9ofo69rvx6u7w7qrxuPVV+Wv7Rfww/Uz/pwKXBqwK2w7MEpQVdRahFd4TyRG3D/sNygzlC80KMQncBnUD+/5/+rv3d/e2+NL5Fvru+eX5HPqa+pX7Nv1e/94BgwTgBmMI2AipCGwIVQhHCDEICAiFB08GdgR1AosAWv5h+8T3afQ78m/xkvEt8jrz2/TC9jT4z/hC+eP6Zf4YA3wHegoLDMYMHQ0ODXwMsAtiCwwMJw1WDZ0LWgjABGoB1v1t+bj0LfEO8MzxH/Yi/DgClAZ1CNkIkQmxC/4OhxJ7FVMXxhfSFssUIhIwDzMMZQnyBt8EGQNnAV7/ifzi+Aj18PFK8EDwdfEd8z/0U/TC85nzoPTS9p35cvz1/u0AQgL3AhgDwwJlAqYC0wNoBXcGewapBYYEawOIAv8B4QEdApAC/gL3AhUCiQA5/wP/+f9wAckC8wM1Bb0GWgiOCd4JPwlFCL0HBwjjCM8JaQp/CgwKXgnpCMoIhQiPBwAGiwTFA7QDAgRwBOQEQQVUBfYENQRpAwsDWQMUBLQE5QStBBIE5wIcATX/CP4e/kr/2AD5AQ8CCwGK/2n+FP5C/o7+/f7B/5sA1QAGAJ7+if1j/RX+D/+6/8D/PP+2/sT+if+OAEABeQGBAZUBqAGdAZQB0gFzAkgDAARRBBMEVQNfAo4BEQHvACYBpAEpAmACPQIPAhICIwL+AbUBkgGeAYsBLAG/AKMA9ACOAUIC1ALhAjgCPgHNAGkBwALoAzAEogPLAjEC6gG9AZABkQHwAXwCxAKEAuYBPAG+AIIAkQDNAN0AdQCp/9b+SP74/cL9rf3m/YT+WP8OAHcArADtAEcBhgGHAXsBpgHvAeMBRAFgAK//SP/x/oz+Sf5T/pX+0/7d/pT+8f0v/cH8/vzE/Yr+3P6v/lL+Gf4s/oL++f5z/9//MgBYADcAx/8l/4/+TP6D/hD/i/+S/xn/bf7k/Z39i/2j/eP9OP5w/lb+2P0m/ab8vfyJ/cj+///DAO4AlQD//4X/Z/+o/w8AXgBuACgAeP9m/jT9Sfzj++77HPwy/C78MvxP/Gv8a/xn/J/8NP34/Zj+8v4m/1D/U/8G/3j+9f2z/Zr9Yv3u/HP8SfyL/Pv8OP0Z/cv8oPzP/Fj9Ev7D/jX/TP8P/5v+Bf5f/dH8kPyx/AH9LP0L/cr8svzh/Db9e/2K/Vn96vxb/Ob7w/v0+0D8dvyN/I/8cPwh/L/7ivun+/n7Vvy8/Db9of23/V39yvxV/Cz8Rfx2/Jr8m/x//GT8avye/Pz8bP2+/cb9kP1p/ZX9D/6Z/g//fv/i/wMAuf8p/7v+tf4E/0z/JP9T/vL8d/tz+jH6lPpF+/X7c/yf/Gz87Ptb+w37S/sf/EL9Nf6Z/m3+9f19/TX9Mv12/d39JP4a/r39NP2u/En8F/wX/D38ePy3/PL8Nv2e/Tv+6v5g/2r/HP/C/pL+lf64/uP+8f60/h/+Xv3B/IH8ovwB/XT92P0a/i/+Gf7o/cH91f02/r/+K/9R/0X/MP8e///+xP56/jf++/28/Y39nP3+/YD+zv7G/pD+Zf5P/jH+D/4S/lX+uf4L/zL/P/9F/0j/Uv94/77//P/x/4b/+P6o/rL+yP6K/vr9fv1n/Zn9wf3F/dX9Ff5s/qz+0f75/jz/of8WAHIAgwBLACMAdABLAT4C2QIBA+gCqgIrAlcBZQC//5b/sv+s/0z/sP4X/q79hf2j/ff9Uv6D/p3+6v6X/3kAOgGyAQMCTwJ7Ak4CwQEZAb0A4ABeAdwBBgK9ARoBUwCk/zb/FP8u/2r/u/8YAHAAsQDfABQBXwGtAeoBEgInAiMCAQLaAcsB2AHlAeUB5QH1AQEC7AGyAXEBRgE3AUQBdgHQATYCbgJPAucBeAFBAVABiAHBAd8ByQFyAfwAqgCqAOkAMgFuAa4B+wE1AjcCDgLrAeoBBAIrAmUCuAIMAzgDNAMrA1ADoQPeA8gDZwP1Ap0CWQILArYBdQFZAVsBawGLAb0B9wEqAlQCggK9Av8CPANoA4EDiQOAA18DIgPcArQCywISA1IDWwMuA+kCqAJ0AlkCbgK0AgUDKAMIA78CdwJLAjwCTQJ+ArkC3ALZAsACrgKiAooCYQJAAj8CWQJxAnUCZgJLAisCFAIjAnEC9AKJAwgEYQSPBIoEQASxAwgDkgKAAsECCwMbA+sCqgKCAm4CTwIbAvEB9AEiAlcCdQKBAowCmwKqAs0CKgPEA1cEkgRsBCwEDwQEBM8DbwMqAzgDggO7A7ADXQPbAkUCxAGAAXoBhgF9AWcBWAFFAQ4BugCJALQAMwHOAVYCuQLyAvYCzgKcAooCqgL0Ak4DjgORA0kDywJDAtYBmgGIAX8BVAH8AJoAWABAAEUAbQDVAHQBAgI1AhIC7AEGAlwCuwIBAyUDGwPIAigCYwG3AEwAKgBKAJYA2wDgAJUAKADh/+f/LQCRAPoAWQGTAYYBLgG8AHsAlQDyAF4BswHnAfEBuAEqAWMArf9D/zH/UP9u/3X/bf9q/2X/SP8S//j+Pv/s/6wAHAEXAcYAYAAAALT/l/+t/9D/1f+3/5L/c/9M/x//Cf8k/1//mf/H//3/RACLAL4A2wDxAAoBHQEnASsBJQH8AJ8ALQDr//v/NABHABYAzv+j/53/mf+H/3v/gf+E/2T/HP/R/rH+zv4V/2n/vf8JADoALADm/6L/n//R//r/AgATAEcAaQAvAKn/Ov8s/2D/hf+A/4D/sf/1//z/pv8w//n+I/9+/9H/EgBQAHIAUwD//7f/q//O/wYAWwDXAFgBowGtAZwBgwFGAc4AQADi/83/2f/D/23/8/6P/mv+e/6P/of+cf5z/pb+wv7e/vX+J/9+/9n/CwAXADUAkAAQAWoBdAFBAfEAhAD9/4n/bf+5/y0AeQBtABoAsf9n/1n/dP+O/57/vP/9/0gAewCJAIQAfwCGAKYA2QD7APYA5wD7ABoB9gB5APn/0P/p/97/d//p/oD+T/41/iH+Iv5K/pX+5f4X/yD/E/8E//D+3P78/oT/RQDJANQAqwCmAKYAWQDW/4j/jf+I/0b/D/8i/zP/5v6B/o/+8v77/n3+L/6Q/g7/2P4o/v79qf5f/3z/Yf+z/08ArQDpAJEBgwLhAm4CHgKzAn0DRwM0AqsBRgLyAo8CnQFrAQ0CRwKPAesAIAEOAUr/Df3M/cICJQizCDsEhACFAhwI1Ap5CPMFFQhBDEoLDAOH+T71i/X09Bzx0Ox06mXom+Qq4SviBui87vHyVPUM+On6/fsa+4n6Ffy//k4ARgBaAAcCogQvBsYFhwQaBMQEbgUlBd0DwwHu/kH8vPub/j0DMAazBXoDgQLNAwYGnQdSCMQIYAkMCkMKYAlSBzQFuAR1BiMJzAp0CmUIbAVwAn8AUABxAXwCfwLRAUUB6gA9AEz/Bf8AAFkBMQGG/mj6Vvcy9635rfxC/jv+uv1p/Z/8ivrX93z2vPfC+nr9jP4e/gb93vsB+6n6vfrF+qP6DPus/OH+BQBX/w/+Fv7D/3YBgAH//6f+8/7IAM4C2wPPA0IDmQK+AawA2f/h/+oAmgJlBLkFEQZeBWcEPQQUBQAGKQbVBdAFJgYvBrsFVwUmBSoEjQFJ/rP8Hv5eAfIDVwQFA3IBpADWAAwCUARGB8AJSApQCOYEIAKrAasDowZgCGgHDgRHABz+Dv4I/8T/AAApADgAlf8W/rT8wPxo/lcA5wCn/639gvzN/BP+eP+YAJIBawLOAmwCjQEEAY4BLAMlBZgGKQcLB40GswVUBIgCuQBg/9D+Vf8gAe4D6AZCCeoKWgzBDagOpg4SDrcN8g13DuQOKA9bD3UPZg8hD3MOAw29CjQIJQa5BGwDxAG4/079O/pc9mDyhu9x7n7ude7I7f/sBe097kvwgPJJ9GT14fUq9tb2VPiW+kL9+/9mAt4DqwPiAev/iP9QAUME7wajCEEJiwhRBkgDEwEHAQsDwAWgB+QHygZRBZMEEwWJBk4I4An7CogLxgskDH8MigutB9gAWPmI9I709Pg1/8gEFQmNDXoTxxmaHX8dMBusGf4Z2xoKG+8aexuWHFMdBx11G1YYlRPVDSEI/QJQ/gj6Sfbn8o7va+z46dDnkeSD38LZDtXY0VfPWM39zGzPZNSN2rfgauah633wMfXQ+T/+eAK+BlwLUhBdFSUaNx4NIWIigCLlIdIgTB9pHTwbixgRFQURAA0yCSAFcwCY+1D31/PH8LXtleqo513lMORe5LzlC+hT653vcfQN+Q79ggBVAzQFSQZqBz8JjgvkDWYQQRNNFTcUeA72BKT6pfLO7hvvP/IA91L92wUYEIoZZh/0IKAfBh3MGXIWHhTDExwVLxeeGZgckR/hIA8fAhqvEhcK/QAt+HHwLepc5fXhEuCa3+bfz98k3krax9QIz1zKI8c2xffEacf5zLfUJd2M5fLtAPan/DQBPgQEBxwKMw0PEDATNRflGz4gciNlJTAmiyURI+we4hmiFGYPSQq2BR4CZ//n/BH66Pa785vwMu0x6dzkG+Hg3l/e7t7a3z7h0uPt5xPtb/Jz99D7RP+8AYED2AS0BQUG7QUxBbsCxP2i94zz0fO198b81wHaB9cPEBlrIR8nfynaKD4mJyOuINweHh1NG/YZkBnaGQwaZhlzFwMUIw/yCHoB5vjb71jn/t/a2QvVH9JB0WPRA9Hezw7PSc+wz+bO7MwyyyHLK80u0fHWFd4k5uzuXPjaAUEK2BDNFW4ZhRsSHAYcYRzkHLAcDxxbHN8dEB+CHpgcSRo2F1MS7QuABaD/ovmX8/Xufuzz6hPpwOeA6Hbq3eqn6PPlOuVt5t3n6+hx6gztSfCe8xX3vfor/vkAGQNMBKUDPgB6+mr0vPD88JH0mvkO/8sFDA/3Gb8jSCrbLa4v1C+0LdMptiUGIjAeLBpDF04WMBYgFccSABD1DL4I4wIE/Lf00OxO5DLcqNX80ADO8swizsvQTNOi1DPV/tV+11/Z9trY24jcZd504ijoGe798wr76AM9DRoVQBvKIN4lICmpKVgogCY7JOkg0RwcGWEWFhSpEVgPpQ1yDAgLugg1BYwASPsr9prxVO0I6Q/lPuIP4TnhKOKc48Dl2ujl7FLxMPXT91b5Xfpm+3L8VP3U/YP92vv5+Cf2FvWJ9tT5yP3xAeoGlQ0OFh8fxiaEK20t5i0iLvotZSzlKEYk6x+ZHCYaBRjXFX4T5xATDhILxgelAxD+Cfdv72XoiuLd3SXaMNfW1B7TbtI602LVMtga2xHeEOGc40bleuY06Pbqhe6t8rH3wf2YBOsLoBM2G3IhayWrJ2ApqCp1KkwoHyX0IZMeUxqbFacR+Q7nDLoKcwhUBlUEWQJRANP9MPpz9bjw/uwL6hvnT+Sp4rriJ+SU5ijq3O7t83L4Hfz6/uIAnAEGAdz+z/q+9RXy6/G99DD4Q/u2/5IHTRJOHa4mSy5hNGw45zkrOQA3tjNMLwkqiyRVH68a0BbKE28RnQ9tDqENHwyeCPQCP/yM9dTud+ds34rX49AszJHJyMhRyf7KL85F08/Zh+A75ozq3+3O8MXz1PbV+cf8FwBfBL4JyQ8iFs4coyPNKVQuETGOMvoyvzFfLlgpqyPXHagXJREMC0wGIwMLAVz/yP1O/PH6ifnH92b1a/I670vsz+mp59LlouSt5EnmWel37Sny+PZO+1D+Bf8L/V/5Ffa49OH0EvUC9Xz2Vvs9A0gMXBWvHu8nYS/jM602gzmsO2o6zDRjLVAnsyJcHVYWQA8wCnQH3AU+BCICkP/n/Hf60vfg8y3urOeb4QjcT9bK0OvMcct/yxjMqs1P0QDXad1840zpJ++q9Dr54fwoAF8DeAaUCQ0N4RCcFAsYvBtMIFAlaCmBK9IrYSuzKi0p2iWXIFEaMxSiDigJTgNb/S34WfSw8arvIe5L7QntvOzy6wnrt+ob65Prmutq65nrcOzL7XzvSvGh8svyufF48GTw4fH/87H1NfcA+jf/awYoDmYVBRwGIiYneyuZL04z0zSIMmQtXij2JIEhzxuBFGUO5AqtCAsG/wJVAOr9/fqQ9xn0NPDz6pjkx95x2p7W+dHpzEXJMsgqyS/LEc5F0uTXQt5y5PTp8O7C8134VPyT/9ACuwb6CogOKxHWE08XMBu+HhkiniWNKGwp/iesJYkjyiARHIIVkw4jCNcBgPvj9bDxi+7V68DpzOiu6LXoCelu6qHs8+0t7R7rpumb6VDq7epz61/s1u1R7/7vhO+i7sDua/B78qbzqvTQ9+39DgX/Ch4QbRZUHsol3CqPLdIuwC7sLJEpYyWFIKsaMRQ1DnYJygW8AhgAtf1O++P4tvaj9P/xWe746VflpuAZ3CjY6tTQ0bnO6MzZzSTRntT41lXZsd1I5GXrZvEi9l36hf5dAoIF9wcpCm4MpQ6PEI0SiBW+GQYe6iBfIqMjTyVQJj4lCCLLHVQZgRTtDpUIxwHt+pX0MO+i6onmK+Og4ZLiLeW+5zzp1ukX6iHq6+mv6cbpRuo369DsEe9N8YbyfvIA8u/xa/IX893zDfXx9s/5H/4OBNsKWxFkF+IdCSU0K40uUi9AL+ku6Sw1KOIhtBvqFbIPPAncAx8AEP3r+WL3YvZk9sP1gvP+7w7sI+gf5JffQNqJ1J7PaczPymfKlsslz9rUadv/4eboVPB292D9QAK+BpoK+AzSDToOGg94EBIS+BMyFoUY8BrVHTohSCQRJngm8SWWJBciPR4RGaISMguEA1782vWq7x7qMOZj5DDkzeQG5tXnv+k3613sre3u7knvlu767bPumfBz8qrz4/Sr9hP4i/cl9RPzRvMi9YP26PZi+Nb8igNhCrMQfhf1HoUl9CkRLTAwwTLLMqovDCveJhQjMB6ZF6cQWAs+CAwGQQPu/2T9FvyR+jf3V/KZ7YnpBOVW37XZptXz0mTQBc5LzRTPo9L01hTceOLM6Rfxqvdn/VECfQYsCosNYxByEuUTLhWMFgcYrBllG/Ucfh67IO4j4Sb9J1onkCYsJo0kGiCnGVkTvA1wB7b/2feX8TntCera5wbnY+cz6BnpW+oF7I7thu4b75bv1O+s73Lvru988K7xZvP69Rb5iPtd/A38IPx+/Wf/XQABALT/PwH+BLEJIw6LEvMXhB4AJREqmi1BMBIySjJ/MFctlSkBJegejRdqEL8KZAZiAlb+u/of+Gb24fTP8tvvTuzV6LLlaeKW3ufakNim1wvXUtbt1nzac+Cq5g3shfHs93T+5AN3CCcNrxGXFHIVtxXpFq0YjBkaGYkYKRn0GtYc9x2PHn4fJCHCIhQjmiHaHlgbwRamEIkJfgLY+xb1aO5L6QjnDueu50Dos+nR7MPw0/NQ9QD2z/aU92r36PW+8/3xIvEd8QPySfTw9/L7+v6oAJwBSQJzAvYBcQGIAQwCmgLGA64GYAumEMcVcBsqIrAoDC39LgMw2DArMIgsgCbtH5cZ0BJWC1QEGv+b++X4jvbq9BP0X/Pr8VHv0esq6B/lvuIc4F3cE9gU1ajUY9Yj2avcleH45+7up/Un/KMCnghDDVYQUBKeEz8UKxSxE0UTJRNUE7QTHhSRFGoVPBcTGg0d6x4UH98d1BviGHkUXA4gB83/GPk581ru8Opc6V3pOOqA62ntJ/BY8z32bfjU+Tv6QPnq9urz//Bv7lbsP+v469vugfMk+fD+/gN/ByYJPwkPCE4FwQA++6X2dfSP9MP1nPcZ+1kB2wmkEj4a7iCGJ30t9jCoMAktUicgIKEXrg7BBsMAkPzK+Zj4Hfmx+j78Gv0K/Y770feN8ajpheH/2T7Tbs1ZyQ3I/smJznXUAdte4t/q4PPi+9YB7AXBCFMKQQrnCH4H9AY1B/MHmgnoDK8RpxagGmwdbh+cIF8gUR7NGpQWKxKrDQwJiwSQAFP9pPo0+Av2jPTj86LzH/Mx8lbx/vDu8Jfw2e8s7/buCu/57rTuku7Q7mHvOPBw8QPzo/Qe9rL3pfms+zH9Kv4T/9H/Qf94/Cz4KfRJ8dXuNOx36mfrVu/P9JH6HgGcCZwT1BwxI68mvyguKioqfCdMIjgc0BZcEmkO9ApuCM0GUAWLA+wBoQBq/nv5tvEl6c7hudu31ajPEMtayWXKLs1W0TrXsd5n5sfsSfGT9Fn3fflq+i/66Png+nf9OwHhBawLlBKGGfAeAyLzIhUiVB+xGt4U8Q61CZoF9wLoAe0BNgJmAsQCaQOnA3sCgP85+432K/Jm7lzrM+lD6AfpuOvk7330cfg7+wj9Uf4p/+j+q/x9+OXz2vAJ8HvwG/Em8p70mvjh/EMAmALaA+8CVv5M9pTtZefe5N3kTubz6X3xNf0DC+YXGSK4KXwvNTOxMxEwACmJINEYDBN6D90Nvw2QDvUP3xHfE1oUGBEYCan9NvE+5fDZjs9lx+nCbsI8xYbKwNES2iDirehF7TTwE/JV8w/0LPQS9Az1g/ir/loGbg69FikfViY4KiEqVCdPIyweUhctD2wHiAGx/VL7Hvoq+lr7HP2o/ln/3P5f/Yf7CPoc+YD4EvhQ+AL6Uf1aAdYEIweNCIkJ+AlgCbAHfwVzA7UBHwCo/nH9jfzl+1P7q/q++YT4PfcZ9u30bPPD8aDwlvC58fDzS/e0+4cA4wRGCI4KcAt3CrYHGASCAPb8Eflg9bnz0PV8+7ACSAnGDi4UIRp9HygiNCHiHVcaqBeVFcgTlxJMEmsSPhKvEegQNw84C4UEk/xQ9THvSek640LeIdxM3bPg4uT86NLsgPDz84H2KvfP9SL0ivTR93P8tADEBPcJTRDnFR4ZHhrjGYIYaxX7EJIMCgkEBiYDSwG8AXwE8QczCmUK7Ai/BnoE3AE1/qH5vvWX9LP2gvr1/WAAhgIWBZ0H7ghICOsF3wI/AKf+Ev5B/iH/2QB7A4UG2QhDCVEHzAMhADj9+foS+ef3U/iY+uv9BgGfAj8Bmfvx8S/nkN+l3bjgZ+bK7XD40gcIGtEppzKnNNQzXTOZMhIvoSghInIeQh7WIDclZinmKTIkoRkMDiMDwvbh5vvVxcmsxfHHVMyE0CnVcdu+4t7oAOwf7Mbq1+mp6ubtmfMU+0QDmAtEFAUd6iNWJpwj6h0OGAMTNQ6NCRcGtwQgBVMGQgfHBtQDYf7U9+/xYe3K6dXmCeWs5QXqTPLk/CUHlw/zFlEeuSTKJ+MmSCSdIjIipiFLIJ4exxwFGr4VLhCqCQgCX/m18Hnpc+SF4QjgG98Y3irdP93s3qzhpuTb5/3rRvEG92D86QChBMgHwQqjDdcPrBBKEIwPzg5pDXwKkgWp/oP2Iu+R6orotOaF5HLlGe3f+fwFOg7hFO8cDiXBKbsq7Sq/K5wrwilbKPsoVin1JQ0f6BfQETYKt/7m8Kfk4Nt01fDPmcuRyQfKEszazknSf9Yo26nfAeQT6bDvdvch/xAGzAywE5UZsRywHDMb9xkkGc8XlxUcE/cQ7g5PDKYIyQOc/VH2Ce+d6WXnP+gP6yXvl/Q3+7oBhAb1CKIJYwnTCIQI0ghUCSAJMQjCB8kIdQr5CmUJIgbhASf9sPhL9e/y0vDU7tntV+5Q74Pv7+5e7gjut+3n7YzvuvKd9tX6wP8aBXgJtgshDGUL8AgQA4j46OlW2jHPbs201bzjwfLoAZ8SciNjLxszfTDZK6QnjSTOI1cmSCocLLEqyyfvI0ocQw6D+5PoptiNzMzENcIfxBDID8wR0FrUzdfl2PXXg9eH2pPi4e6W/IkItBF8Ge8gWCbKJvQh/xpQFZoRrA7kC48JbAc7BCr/tPjA8Wvqe+K62kjVSdQs2FbfQ+cc7mjzoPeN+/b/dgUqDJwTSRsdIwsrEzJFNgo2STFBKXgfEhXhCoUBV/lj8pns7edE5HDhWN/73UrdF91e3WfeleAI5Ijou+1D86/4bv0QAYsDIAUOBnYGkQbFBkIHuwfGB3AH6AaaBVUC4fyr9ujwKupb39fPt78pteCzurvoypPfQveqDpIjJDbrRg9UUFozWaRUPVGZT4dMgEVeO2Uw9CRiF5gGhfP330/N/7xVsT6s+KwisNiyabVPur7CNM2B13bh2uwA+yYLABstKAwxBzXbNFgy9y57Kn8juBkcDzUGi/9Z+eDxOumj4N/YHdIDzbLKkcv4znXUjNxd5yrzZP1kBTgNRhezI3gwWzsdQyZHFEcdQzM8VzPrKBQdnBDwBBj73PJf62bkw95X2/bZp9nu2Vjbr972437qh/Fl+ED+YwL2BOoGEAloC3UNvg7hDqkNYAusCMAFHwKP/d34EfU48rTvfO0k7K3rDOvW6KHjC9pQzLW+x7hUwBrVAfJ6EUMvPkf6VWNb1losV2FQs0YWPm47RT7GP/s4wSgmE5f8+uZi0gu/t67ZpKWk3q3fu8fIp9Ep1zfbsd//5m7znATWFk4mPzKzOwNCbEJmOxwv7yFIFyMQoQv0BxkDy/tB8uXnD94p1RHNZsZmwwPHV9LK4lTzIADRCCEPQxRuGEccNyHlJ2cvbjZaPFFAKkDCOXotfB4mEPMD9/k58sbsF+mB5gnl1+Tz5O/jO+K94uzn2fAT+jcBfQa7Co0NSw6rDRQNrQyXCxYK5QmQC8MMbAoqBF38KvXe7nfpIeYT5rvoZexb8BX1K/qH/YD92vpJ90XyJeml26LPl84y3jv79htiNyxKkVX8WulZtlFzRAs3kC4iLZkwZjMDLzMf6gS85ozNH7/1umG8o7+ZxJDMrNaZ36LkBOZW5sroTvCN/vwRUyW+Mjk4+Td+NMctMyOaFsML+wSrAR4AAv+W/E/2JOvi3avTq88O0UrVV9vu4yvvJfsUBU4LCA6nDu8OhxCPFAUbkSJBKZwtFi+WLfooTyFhF8oMZwPH/Kv5lfm6+vH6Nvke9sType/z7J7rM+098jX5jP+hA4cFBgZ6BdkDhAGR/wr/9/9HAdYBUAEtANj+IP14+oX2bfEX7EDo7Off63zyn/gh/Gz9W/7X/xoBOwGRAK//Uv2C9uDp5to30fnTKeWEABkeHTb/Q8ZHCUXlPz86AzTJLQsqsSqmLSktIiQ3Esz7yOaS1+PPAc+Q0t3X+NzE4EPiiODw20nXD9eh3nnt7f4eDfEUdxeLF1oWzRJSDB8F4wBcAd4EBQgrCFIE8fzB8zrrQOUb4iPhKeKf5UzrmfGW9nD5mfoW+wD8Pf4EAr0G7gsaErMZJiEcJaQjlh7dGZQXuhaHFaETbBFfDk8JIQIn+sXyoexV6Nrmiuga7Ffv4/DO8N3vy+5L7g3vVPG19GH4jvul/XD+Qf67/Uz9Kv3Q/cb/ZwJmA4EAEfpd8wHwD/G09DH43vm++bz4m/de9rn0/fIu8sLyPPOK8JfoKt1+1DzWN+a0AP4b9S4lN7M4sDhEOI41ADBWKgwotSkYLEsqtSA+D9L5neaP2pnW9tfr2izdFt6r3eTb1tgx1X/S8NJU2L/iEfAL/QcH1AyBDgoNKwrRBwgHdwcQCCAIjgdlBn0EqQHX/Qv5pPO27q/rHuvr6zzsPuvs6e/pF+zy76D0qfnT/n0DjQZoBxgHGghpDHQTQRreHaQdGhsKGDMVkRIUEJgNowrGBh4CCf2I94zx8Ot06DDoaOpZ7Qnwo/Ic9Uv2HPVk8rzwPvKg9tP7KwB5Aw8GYAdNBrgCQf4T+zb6Lvvo/G/+wf7M/FL4pPLm7WDrx+ok6xrsB+4b8cf0GPig+tn8kf+8As8EsAPO/mL4ZfT+9cT9vQljFtkfeSNTIRwc7RYJEyMQWQ7NDtcRhBXUFj0UXQ6ZBij+evZH8UjvY+/n71zwR/Fj8jzyBvAK7W3r7Ot07eHuRvBN8vz0g/cP+Wr5CvnK+F/5mvpZ+6T6+/gd+DD5fvti/Uj+N/9CAfwD0QXgBeIERwSxBLMFsAaDBywITghzB7gF1ANlAmkBlADU/03/C//1/gD/E//R/u/93/y9/CH+WQAmAhwDxAN+BNoEXQRkA7YCcAL9ASgBqABNAd8CLgQnBLwCxQBD/5f+Zv4O/l/9w/zB/Gb9W/5J/wAAWgB7ABUB7wLUBWIIWAnZCAgIhgcABxIG5gStAyICNgDG/s3+8f+iAPj/rf75/dD9I/2E++b5cflA+or7sfyv/ar+mf9SAL0A0ACgAIcAEgGDAm4E/gWjBnYG+wWKBf0EAwS6Ar8BmAEYApkCywICA4sDBATFA84C7AHIAR4CNgLpAdsBtAJkBEgG0QfhCJIJxwkXCTkHewS/Adf/8f6u/q/+y/7n/vP+Lv/9/yMBcQHj/w79+/o4+279CADpAQoDzgNYBJ8EsQSWBDcEqgNNA1cDgANqA0YDnQOBBFEFewUuBQoFUAWgBXMFqQSaA8wChQKEAioCIAHZ/zz/xf/7AP8BagKXAhoDHAQ1BcsFoQUYBeAETAXwBQwGVwVTBMcD+wN9BJME1QN6AikBegB2AKoAuQDKAEkBOQIWA2wDXwNrA7IDywNTA3ICuQGFAbYB6AHXAZYBbQGjAUECAgODA48DSQP9AskChwIEAkMBggANABUAowCVAZsCVgOBAx0DawK/AVUBRgGRASUC5wKpAzgEawQ0BKMD3QIXApkBngEuAgUDwAMZBBEEygNhA+UCdAJBAnQCAAOgA/wD4wNlA8ICMQKvARkBYgCy/z//If9J/5v/+v84ACcAw/9A/+z+7v46/6//PADcAHwBBQJhAoMCWwLqAVAB0gCrAN4AMwFrAXABWgFPAVsBZAFLAREB4gDwAEEBpwHfAcgBbgH6AJEATwBNAI4A5QAEAbUAEABf/9X+c/4z/jv+wf62/60ALwElAdQAgwArAKr/Dv+a/nf+if6f/r/+FP+R/9f/i//C/vj9lv2i/dz9Hv6B/iL/5P+BAM4A3wDuAB0BagG3AeABwgFYAccAVgA0AE4AYQA8AN7/YP/X/lX++f3X/dX9tP1Z/ff83fwU/VL9T/0b/fj8CP0i/R/9Fv1G/cL9SP57/jn+p/0J/Y78Rvwz/FL8mPz0/E79if2H/UT96vzC/Pb8Z/3F/d/91v3x/Uj+qv7R/qn+Wf4T/uH9uv2d/aH91v0u/on+zv70/v3+6f69/or+Z/5i/nD+a/4n/pf92fwm/K37e/uB+5/7uPu2+5n7fft7+4f7cvsk+9b68Pqp+8H8sf0b/gz+yf14/RD9h/wF/M77Avx//Af9bv2p/cT9yf2//az9lv2N/Zv9wv30/Rr+Jf4Y/gD+6P3N/aX9af0f/dr8sfys/L38yvzB/J/8a/wm/Nz7q/u++yn82PyV/S/+kP66/r/+s/6h/n7+Pf7m/aT9ov3e/SL+Mf77/aT9Vf0Z/d78lPxK/CD8KPxR/Hb8ffxy/Hv8qvzn/A/9Kf1v/Qv+4P6R/9n/vv97/zT/4f5p/s39Kv2e/Dz8EPwd/Ez8efyK/Ir8mPzB/PP8Ff0q/U79m/0P/oz+8/44/2r/of/i/xUAGgDo/5n/U/8W/8j+Vf7a/ZT9q/0P/n/+v/7F/q/+of6V/mv+Df6b/VT9Vf1//Z39qf3N/SL+g/63/r/+4P5N/9//NgA3AC4AhAA+AfMBMgLrAWgB8wCVAC8Atv9A//D+xP6f/mP+EP7D/Z79sf3v/UD+kf7l/kz/yP9FAK8A+wAyAV4BfgGJAXoBVwEpAe0AmwAxAL//Xv8b/+j+q/5d/h7+Ev43/l3+UP4I/qr9YP03/Sn9M/1e/az9Fv6T/iH/vP9VANwATQGrAe4B/QHKAWsBCwHBAIMAPAD6/9//9v8YABIAz/9j//D+fv4R/rz9p/3p/Xz+Rv8pABMB6QGMAt4C1QKCAg4CpAFXASAB6wCuAGgAGgDG/3T/NP8A/7L+LP5+/e38uvzi/Cr9XP2B/cT9Nv64/iX/ff/f/10A5wBYAZ0BugHLAe0BOwK4AkMDqQPJA6YDVwPlAk8CoAEAAY8ATwAdAOT/pP9o/yr/2f56/jf+O/6J/v/+dv/i/0cApwDzACABNgFKAWUBgAGNAYMBYQEpAfAA1ADmABQBKAH7AJYAKADN/3X/B/+N/jL+E/4d/jH+Tf6L/u/+WP+n/+3/TgDLADIBXgFoAY4B5QE+Al4COALtAZIBIgGdAC0AAwAkAGIAhABxADYA6P+Z/1z/Pf9D/3n/7P+JABABNAHxAJMAVwAlAL7/Jf+0/q/+7P4L/+v+xv7S/vz+Ef8O/yn/gf/z/z0AQwAaAOb/vP+x/9T/HgBxAK0A0wDxAPwA3ACeAHoAkAC4ALEAfABYAF8AXAAeAM3/of9r/7P+pP2J/ej/4wSzCvYOjxAZEIkOtwuvBqv/YPmj9+j77wK+BsoDkfxx92b4//we/6n76/XX84b3T/1UAOX/g/8DAv0FlAcWBckANP6K/i4ACAFcAKT+avz1+ZD3gfXF81HytPEC8572UPvl/gQAPf8//k/+fv85ASoDYQX6B8AKNQ3KDhQPFQ5jDOsKSQpbCoYKVQrRCT4JtQj+B7QGnQT2AZH/Wf6L/lD/bf9f/sr8u/uX+9z7x/s3+9P6evuA/V0AFgPbBGkF7gS2AxkCkAC9/xgAkwFmA3EE5wPPAeL++Pup+T74vvfG95H3ifb59NDzsvNW9A/1ovVR9jj3E/i3+Gv5gfrg+yv9Qv44/+7/FgC//3v/zP+EAP8A2QAyAFX/Wf4+/RP85Pqj+VT4Nfea9q/2ePcA+TP7jv04/57/8f7r/TX9IP3Q/WH/ygGvBHkHmAmmClsKoAjQBa8Csf8k/JT2se7n5lbjk+aC7676awUqD+oXrh4YIhYiJCDyHVIcTht1GtsYihV4EM8KwQU7ARv8ivXe7T7m49+W2zrZyNcl1lPUh9Ot1D7X49ke3Mbe8eKz6CDvIPUn+l3+XAKgBvAKWQ7lD2cPng2kC1UK9gkiCggKCQk2BzYFrAPIAk4C4QE3AT4AMf9b/sH9HP1v/En8Of0b/0ABMgP7BJwGuwcYCOgHbgd7BtQE4wJUAQcACf7Y+j/3ZvSH8hrx/e+f7xTwtfAJ8Vrx6/Eb8hXxIu+u7dztqe+B8hf2RfqM/kICLgWHB3IJxgpQC+AKwAhkAy75P+rC2fzMO8hPzA/XQ+ZC+VAPbiU7N09CcEcuSGhEXDtPLqsgWRUUDXQHXQSYA9sDSAOqAJP7pPPZ6HbcydCux93By783wh/J6dJj3X7nMvHz+UUAPQOvA20DpQNlBGwF4wY/CbgM4hCeFI4W0RVkEtMMyQUo/gv3VfE97cbqaeqZ7Jnwl/Rm93b5o/ue/VD+o/0M/Tr+zAFTB+oNcRTyGTYeqyFKJBUlLSMDH8IZ+BOFDbUGbgAt+6/29PKf8Onv4u+J7xHvKO937/Puqe347NLtqe+e8cTzcfYR+bv6pvvu/Oz+wQCyAf4BEAKMAfD/iv0u+yv5OPdS9QD0pvMa9Bz1wvZA+Wr8qP8/AqIDeAM4Acb7PfIP5trbzth93hXqUvgECY0dtjQASjVZEWHgYXZbHk5kPPcpqxhFCF75zO4I6yXtg/Ef9Tj3A/gc95vzCu3k46nZudCPy3zLENDh16vhtuxp+OcD5w3cFKgXfBbOEhAOwQgeAzX+ePtG+5z8ff6xAOEC3AOwAvb/+Pzb+cD13vAq7Uzsy+0v8EnzMPgT/1gGQAyVEB0UGhcYGfUZRxq/GqMb6BxWHm4fnh/aHpQd5BsgGb4UPQ+yCYwEeP93+mT2/PPz8nryaPI88wX17PYY+J/4Nfks+hv7cfsd+5f6d/oT+0f8pf3p/i4AigGHAmEC2ACP/lj8avpq+Cn2D/TY8hLz0fSq9+L67/3AAGQDaAW/BWUD4P2F9e3rGOQ34U/klOvn9JwAjRBKJNo3GkdOUftXGFtJWCxOoz4ALSAbhwmH+XftoOYt5JrkROfr62rxxPWG96b2FfTI8Avtiug+41zeAdx13QriJugf71n3xgAhCusReReUGuIaXhjyE9EOVwk2A7r8G/dj85PxI/HM8XjzzvVn+Cf7Bv6IAPoBFwJSAWIAv/9q/wf/ZP4q/rb/wwNXCbIOVxNLGAweMCO8JYAlBSRnIiAgKhx/FgQQiAl6Azf+D/r59r30X/MR87HzuPS99bf2uver+Gr56fkV+sz5MPm8+NT4aPkr+g37K/x2/av+qv92AN4AZQDR/oz8VfqX+D/3FvYi9Zz0uPSD9fH29Phr+wH+FQDsAPP/2/y5903xPuuG5zvn/ekC72n27ABFDp8cHSpPNnNBkkpiT1hOEEgzPqIxgiLBEWMBEvMc54fdVNfZ1dDY+t0H41znoesF8JnzSfXt9DTzz/AQ7h7rSOgu5pTl/eZl6lnvZvU6/GIDJwruD3UUbxcnGAMWbhGvC6AFCP9+95/vyOjZ477gON+O3zTiGueE7Wr02vpLAM0EowiTC98MVwwaC6AKQAswDBgNxA7tEcoVthj2GUwaoRrIGskZGRcME1kOhAnHBDwA5/u396jz8O8M7W3rAOsr61vrqeu07L3uPfGE84/14Pea+iP90/6g/+X/qf+L/mb8v/le94X1yvO+8ZTvEO7T7dTukPCb8uH0V/eq+Vf7Jfxm/Iz8Xvyx+nb2R/CO6obnL+fv50Pp2uxg9BP/mgrSFVkhGC3qNqg8mD5yPns8GDdhLbwgXhNBBmr5Zu2N48zcEtnG10/YP9qG3WfihuhJ7gjy5/OG9W33APjL9f/xSe+d7ovu6O2w7Y/vi/M5+Lb8UgFBBqMKVA0TDmQNnAuPCBkEo/77+M/zUe9u60joXOYT5kTnVenx61jv4PNI+cb+rAPdB5gLCQ8PEmYU7RXEFh8XAxdUFhsVlxP1ESQQHQ4QDC4KXAh4BqcEHgOlAcL/Tv2O+p73VfTi8PHt5ete6hnpu+gP6qnsRO9+8Uf0QPiO/On/EAJ2AwEEMgNSAUb/N/1n+sL2l/MI8oTxsvB07wnvOvBi8n/0cPae+Az7Rv3w/s7/ZP8u/WP5NfUO8pTwevBc8Z/zRvi7/+YIIBL+Gn8k3y71N8s8uDzTOQU2zTCbKIUdWxFoBZj5E+6H5LPeUtx12/Papdvh3l/kMeq57hjyevU5+R78tfwH+5D4g/ae9C3yqe+q7iDwUvPz9q/6Gf9fBKkJyw0uEOYQRBCNDvcLkwhTBET/uvlQ9Lvvpuxm67Lr3eyi7n/x9fWE++cAcgWyCWEODBNgFskXMhjHGG0ZARkNF6AUMhP3EtYS5xFtECMPEQ6MDDgKfAfnBIMCCABk/br6Jvi59a7zOvJD8Z7wg/BX8d/yPvT89L71cfcS+sj8Cf/yAHwCFAN3AlYBiwABAPL+I/0y+535O/js9ir2e/ai9/T4VPo6/Mv+dgGNA60EYAT8AYD9WPiB9NXyp/JA8zb10PlmAeAKzBSOHjIoXjHgOGg9kz4PPaw5aTSoLFcimhYQC4AAvfbs7TjnruPD4sniCuOf5J7oAu5f8o70xfWK92r5ivku987zUvEO8BjvQu7T7hryv/cK/rQD8QhzDtwTnReCGNgWzBPyDwsLGQUB/5753vRM8F/sZuoY69vttPFD9nf7xABvBVEJtgyMD1gRGxJxEqgSaRK7EZ0RzRKLFHoVpBVtFlgY8xmiGbUXxRVeFGMSzg4OCkAFtwD4++X2R/IM73LtFe2h7THv9PGD9eD4T/sU/QX/OwGyAoQCJQHK/9X+kv2e+9j5WvkF+rD6rfpm+nD6mPpJ+oj5Efly+Xj6lPuq/Cb+RAB7AuMDFQQ5AzgBcP3f90jyNO+U7xTyS/X1+fMBWg2lGTokyCxsNBs7+z5tPsw5wDJTKmMg1hTHCBj+D/ai8CbtYuuW63ftxe9H8QTy1/LP86TzVPGw7abqEekE6HDm2+To5IjnQewh8p/4bP/YBRoL8g6dEQoTkxLOD0sLMgYxAUH8dfeQ83DxL/Et8uTzRPY++W38XP/XAcADyASwBJkD3AHT//39Gf2V/Q//+QC6A0wImA70FM8ZSR1MIHkiRSIoH58aYRZiEmcNGwejAFX7iffl9BLz6fFk8aTxuvI99Hz1RPb79rr30Pe19hn1QPR69PD0/PT69I/1wvY8+NX5aPtu/G38pfvI+hf6Tvle+Jn3B/c79iD1bfTg9Fj2PPhs+i39NQCZArIDqgOlAgMA+Prt8/rsseh86OjrdvE/+NoAXQxFGt4nLjJXOGE74Du1OLMw2yQMGJQM3QKg+nn0h/Gu8TrziPSN9R735fjQ+BH1V+5i5zjiZN5V2hHWu9Na1cjaJeLJ6UPxsPi8/5QFbAnsCkYK9gdmBO3/R/vX97v2o/cN+Rn6ffsh/kcBBAN9Aq0Au/5l/O/44fTQ8YfwZfDN8EvysfWW+oX/kQMHB4sKCQ7ZEHoS+hLQEpsS0xJaE4ATtRJGEQ8QWA9YDhwMsQgUBfsBG//R+zn4L/VD8xPy4PCO77fuxO5j7wXwmvB58a3ywvNs9P70APZ098z4mPnp+QP69fmg+e/43vdq9sj0a/Ok8jjyu/FR8bjxTvNx9Tr3nfg++kD84f2I/qX+E//b/zAAgP/G/er6lfZx8entuO5Q9GX8SwSAC1gTgBxkJVUr4Cy1KnUmGiG4GokTqwyPB9YE/AMCBEgEkwSZBLADBAEN/AP1Ee3Z5YTgI90528TaZNxm4Pvlwevl8GP1OfnX+5z8pPvc+Uz4fPeA92D4UfqC/bEB/gVOCe4K1wpaCbIGCQPE/pP6Kffu9PzzOvR+9Zn3U/pH/c3/PgFkAZYAbP9f/s39Cv5S/6YB4QTVCDYNdRHvFDkXMhjAF9wV1hJvD2QM8wnZB8AFlAN8Aaz/Kf69/C77jvk7+HD37/Zp9gr2W/aL9xP5SvoL+5b7/PsA/Iv7/vrg+mD7NvwB/az9b/5V/9b/GP/S/Mr5Qvfi9W71hvUz9pX3Zfkp+8n8h/5mAAoCLwMJBO8E4gWWBtgGuQZRBm8FfgPj/9L6CfZM9Iz3Qv/PCHkR7RcYHCceGx4bHLwY3xR9EWAPvw7/Di0P1A47Dr8NHA2OC3UIzAMZ/ij43PLd7njsyevx7M/viPOg9vH3cPfu9T70zvLo8enxAPMI9bf34PpC/ksBWgM/BEQEvgO6AkEBov9a/s39MP6M/5EBkAPVBDsFJgXwBJIE7gM4A9QC+QKfA7cENAbcB14JnQq5C6YM/gxsDC8LAApxCYEJ1wkqCmcKfQpGCp4JnQiUB8UGGwZPBWAEwgPkA58EUQWSBYUFdQVMBbYEjQMDAmEA2/6p/Q/9L/3v/Qn/KQAAAVgBPwHgAEIAQ//8/eH8X/xf/Hb8c/yM/Ar98/0f/18AdwEoAl8CVAJSAmwCiAKcArsC6wITAxoDEwM7A8UDkwQ4BVEF8ASTBIYEgQQDBPgC2wErAf4ALwGmAVkCLAMGBOsE4gXMBnUHxQfBB38HPgdtB0IIYwksCmoKegqYCmgKbAnHBzAGKwWWBPkDEAP3AfEAJQB9/7r+vv2v/M77MfvR+rr6/vpq+5f7XvsI++P64PrL+qv6q/rH+uP6GfuV+zD8ifyk/Pv81/3j/rD/VgA1ATYC3wIFAxQDfgMxBMQE+QTkBLIEiARpBDcE3QOMA58DJQSuBMsEmwSMBLkE0QSqBIoEtgQFBQ4FsAQrBMkDnAOEA1gD+wJyAtIBIwFVAHT/tf48/uX9fv0v/U/93f1X/kj+0v11/XD9mf2t/aP9k/2N/Y39k/2Z/ZH9b/0t/c78Y/wN/PL7HPx2/OL8TP2o/fL9OP6T/vn+Nf8o//f+7/4q/3b/if9R/wD/2/7//kn/fv+I/3z/Zv8q/7v+T/44/nr+yf7w/hH/aP/i/zMAMADv/5D/IP+u/lz+Vf6l/jD/vf8TACsALAA3AC0A1v9B/8X+mv6a/ob+af5u/of+aP7o/Sv9cPzV+3D7WPuB+6z7m/tO++b6Z/rG+Rz5rfir+A75qPlL+s/6F/sr+zn7ZPuk+9z7+/sL/B/8RvyB/MD86Pz4/A39Pf2A/dP9Sf7f/lv/gv9x/3r/rf/B/4b/Pv9N/7H/DgAlAAkA1v92/9n+JP6Z/VD9Nf07/Wj9sv30/Qb+5v2u/X/9cP19/Zf9s/3e/Rz+Tv5E/u/9ef0n/Sv9df23/ZL96fwM/Gr7Ffu4+h36jvmG+Rj62PpS+3X7ePuJ+6z7z/vW+677YvsY++r6xvqf+o76vPof+4P7yvsQ/Hn8+Pxg/Zj9qv2r/af9oP2S/XP9Sf0v/Ub9jP3g/SH+R/5k/of+rv7A/p/+T/4B/un9Bv4k/hn+7v3L/cb92v39/Sb+SP5f/n/+t/70/gL/zv51/ij+9/3a/dL97P0V/h/+9v2//a/9yP3X/bT9cf1K/V39if2Y/Xn9VP1S/XX9mP2Z/XT9Rf01/V79sP35/RP+E/43/pr+DP9F/zH//f7h/u3+Dv8z/1b/bP9w/2v/bf9y/1//JP/a/q3+s/7S/tz+u/6A/k/+Qv5j/qL+5/4d/0L/Zf+R/8H/5f/5/wAA9v/S/5n/Z/9W/2j/l//n/1AAsgDhAOMA7QAUASkB7QB0ABgADQAmABQA0v+d/53/r/+o/5T/nv/B/8r/rP+o/wgAvQBhAaoBrQGwAccBwQFyAekAYgAQAPb/9f/v/9v/zf/i/xoAUgBqAG8AjQDOAAQBBQHiANIA6QADAQsBHwFwAfoBfQLFAtYC1ALJAqcCYQIHArIBbgFFAUgBeQG7AdwBwwGEAUoBLwEqASgBIwEiAS8BSQFrAY0BpwG/AecBKAJ1ArICzQLQAs8CywK1AoECOgLwAbcBngGxAeoBKgJOAlECRwJFAkECKgIBAuEB3wH1AQ4CGwIeAh8CJgI5AlwCgwKWAo4ChQKgAuMCJwNKA10DiwPeAyMEHQTOA3QDQAMoA/oCpQJQAiwCPQJiAn8CnALOAhoDbQOyA9wD2gOiA0ED3QKTAloCEQK3AXYBegG5AQACLQJIAmQCeQJ1AlwCSwJQAloCWwJlApkC7gI3A1QDWANjA3kDgQNuA0oDJQMBA+MC3ALzAggD9QK8ApMCowLYAvgC6QLLAsgC3QLmAtACsgK0At4CEgMrAycDIgM8A2wDiwN7A08DNgM9Az4DBQOVAicC7AHmAfIB/AEFAg0CEAISAiUCRgJRAjAC/gHwAQQCAQLBAXQBagGxAf0BBwLXAbEBvQHwASYCRgJGAhwC1wGiAaABxQHiAeAB0wHSAdUBzAG+AcYB5gH8AekBuAGDAVIBFwHXAKwAqAC6AM8A7gArAXcBowGZAX4BiwHEAfMB3QGDAR8B6gDoAOoAwABsACYAHgBFAFwAPAAEAPD/CgA5AGUAnADlACEBNAExAUUBcQGFAWUBLwENAfMAuQBuAE0AawCJAGMAEgDl/+3/7P+//5L/nv/K/9n/1P/3/z4AWAArAAQA8f9Q/8b9jvzq/WoCTAehCIMFYQFLAGACzAN1Abn80/kQ+33+hQDn/1f+3/18/qb+c/2M+zr6F/rU+sL7Zvyw/PT8qf3g/gsAeAAcALn/BADiAI0BkwFjAbgBpQJfAxMD3gHEAKsAXgHHASUB7/9U/+n/+ABMAXkAP/+z/kv/qAADApEC6QF6AKn/6AA2BJgHlwiABvACIADU/jL+V/12/Fv8Qf2F/mj/tf+a/0v/7P6m/pb+qf6//tv+Cf8n/yD/Q/8JAE8BHwK8AaUAEQBXAHsAmv9H/tf9h/4p/9r+Rf6M/nb/r//a/l7+cP8OAQUB8f4b/cX9MwCFAWIAr/4I/0MBgALMAMn93vw5/1QC0AI6AGz9Uv3W/z4CXQK/AKH/GADzAGwAgv4F/Wn9Ff8yAMn/i/7S/S/+Lf/n/6r/b/4u/V/9dP/cAWgC7ADS/y0B5APKBMACRgA2AOoBPwIrAG/+q/9GAikCdP45+2r8cgAJAg7/YPvN+9P/iwIyAWn+Iv5lAPsBYAGEADwBMQITAYv+o/1N/8QAjv9W/cX9CAEMAwABkf2b/XkBPwQ8Agv+DP0MAEYCPADl/J79XQIbBbkB0vtK+oD+xQLlAXz9GPvf/KL/BADU/gb/KgHkAmACcgDg/hf+jv1p/Vz+HQBNARgBNACz/7b/8P+wAD8CcANuAoH/rv0z/x8CWQIz/9388P4fA9sDzv/q+9H8qQAbAgoAzv4lAawD5gGf/SL9FwI5BpkDWP0m/I8C4wi+Btz98/ee+hsBWgM1AJT9d/+wAvoBif2c+hn80/5U/iv7B/om/ScBOAHx/Kr4nPi8/EwBkQIHAL38hvwWANsDvAMoAP39fQDRBG0FdwEN/lL/0QIaA6L/j/0rAOsDegO9/9r+JgMAB1EErP23+4EBrQfQBdv91/m+/gAGXgbP/776efwSASMCuv/r/mQB8wI/ACj8q/uh/gAAQf0A+t/6Ev+EAZX/Cvz0+r/8xv5s/47/KwDCANAAZQGDA4AFHgT5/kn6wPr6/54EUARFACr9iv2c/2QAdf+p/jf/WQD0AE8BRgJVA7gCBgDV/VP//QP2BiIEtv3U+oj/Lgf2CAcCPvl092/9iAM5A27+9fuD/vQBlAE2/jX8KP1t/g3++P2GALAD5AKk/Tn5PfqN/lUAEv46/GX+9gEdAgf/mP0IAJYCUgFT/sj+8QIbBagBxPwJ/TkCQgXdAZj8qvwnAvQFdwNz/kX9KQDUAev/e/5aAW8FXATS/ff4fvtkAisGRwT/AGIAEgGw/8r8dvx3AIMF7AaYA2j+9/r4+t/9jQFWA60Bvf3U+or7Sv/OAhID5P/m+036Q/wLAIMC0wH//uP8bv2x/+MAkv9b/RD9Lf8xAe4Ab/9Z/90ATQFA/0793P76AvYESQL//eD8pf+2Ag4DWAHx/4//Nv94/lH+gf8pAaoBnwB+//X/wAGOApEABf1X+2f9VgHGA6ADdQJ8AeX/GP0c+838xgG/Be4EWADB/Gf9rQBEAjYAHP0M/dYA+gSCBRoCuv3++kL6Ffui/WABxgNzAqD+YvzZ/Z4ANgG+/zz/1AD1ATwAVv0l/YIAtAPfAs3+Cvxn/bAAlAEQ/5f8l/0iAUsDIAKr/57+3/6l/sj97v2Y/yUBdgGYAXkCcAJW/8X6nPkx/sQEbge3BJoAL/8+AN8A1/+//kL/1wD8AXkCQAM9BJoDKAC6++X5F/za/6wB8ADe/w8AhACs/wj+Z/0V/nn+t/05/af+QAGfAuQBygAbARkCbwFz/o775vvl/4gESQZ6BF0BJf+W/XD7dflm+i//YwRWBaEB5v0v/v8AjAFO/jb7mfx7AbEERAPZ//T+RAEzA+cB5P65/TT/kgCV/6z94P1zAG4CpgGY//v+xP9i//j8Rvsp/W8B/QPdAoQARwDtASwCOP9W+176df0DApYEEQQBAoAAOABUAN//1v4R/lP+mv9IAZkC/gJSAgQB5/9s/xj/Gv6i/ED8Z/58As4F1gWjAuz+iv3w/gsBvgEXAcAAgAESAgQB/f4c/hb/NADT/+T+r/9EAsMD0QHF/Tr72PvW/cP+nP4Q/3IA7gAf/3L8wvvS/VQA2AC+/2b/xAAhAp8B2f/f/j3/fP/Z/uD+HwEsBLMEqQH8/Rf91P4WACD/of0V/mIAOQI+AmkB+gCCANv+g/yx+679EwFNA2gDmgIyAvwBFwGo/8j+AP+v/y8AxADYAdUClwL3AB7/Hv7n/fn9eP65/wkB/wBa/8X9D/7g/xMBSQBy/oT9Pv6x/6sA8ADYAIYA3f8G/4H+kv4R/8H/mwCKARgCwQGaAGT/3P4o/+z/uwBTAYABHQFPAIH/Bv/V/rn+y/5q/6MAuwGrAS4AOf48/er9rP8xAXQBYQDL/sf97f31/g4ApQC/AL4A4wApAVsBKgFaACD/OP5b/nv/wQBzAYsBVQHYAPn/DP+7/hz/bv8C/zb+Ev74/hIAUACy/zj/oP98ANUAdAAiAIoATAGOATAB7gA9AY4BGwECABz/6v4x/5j/FwCHAGAAeP+r/hT/ewBGAUcAVP50/Zr+oACxAUwBggBkAMIAogCw/6H+Tv7E/nn/HgDCAD4BFQEeAAD/m/4T/8L/GgBGAK8AMAEgATQAB/96/rv+D//H/iD++P2o/ob/s/8q/63+yP44/4X/uP8+AB4BxgGvAQIBWAAWACwAZQC5ADUBswHsAcMBWwHhAFAAlP/X/oH+0f6F/xMAJgDN/0H/q/4w/v79K/6U/hD/oP9NAOsAKQH5AKwAiwCQAKoAAgG/AY8CzAI1AjgBbgD7/6T/UP8n/0H/fv/A/wkAPwAVAGr/l/48/pz+Xv/3/y8ATACgAB0BUgHqAC4A1P80AO4ATgEcAbIAWAD1/2b/3v6p/rj+sv56/kz+bf7X/lD/m/+T/zb/wf6J/q3+8v4N//L+y/7A/uX+Pv+v//7/AQDe/93/HwCHANQA2AB/AOr/av9M/4X/vP+o/0//6P6h/pf+0P4e/zL/8/6w/sP+Gf9G/wT/c/7l/aH92P2O/oP/QQCGAHUAaQCSANsABwHwAK0AkgDlAIQBCgJMAngCoAJoApYBpABsACcBNwIIA7MDnATBBcEGaAfeB0UImQjUCP8ICgm3CNAHTgZiBF8CjgDq/iz9Yvsw+hP6ffo8+vz4s/c19/v2E/bP9JX09/Xa9/L4P/mc+VT6+vpg+/X7Bf1E/kv/HADuAK0BEQL+AYcBvwDH/+X+Vv4F/rv9hP28/ZD+uf+3AEgBfgGJAZEBugEvAgkDMQRhBVsGGgfCB2MI5ghGCbgJZAocC4gLWQvgCZYFQP1s8j/qQup78zQBGQ02FIMXeRjjFqMSCg6nDLIP5xRWGScctR36HJQX1Qyf/1T0c+266tvqruy37hDvwuzK6N7kb+HS3Wrag9lN3UTlT+5e9XT5MftQ+1T6UPnv+Sf9LwJBB0MLRg5gEM8QyQ7FCl8G5AKNAC3/w/4M/wj/0f3G+zz6BfrR+g78r/3C/+cB1APlBX4I8gr4C1ULZwqLCpELPwz7C0sLpQqpCcEHFAVZAuf/av2Y+r73d/UD9BfzT/KM8evwivCC8Onww/Ht8jj0q/V094D5Ofvp+237afq9+eb57vq2/PH+8QDkAZIBpADm/0v/M/5u/EL6GPcf8bnnPt7n2o3h1O9W/2oL0BP3GbUd6h1SG9IYoBhwGtccUB+0IXsiIR+2FjILwP889unu/+kt6EfpReuH6zfpu+W04i3gV9272qnaDN8u5zLwffc5/L/+ev/o/hP+P/73/8gC8gXvCEYLRAxWC40IhgTu/1r7kfdv9TH1//WI9iT2MvVY9J3zpvKj8bDxBvTz+KP/vgbxDB0RpxLXEc0Pvg1GDHALJgtKC4wLZwtqClAI8gR8ALv72feP9af0bPRb9Db0t/Oz8obx8fBb8Wfyi/PE9Hz21/hl+5H9N/+JAI4B9QGHAY4AgP9Q/oT8DvrT9+H2S/c5+Pr4g/nI+Wf5Q/jX9hL1ZvFY6nzh2ttW3pTpsfmhCUMWth4kIx8kvSJgIPkdzBsLGlYZMRrhGxYcSRi4DyAEbvjk7njoSOXx5DvmZedy5w3neOeX6NToT+er5eLmY+yu9OD8EAMEByUJuwkiCQ0IFgdBBmMF5wSbBWsHzwjyB3EElv/q+gX33PO28Rnx7fFN84T0vPVZ9/r4yvnA+fj5pfv8/nMDkQjyDdMSNBaeF1cXvBXsElEP8QvBCckIUwi0B5kGrgSpAc39APod91f1ZvQJ9C30y/TR9Q33Hfiv+PT4k/nx+tL8yP65AKECKgT6BDMFLwXPBK8D+QF2AJX//P4//nn91fwN/O768/nE+Ur61/ok+3P7jvs++hP27e765m3ibOXy8GMB+BAsHGgjaSg1K4QqPiZBIL0a+xahFbcWwxjkGPcUYA03BDb7G/OM7FzowuYe58fojusB787xg/Lz8KHuwu3S78n0R/uYAbIGYwq2DJUNAQ1lC1AJJAdNBXkEEAV0BjoHVAbNA2UA0Px3+Zv2avQa8xDzp/Sc9+b6cf33/v3/JwHmAokFKwlpDXYRqBTNFt0XrhclFoMTXRBODcQK7gi0B74GqgUyBDACv/9f/cD7F/vQ+kn6mvlj+d35nPpD+w38V/0L/9QAngJrBOEFcwYLBjsFmgQ/BP8D0QO3A3EDqwJiAcT/2P2y+/P5kfm++m38Zf2H/WL9jPxW+dLy3+qq5djmOe+q/JILjhirIdYmDSn/KHwmZiHfGhoV7xHHEXUT4RQHFBsQ8AkQA2H8BfZy8NXs+utO7X/vuvHF8x31APWT81Xy3vJz9SP5Cf3sANoEfQgvC10M0wvXCSUHvARfAxgDLQPSAucB9wBdAJH/q/2e+nT3RfVP9GH0qvV0+Ev8FwA9AwgGyggjC5QMUA3qDXcOoQ5sDkUOLw6VDSIMTQqtCCEHJQXAApkAJ/83/nH90vx3/Cr8ivuH+oj5CflD+SH6dfsc/f/+9QCoAqgDtgP/AvIB8AAsAML/r/+//6D/Nv+s/hb+Kf2g+9r5uPi7+Hj5JPpt+ln6Z/l59izxTOti6E/rFPTj/1YLrxQNHOohvCVBJvMi7xxhFkYRjQ72DUgO8g38C6QI0ATUABj8MfYL8HLriekC6tLrK+6U8H/yefO38xD0HPWx9lb4Dvpg/I//GgMTBskHFggoB1MFCQPKAOT+Tf3g+7P69fmR+RP5Ifj29jf2R/b09sP3a/gF+fP5sft+/vkBMwVrB7kIzgn/CtsL0Qv6CvMJJQlxCJUHiQZYBfMDSgJwAHj+VfwZ+jT4Kff09gX35/a29rj2yfaH9gT28PXR9mb4E/q3+7b9EwD3AV4CMAFO/5j9PfwK+wv6k/m6+Tb6tvoY+0D7Bftw+sL56PgC9wvzUe0M6CHmF+kl8Cr5ZwJBC40TjxrgHnsfoRyyF0UShw1ACtQI7ghjCfAIKAdqBPgAdPx+9sDv5umT5krmROga67rt1++g8Rrz7vPu85bzvPPG9Iz26/gZ/AQAzgM1BqEGcwVmA+8AUf7t+yv6N/nr+PH46fiL+Nj3Avcp9kr1mvSx9AT2VPjy+oT9OwA1A/sF8wfwCBgJhQhUB+8F8wSiBMIE6gTABO8DSwIfAP/9G/wk+gH4VvbG9fr19fVj9fn0YfVU9ij30/fQ+DP6dPtB/Pb8Ef54/5sAIgEmAd4ATwBc//z9XPzW+tD5iPn4+er6Dfzt/Pn8zvtr+RP2OfLL7mntlu9S9fH8mwSwCz4SlBc9GpUZrxYvE9YPtQw8CiMJLgkLCcEHwAXgA9YBef5k+bfz8e6l66rp8+is6bTrfu6E8Wv0v/YV+JH48vi6+aT6TfsP/Kv9HgBuAscDVwSkBHgEFQNlAG/9aPut+t76qPsE/eH+2QBlAiID8wIIAs8A0P9n/7f/ugBMAgMEUAXhBdQFewX7BE0EeAOnAgcCpwF5AVkBFgGiABoAiP+k/jj9mPt9+jL6Rvo++lP6IPu5/JT+OQCcAZoCxALwAbkA8v/J/87/uf+5/w0ArQB8AV8C3QL1Acv+ivmI86HufOwK7ifzp/oKA1EL/RJXGSsdlR3sGp8WOBKcDhYMpgoeCikKZgqDCisK7AhaBloCY/1c+Cr0NfFf74Xu1+6Q8F3zSvZk+G750/kh+qH6UPsJ/Mv81f1x/4wBqQNVBZIGeQevB6AGVgSxAY//H/5Q/XT94f4VAdgCcANTA1EDgANUA50C3AGlAQkCxQK6A/IESgZgB9oHrQcnB7EGiAaSBnIG5wUCBQ8EPgOGAtIBJgGdADwA8v+4/6T/0/88ALMADgFRAZ4B+gE3Ai4C7wGwAZQBiQFzAUMB/wC5AJgAwQA0AcYBUALWAkwDSQMgAnT/xvtb+IX26/Zq+X/9twKwCL0O7RN3FyQZLBm7F+QUARHiDGQJ7AZhBZYEcgTHBCoFEQUJBN8BvP4u++f3PfUa83XxxPCh8QL0CPe2+ar7Cv3w/UT+Hf74/Vz+Xf+3AEQCFgQfBvUHLgnQCSQKHwpLCVUHmQTXAY7/y/2T/Bv8gfyG/b7+7///ALIBtQH9AO//Av9v/kD+hP5M/3cAugHPApYDBgQiBAME2gPBA6kDdwMpA+ICxgLeAg4DMAMvAxoDBAPjApoCNgL5AQ4CRAI0ArIBBAFzANf/m/5i/I/5J/cn9uz2KPlq/HgAQAVdCv0OWRI1FNgUgxQsE9QQ8A0zC/oIEgc3BY8DcwLeAVYBYgD3/kX9c/uf+fn3mvZO9drzjvIw8jLzGvUD94f48PmS+0r9tf6h/xsANwD4/3H/3/6E/pX+G//s/8YAjwFhAkID4APbAzcDUQJaASIAiv7m/MX7Wvtl+5T70vs+/PX8+f0h/yIAzgBMAfEB1wK8A1wEtQTsBAkFCwUDBfUEugQpBF0DkQLNAecA4f/5/k/+uf0S/ZP8jPwD/bz9mf6g/7MAfQG/AY4BHAF/ALn/6P42/rX9Wv0X/eD8l/wn/J/7JfvH+nn6NfoB+tr5tPmd+bj5FPqK+u/6R/u9+2P8Ev2L/bD9qf2//R3+q/4u/4n/1v8sAIYA1gAnAYUB0QHTAXsB7gBfAOH/cP/9/mz+tP38/Hz8Nfzn+3b7JftC+7X7Fvw1/Dn8RvxA/AT8q/tr+1L7Qfsf++b6n/pf+kr6Y/p5+m76cPrE+k77qvu8+9z7TfzM/Oj8ofxx/Kj8Hv2C/b794f3h/ab9Ov3I/HL8Q/xC/H387vx9/Qj+cf6W/mX+9/2J/VH9YP2o/R3+uv6A/2IASgEPApICywLJApwCVwIMAssBlwFvAVgBVAFOASIByABcAP3/q/9e/wb/iP7B/bj8qPvC+u75+/gH+Gv3RvdQ9zX3Avfz9gb3+far9kr2GfY29pv2PPcA+M74qPmp+sf7yPx+/f39ZP6a/nT+B/6w/ar91v37/Rb+S/6e/uz+Ev8V/xf/Pf+f/yUAlgDMANwA8AAHAe0AhQD6/4n/Uf9Y/6X/NADVAEABWQE9AQgBpgAAAC7/fv4o/iz+YP6n/vn+S/+D/4r/YP8X/8L+bv4n/v797P3R/Zb9Uv02/VP9ff17/Tv92/x9/Db8GPw1/I78D/2k/Uj++v6p/zkArwAkAaIBBwInAgQC3QHrASUCSAInAt0BqQGhAaIBhwFWAS4BEwHlAJEAJQDC/3P/MP/w/rf+l/6W/qn+rv6E/ir+u/1Y/Qv9x/x8/CT8x/t7+2D7i/vu+2r86/x4/R3+yv5j/+D/UADBACwBhgHYATICjQLEArsCjAJvAncCgQJoAj0CMwJXAnwCjAKnAu0CLgMWA6ACKgL/AfcBtAE7ARIBrQHyAlAEVQX/BZAGLQe3B/0H8ge+B5QHgQdlBx8HtgZRBhAG6AW5BXcFLQXpBKcEUwTmA1sDsQLqASEBdQDm/0r/hP60/R390fyW/DL8q/s8+wv7DPst+3j7/fuq/FD91P1D/sL+X//8/2YAiQCEAIUAkQCWAKsAFAHvAfUCwQNIBNMEeAXgBbEFFwWfBJ8E9ARJBW4FcQV6Ba0FCgZeBl0G+wV/BTMFFwX4BMUEoQSdBJ8EkwSSBL4EBAU5BVEFbwWvBfsFIgYBBpkFAAVOBJYD4AIyApkBIgHRAJgAaAA/ACkAMwBRAF0AOgD2/7r/oP+e/6L/vP8LAJAAJAGnARsCigLuAkADiQPUAx4EagTRBFsF2gULBu4F0gX4BUgGfQZ2BlAGLwYcBgEGwgVLBaIE7QNNA7gCFAJzAQABugBrAPP/ff9I/0P/Hf+u/iP+wP2Y/Zb9rf3p/VD+y/47/4n/sv/D/9D/2//X/73/l/95/27/e/+p/wEAeADqADoBXAFZAVABawHJAWQCFwO4AzQEgQSRBFYEzQMGAyUCYQH4AAwBpgG2AhAEVwUiBlMGOQY3BlIGRwb7BasFmQWzBa8FcAUZBdkEtwSlBKQEvgT6BDsFRwXnBBcEBwPcAY4AFf+r/aj8Gvy3+z/7xvp4+kH68PmD+Sb57vjK+K/4pPig+JP4ofgO+dj5m/oK+1v7+Pvi/Lb9NP6H/un+TP+G/5z/s//V/+7/AgA4AKIAKAGlAQcCVgKkAvMCKAMVA7gCVgI9AnQCuwLpAg8DPgNXAy8D0wJxAhgCrgEeAXQAw/8W/4H+E/6+/V/98vyc/Hj8cvxp/GH8cvye/M388PwU/T/9WP08/ez8k/xo/G/8bvwf/In7B/vc+t36sPpT+i/6k/pb+y386Pyh/Vb+4/5L/7L/GABLADEABwATAEUAUAAcAOf/7/8lAEcAMAD6/8j/o/9s/wT/c/7e/Wf9E/3S/Jv8YvwU/KH7IvvA+oP6Rfr2+bv5xvkK+lP6hPqq+r/6pvpf+iX6Jfo5+iH66vnp+Uf6vvr7+gz7OfuO+737m/tt+5z7LPyw/NL8q/yK/JL8r/zR/An9Yf3G/SD+ev7g/jn/XP9N/z7/Sf9D//D+U/6w/Ub9HP0m/Xb9Mf5N/3oAWQHCAdgBzgG6AZUBYQE5AUEBggHnAUwClgK3AqwCdAIUAo8B6wAzAIL/7f51/vr9Uf1y/H/7qfoR+qr5TfnS+Db4mPca9672FvYy9TP0e/M681DzlfMU9Or08vXQ9lL3pfcU+LP4YPkK+sj6tvvH/M79n/4r/37/t//w/ywAZQCfAOYAOQGLAdYBHwJdAnMCXQJBAkMCVgJVAkECRwJxAo0CZgIIArIBhwFxAVIBKwEWAR8BKwENAa0AIQCV/yP/xv5z/i7++v3B/Wz9C/3K/Lf8rPyE/Dz87/uv+4/7sPsZ/J38AP0//ZL9D/6H/r7+tP6c/pD+eP5B/gL+5P36/Sn+Vf59/sL+QP/l/3oA1gACASQBVgGJAacBtAHOARQChQIGA3cDywMIBDMEQgQpBPQDvQOLA0sD6wJvAuIBSwGyAC0Ayv93/x7/wP5q/h7+0/2M/Vb9Kf3t/KX8e/yH/Kj8tPy1/OX8Yf0G/p7+Ev9n/5z/qf+U/37/jf/P/y4AiQDNAAEBNgFvAaEByQHsARUCTwKoAikDuQMwBHAEeARcBDUEIAQ0BFwEbgRnBH4EzAQPBeoEVQSmAyADyAKeAs0CWwP+A2AEhQStBOcEBgXtBMIErwS8BOcEKgVhBVQFAwW7BK8ErgRuBPMDhAM9A/UCgALlAUABoQAiANr/rf9Z/87+Tf4N/vD9sf1I/eP8lvxQ/Bv8IPxi/LH89/xd/f39rv42/57/GQCwADsBoAH2AVwC1QJZA9wDSQSIBKoE2wQmBWUFdwV3BZcF3QUjBksGYQaDBrsG+AYXB/kGpgZLBhAG4wWbBTYF6QTZBOoE6QTRBMMEyATEBJoESwTrA4YDHAO1AlkCDQLRAZwBaAE2ARQBEAEeASYBGwEOAREBIgEsASUBEwECAfEA2ACzAIkAagBgAFgANQD+/+P/CgBbAJMAnwC1AA0BlQEFAkACcALEAjgDpwMGBGoE3QRIBZQFwQXeBeIFvwV6BTIF+QS8BGME/QOxA5IDfwNIA+QCdQIfAuIBpAFOAeIAbAD2/4L/HP/U/rT+uP7P/uj+8/7l/sr+xP7p/iX/Tv9P/0H/Rv9e/2//b/9o/2P/Zf91/5//3v8fAGQAtwAVAWMBmgHaATkClwLCAsACzgIHA0ADQAMMA9kCygLSAtcCwQKLAkECAQLZAbwBlQFmAUcBOwEqAQsB6QDMAKgAcQAwAPT/vf+O/2z/X/9h/27/hv+c/5b/cf9U/0//O//q/nj+Jf79/dD9lf2G/cD9Cf4m/iz+R/5j/kn+Ev4e/ob++v41/17/sv8UADkAFwD2/wAAGQAcAA8AAgDu/8T/jv9W/xL/u/5e/g7+y/2U/XT9bf1i/TL94PyG/DL86/vM++X7E/wl/Cb8Ufy2/BD9J/0h/UP9iP20/bj9xv0D/lL+if6r/s3+4v7W/rz+u/7X/u/+8/7w/vH+6v7a/uD+DP89/0j/MP8c/yD/IP8B/83+o/6K/nP+Vv4//jj+Nf4g/uz9ov1f/Tz9Pf1E/Sv99PzK/NH89Pz6/Mj8gvxX/FL8VfxD/Bj84/u7+6v7sfu7+8b78/tc/Of8Vf2B/Yf9nP3J/er97v3m/fD9EP4u/jH+E/7s/eD97v3p/a79X/1C/Wb9hP1a/QH9vfyk/JL8bfxD/B786fuk+3b7evuK+3D7MfsH+wP7Afvl+sv61/oH+z77bfud+9P7Efxd/K784fzh/NH88/xX/cT9AP4Q/iH+R/5s/nj+dP55/pL+u/70/jL/Y/95/3T/Yv9S/z7/Gv/w/tr+5P76/vj+z/6Z/nT+Yv5a/ln+X/5g/lH+Qf5B/kT+Jv7l/bP9t/3Z/eH9wP2e/Yv9af0f/cT8gfxh/Fb8V/xl/Hj8gPyA/I78pvyp/JH8g/yc/Mz89vwc/Vf9mP23/bT9xf0O/mv+l/6L/ob+vf4b/2X/g/+O/6L/vv/G/6v/f/9r/4v/1/8lAFYAaQB2AIkAlwCTAHsAWAA0ABcADAAXAC8ASABgAHcAgQBoAC8A9f/S/7f/hv9G/yj/QP9m/1n/EP/K/rv+0/7c/sD+oP6c/qv+tv67/sb+1P7M/qT+d/5r/on+vP7t/hj/P/9n/4//rP+x/5z/gf99/5z/yv/w/woAJwBLAHQAnAC9AM0AzQDMANoA9QAJAQMB8wD4ABkBPAFNAVcBbQGIAZMBigGEAY8BmQGGAVEBGgH6AOcAzACoAIYAaABKAC0AEgD1/83/pv+b/6b/nP9l/y7/Nf9x/5D/a/86/z3/Y/9s/0b/L/9X/53/xf/G/7v/t//A/8//1v/B/4f/Tf9K/3n/l/+C/17/W/9y/3r/Z/9d/3H/jP+S/4r/hf+D/33/eP93/2T/Mv8C//z+Hv84/zT/Nv9b/4X/gP9O/yH/G/8n/yz/Of9g/5X/vP/T//f/MwBtAIwAmwCqALEApACWAKYA1gADARABEAEeATcBNwEWAfUA7QD4AAIBAAH1AOgA1AC6AKMAiwBpAEYAMgAsACUAFAAOADAAbQCUAI0AdABrAHUAdgBbADcAGwD//9j/sP+T/33/Xf86/yn/I/8L/9f+qv6l/rr+wf6x/qn+wP7j/vf+Av8W/y//P/9H/13/jv/L////IgA4AEIARABNAGIAbQBXACkACwAEAPb/0/+1/7P/w//K/7n/nv+U/6P/tv+7/7H/qf+2/9z/AQAQAAUA9P/l/8//sP+Y/5X/nf+i/6z/yf/l/9T/l/9r/33/qv+s/3v/Wv92/6n/tv+n/7r/AgBCAD0ADAD1/xQAQwBVAEsASQBlAJUAxgDnAPgAAgEOARkBDQHlAL0AtQC+AK0AdQA7ACoAOAA5ACAADwAjAE8AcwCHAJQAngCXAHoATgAcAOr/wv+3/8P/yv+1/5T/g/+F/4n/hP97/3L/av9k/2r/df9z/2H/Vv9k/4T/n/+y/8r/4P/X/6z/gP91/4f/m/+p/8L/6f8EAAIA7f/a/9j/2v/Y/9n/4P/u//3/+v/n/+H//P8qAEgAMAD9//X/IgBMAE8ANwAmAD8AbgCFAHkAVwAmAPz/5P/a/9n/3v/k/+X/4v/f/+L/6f/n/9r/zP/I/87/z//N/9n/6P/q/+H/3P/k/+z/5f/i/wAANwBjAHAAbABqAGYAUwA5ACIACgD2//f/GgBRAHcAdwBrAHAAfwCEAHwAeAB8AHIARQAFAN3/4P/3//j/4P/K/83/3v/c/7P/gv9w/3b/eP9o/1v/a/+U/7D/rv+a/4L/bP9X/0T/Of87/07/d/+t/9X/2v/F/7X/t/+4/6r/mv+Y/6X/sP+v/6r/r//A/9X/4v/h/97/3//k/+3/+/8OACMAJQAaACAAQQBqAIAAeQBvAHAAagBhAGwAgQCQAIwAVQA=\" type=\"audio/wav\" />\n",
       "                    Your browser does not support the audio element.\n",
       "                </audio>\n",
       "              "
      ],
      "text/plain": [
       "<IPython.lib.display.Audio object>"
      ]
     },
     "metadata": {},
     "output_type": "display_data"
    },
    {
     "name": "stdout",
     "output_type": "stream",
     "text": [
      "Duration: 2.660s\n",
      "Language: call_friend\n",
      "subset: ca\n",
      "Transcript: Tu regardera mais qu'ils fasse des gros vent à la tour à ton chum . \n"
     ]
    }
   ],
   "source": [
    "import torch\n",
    "from datasets import Audio\n",
    "import IPython.display as ipd\n",
    "\n",
    "sample_id = 100\n",
    "example = talkbank[sample_id]\n",
    "\n",
    "audio_array = example[\"audio\"][\"array\"]\n",
    "sampling_rate = example[\"audio\"][\"sampling_rate\"]\n",
    "\n",
    "ipd.display(ipd.Audio(audio_array, rate=sampling_rate))\n",
    "\n",
    "print(f\"Duration: {format_seconds(audio_array.shape[0]/sampling_rate)}\")\n",
    "print(f\"Language: {example['full_language']}\")\n",
    "print(f\"subset: {example['subset']}\")\n",
    "print(f\"Transcript: {example['transcript']}\")"
   ]
  },
  {
   "cell_type": "markdown",
   "id": "59df4401",
   "metadata": {},
   "source": [
    "### Preprocessing"
   ]
  },
  {
   "cell_type": "code",
   "execution_count": 6,
   "id": "df4e4b62",
   "metadata": {},
   "outputs": [
    {
     "data": {
      "text/plain": [
       "Dataset({\n",
       "    features: ['audio', 'transcript', 'segment_id', 'audio_len_sec', 'speaker_id'],\n",
       "    num_rows: 14796\n",
       "})"
      ]
     },
     "execution_count": 6,
     "metadata": {},
     "output_type": "execute_result"
    }
   ],
   "source": [
    "# Just clean up unneeded columns, keeping the audio and transcript\n",
    "talkbank = talkbank.remove_columns([\n",
    "    \"language_code\", \"subset\", \"full_language\",\n",
    "    \"switch_id\", \"transcript_filename\", \"orig_file_start\",\n",
    "    \"orig_file_end\", \"channel\"\n",
    "])\n",
    "\n",
    "talkbank"
   ]
  },
  {
   "cell_type": "markdown",
   "id": "38dc4f66",
   "metadata": {},
   "source": [
    "We first trim our dataset to only those utterances whose audio is between 1 second and 30 seconds long, and then we drop any transcripts whose tokenized length exceeds 448 tokens. This two-stage filtering is necessary because Whisper’s encoder was trained on speech segments up to 30 s, and its decoder cannot handle more than 448 output tokens in a single pass."
   ]
  },
  {
   "cell_type": "code",
   "execution_count": 7,
   "id": "ce60f1ac",
   "metadata": {},
   "outputs": [
    {
     "data": {
      "text/plain": [
       "Dataset({\n",
       "    features: ['audio', 'transcript', 'segment_id', 'audio_len_sec', 'speaker_id'],\n",
       "    num_rows: 12737\n",
       "})"
      ]
     },
     "execution_count": 7,
     "metadata": {},
     "output_type": "execute_result"
    }
   ],
   "source": [
    "from transformers import WhisperTokenizer\n",
    "\n",
    "tokenizer = WhisperTokenizer.from_pretrained(model_name_or_path, language=language, task=task)\n",
    "\n",
    "#Filter by duration in seconds (using the pre-computed field)\n",
    "def filter_by_audio_length(example, min_sec=1.0, max_sec=30.0):\n",
    "    return min_sec < float(example[\"audio_len_sec\"]) < max_sec\n",
    "\n",
    "talkbank = talkbank.filter(filter_by_audio_length)  # no input_columns)\n",
    "\n",
    "#Filter out too-long transcripts the same as before:\n",
    "from transformers import WhisperForConditionalGeneration\n",
    "model = WhisperForConditionalGeneration.from_pretrained(model_name_or_path)\n",
    "max_target_tokens = model.config.max_target_positions  # 448 by default\n",
    "\n",
    "def filter_by_label_length(example):\n",
    "    token_ids = tokenizer(example[\"transcript\"]).input_ids\n",
    "    return len(token_ids) <= max_target_tokens\n",
    "\n",
    "# No input_columns means `example` is the full row dict:\n",
    "talkbank = talkbank.filter(filter_by_label_length)\n",
    "\n",
    "talkbank"
   ]
  },
  {
   "cell_type": "markdown",
   "id": "df8c9412",
   "metadata": {},
   "source": [
    "Next, we’ll split our filtered data into training and test sets:"
   ]
  },
  {
   "cell_type": "code",
   "execution_count": 8,
   "id": "1025b2cf",
   "metadata": {},
   "outputs": [
    {
     "data": {
      "text/plain": [
       "DatasetDict({\n",
       "    train: Dataset({\n",
       "        features: ['audio', 'transcript', 'segment_id', 'audio_len_sec', 'speaker_id'],\n",
       "        num_rows: 10189\n",
       "    })\n",
       "    test: Dataset({\n",
       "        features: ['audio', 'transcript', 'segment_id', 'audio_len_sec', 'speaker_id'],\n",
       "        num_rows: 2548\n",
       "    })\n",
       "})"
      ]
     },
     "execution_count": 8,
     "metadata": {},
     "output_type": "execute_result"
    }
   ],
   "source": [
    "# Create an 80/20 train-test split\n",
    "talkbank = talkbank.train_test_split(test_size=0.2, seed=42)\n",
    "talkbank = DatasetDict({\"train\": talkbank[\"train\"], \"test\": talkbank[\"test\"]})\n",
    "\n",
    "talkbank"
   ]
  },
  {
   "cell_type": "markdown",
   "id": "083bed49",
   "metadata": {},
   "source": [
    "The following plot illustrates the distribution of audio durations in both the training and test splits:"
   ]
  },
  {
   "cell_type": "code",
   "execution_count": 9,
   "id": "f99fe26b",
   "metadata": {},
   "outputs": [
    {
     "data": {
      "image/png": "[encoded data removed]",
      "text/plain": [
       "<Figure size 1200x400 with 2 Axes>"
      ]
     },
     "metadata": {},
     "output_type": "display_data"
    }
   ],
   "source": [
    "import matplotlib.pyplot as plt\n",
    "\n",
    "durations = {}\n",
    "for split in [\"train\",\"test\"]:\n",
    "    durations[split] = [\n",
    "        ex[\"audio\"][\"array\"].shape[0] / ex[\"audio\"][\"sampling_rate\"]\n",
    "        for ex in talkbank[split]\n",
    "    ]\n",
    "\n",
    "fig, axes = plt.subplots(1, 2, figsize=(12, 4), sharey=True)\n",
    "for ax, split in zip(axes, [\"train\",\"test\"]):\n",
    "    ax.hist(durations[split], bins=30)\n",
    "    ax.set_title(f\"{split.capitalize()} split\")\n",
    "    ax.set_xlabel(\"Duration (seconds)\")\n",
    "axes[0].set_ylabel(\"Count\")\n",
    "plt.tight_layout()\n",
    "plt.show()"
   ]
  },
  {
   "cell_type": "markdown",
   "id": "f4d8899b",
   "metadata": {},
   "source": [
    "Before we can fine-tune Whisper, we need to transform our raw dataset into exactly the inputs the model expects:  \n",
    "1.  `input_features`: 80-dim log-Mel spectrogram frames.  \n",
    "2.  `labels`: target tokenized transcripts.\n",
    "\n",
    "We initialize Whisper’s feature extractor and tokenizer then define and apply a mapping function to generate model-ready inputs:"
   ]
  },
  {
   "cell_type": "code",
   "execution_count": 10,
   "id": "34d342ba",
   "metadata": {},
   "outputs": [
    {
     "data": {
      "text/plain": [
       "Dataset({\n",
       "    features: ['input_features', 'labels'],\n",
       "    num_rows: 10189\n",
       "})"
      ]
     },
     "execution_count": 10,
     "metadata": {},
     "output_type": "execute_result"
    }
   ],
   "source": [
    "from transformers import WhisperFeatureExtractor\n",
    "feature_extractor = WhisperFeatureExtractor.from_pretrained(model_name_or_path)\n",
    "\n",
    "def prepare_dataset(batch):\n",
    "    audio = batch[\"audio\"]\n",
    "\n",
    "    # compute log-Mel input features from input audio array\n",
    "    batch[\"input_features\"] = feature_extractor(audio[\"array\"], sampling_rate=audio[\"sampling_rate\"]).input_features[0]\n",
    "\n",
    "    # encode target text to label ids\n",
    "    batch[\"labels\"] = tokenizer(batch[\"transcript\"]).input_ids\n",
    "    return batch\n",
    "\n",
    "talkbank = talkbank.map(prepare_dataset, remove_columns=talkbank.column_names[\"train\"], num_proc=1)\n",
    "\n",
    "talkbank['train']"
   ]
  },
  {
   "cell_type": "markdown",
   "id": "3f2c3f23",
   "metadata": {},
   "source": [
    "### Data collator\n",
    "\n",
    "Our custom collator must handle two variable-length sequences:\n",
    "\n",
    "1. **Input features**: the log-Mel spectrogram frames  \n",
    "2. **Labels**: the target token IDs for the transcript\n",
    "\n",
    "Steps:\n",
    "\n",
    "- **Pad inputs and labels separately** to their own maximum lengths.  \n",
    "- **Mask label padding** by replacing pad token IDs with `-100` so the loss function ignores them.  "
   ]
  },
  {
   "cell_type": "code",
   "execution_count": 11,
   "id": "d4e347f2",
   "metadata": {},
   "outputs": [],
   "source": [
    "import torch\n",
    "\n",
    "from dataclasses import dataclass\n",
    "from typing import Any, Dict, List, Union\n",
    "\n",
    "from transformers import WhisperProcessor\n",
    "\n",
    "processor = WhisperProcessor.from_pretrained(model_name_or_path, language=language, task=task)\n",
    "\n",
    "@dataclass\n",
    "class DataCollatorSpeechSeq2SeqWithPadding:\n",
    "    processor: Any\n",
    "\n",
    "    def __call__(self, features: List[Dict[str, Union[List[int], torch.Tensor]]]) -> Dict[str, torch.Tensor]:\n",
    "        # Pad the audio feature arrays\n",
    "        input_feats = [{\"input_features\": f[\"input_features\"]} for f in features]\n",
    "        batch = self.processor.feature_extractor.pad(input_feats, return_tensors=\"pt\")\n",
    "\n",
    "        #Pad the transcript token IDs and mask padding tokens\n",
    "        label_feats = [{\"input_ids\": f[\"labels\"]} for f in features]\n",
    "        labels_padded = self.processor.tokenizer.pad(label_feats, return_tensors=\"pt\")\n",
    "        labels = labels_padded[\"input_ids\"].masked_fill(\n",
    "            labels_padded.attention_mask.ne(1), -100\n",
    "        )\n",
    "\n",
    "        batch[\"labels\"] = labels\n",
    "        return batch\n",
    "\n",
    "data_collator = DataCollatorSpeechSeq2SeqWithPadding(processor=processor)"
   ]
  },
  {
   "cell_type": "markdown",
   "id": "ff0e8f88",
   "metadata": {},
   "source": [
    "### Load the Pretrained Model and Tokenizer\n",
    "\n",
    "We load the `WhisperForConditionalGeneration` model in 16-bit (FP16) precision to reduce GPU memory usage. By specifying `attn_implementation=\"flash_attention_2\"`, we enable FlashAttention 2 for faster, more memory-efficient self-attention (which requires FP16 or BF16). The `device_map=\"auto\"` option automatically distributes model layers across available devices.\n",
    "\n",
    "After loading, we use `torchinfo.summary` to verify the model’s architecture and parameter counts."
   ]
  },
  {
   "cell_type": "code",
   "execution_count": 12,
   "id": "b430c945",
   "metadata": {},
   "outputs": [
    {
     "data": {
      "text/plain": [
       "================================================================================\n",
       "Layer (type:depth-idx)                                  Param #\n",
       "================================================================================\n",
       "WhisperForConditionalGeneration                         --\n",
       "├─WhisperModel: 1-1                                     --\n",
       "│    └─WhisperEncoder: 2-1                              --\n",
       "│    │    └─Conv1d: 3-1                                 246,784\n",
       "│    │    └─Conv1d: 3-2                                 3,146,752\n",
       "│    │    └─Embedding: 3-3                              (1,536,000)\n",
       "│    │    └─ModuleList: 3-4                             302,284,800\n",
       "│    │    └─LayerNorm: 3-5                              2,048\n",
       "│    └─WhisperDecoder: 2-2                              --\n",
       "│    │    └─Embedding: 3-6                              53,109,760\n",
       "│    │    └─WhisperPositionalEmbedding: 3-7             458,752\n",
       "│    │    └─ModuleList: 3-8                             403,070,976\n",
       "│    │    └─LayerNorm: 3-9                              2,048\n",
       "├─Linear: 1-2                                           53,109,760\n",
       "================================================================================\n",
       "Total params: 816,967,680\n",
       "Trainable params: 815,431,680\n",
       "Non-trainable params: 1,536,000\n",
       "================================================================================"
      ]
     },
     "execution_count": 12,
     "metadata": {},
     "output_type": "execute_result"
    }
   ],
   "source": [
    "from transformers import WhisperForConditionalGeneration\n",
    "\n",
    "model = WhisperForConditionalGeneration.from_pretrained(\n",
    "    model_name_or_path,\n",
    "    torch_dtype=torch.float16,\n",
    "    device_map=\"auto\",\n",
    "    attn_implementation=\"flash_attention_2\"\n",
    ")\n",
    "\n",
    "from torchinfo import summary\n",
    "summary(model)"
   ]
  },
  {
   "cell_type": "markdown",
   "id": "3999b504",
   "metadata": {},
   "source": [
    "### Customizing Decoder Behavior\n",
    "\n",
    "Once the model is loaded, you can control how Whisper seeds its decoder and which tokens it forbids by adjusting two configuration fields: `forced_decoder_ids` and `suppress_tokens`.\n",
    "\n",
    "--\n",
    "\n",
    "The `forced_decoder_ids` setting is a list of `[position, token_id]` pairs that Whisper will always emit at those decoder positions. It is typically used to preset the language and task.\n",
    "\n",
    "**Default (English transcription):**\n",
    "\n",
    "| Position | Token ID | Token               | Purpose                       |\n",
    "|----------|----------|---------------------|-------------------------------|\n",
    "| 1        | 50259    | `<\\|en\\|>`            | Force English language        |\n",
    "| 2        | 50359    | `<\\|transcribe\\|>`    | Force transcription mode      |\n",
    "| 3        | 50363    | `<\\|notimestamps\\|>`  | Omit timestamps in the output |\n",
    "\n",
    "To switch to French transcription, generate a new set of prompts via the `WhisperProcessor`:"
   ]
  },
  {
   "cell_type": "code",
   "execution_count": 13,
   "id": "8361a72d",
   "metadata": {},
   "outputs": [
    {
     "name": "stdout",
     "output_type": "stream",
     "text": [
      "French forced_decoder_ids: [(1, 50265), (2, 50359), (3, 50363)]\n",
      " -> Tokens and meanings:\n",
      "  Position 1: 50265 -> <|fr|>\n",
      "  Position 2: 50359 -> <|transcribe|>\n",
      "  Position 3: 50363 -> <|notimestamps|>\n"
     ]
    }
   ],
   "source": [
    "from transformers import WhisperProcessor\n",
    "\n",
    "processor = WhisperProcessor.from_pretrained(\n",
    "    model_name_or_path,\n",
    "    language=language,  # \"French\"\n",
    "    task=task # \"transcribe\"\n",
    ")\n",
    "\n",
    "# Generate French decoder prompts\n",
    "french_forced = processor.get_decoder_prompt_ids(language=language, task=task)\n",
    "print(\"French forced_decoder_ids:\", french_forced)\n",
    "print(\" -> Tokens and meanings:\")\n",
    "for pos, tid in french_forced:\n",
    "    print(f\"  Position {pos}: {tid} -> {tokenizer.convert_ids_to_tokens(tid)}\")"
   ]
  },
  {
   "cell_type": "markdown",
   "id": "0fa6357a",
   "metadata": {},
   "source": [
    "`suppress_tokens` is a list of token IDs that Whisper will never sample (log-probability set to −∞). These include basic punctuation marks and internal markers ensuring clean natural-language output:"
   ]
  },
  {
   "cell_type": "code",
   "execution_count": 14,
   "id": "28fe5d45",
   "metadata": {},
   "outputs": [
    {
     "name": "stdout",
     "output_type": "stream",
     "text": [
      "suppress token ids: [1, 2, 7, 8, 9, 10, 14, 25, 26, 27, 28, 29, 31, 58, 59, 60, 61, 62, 63, 90, 91, 92, 93, 359, 503, 522, 542, 873, 893, 902, 918, 922, 931, 1350, 1853, 1982, 2460, 2627, 3246, 3253, 3268, 3536, 3846, 3961, 4183, 4667, 6585, 6647, 7273, 9061, 9383, 10428, 10929, 11938, 12033, 12331, 12562, 13793, 14157, 14635, 15265, 15618, 16553, 16604, 18362, 18956, 20075, 21675, 22520, 26130, 26161, 26435, 28279, 29464, 31650, 32302, 32470, 36865, 42863, 47425, 49870, 50254, 50258, 50358, 50359, 50360, 50361, 50362]\n",
      "suppress tokens:    ['\"', '#', '(', ')', '*', '+', '/', ':', ';', '<', '=', '>', '@', '[', '\\\\', ']', '^', '_', '`', '{', '|', '}', '~', 'Ġ-', 'Ġ\"', 'Ġ(', 'Ġ[', 'ĠâĻ', '>>', 'Ġ>>', '--', \"Ġ'\", 'ĠâĻª', 'Ġ--', 'Ġ*', 'Ġ:', 'Ġ/', 'Ġ<', 'ãĢĮ', 'ãĢį', 'âĻ', 'Ġ#', 'ĠâĻ«', 'âĻª', 'Ġ]', 'Ġ+', 'Ġ=', 'Ġ-(', 'Ġ)', 'ĠâĻªâĻª', '))', 'Ġ@', 'Ġ{', 'Ġ~', 'Ġ\\\\', 'Ġ>', 'Ġ;', 'Ġ>>>', 'âĻ«', 'Ġ-[', 'Ġ((', 'Ġ(\"', 'ãĢİ', 'ãĢı', 'Ġ|', 'Ġ^', '---', 'ĠãĢĮ', 'ĠâĻ¬', 'âĻªâĻª', 'Ġ_', 'Ġ)))', 'Ġ`', '}}', 'ĠâĻªâĻªâĻª', 'Ġ))', 'Ġ---', 'ĠâĻ©', 'âĻ¬', 'Ġ<<', 'Ġ}', \"Ġ('\", '<|startoftranscript|>', '<|translate|>', '<|transcribe|>', '<|startoflm|>', '<|startofprev|>', '<|nocaptions|>']\n"
     ]
    }
   ],
   "source": [
    "suppressed = model.config.suppress_tokens\n",
    "print(\"suppress token ids:\", suppressed)\n",
    "print(\"suppress tokens:   \", tokenizer.convert_ids_to_tokens(suppressed))"
   ]
  },
  {
   "cell_type": "markdown",
   "id": "ed9134b5",
   "metadata": {},
   "source": [
    "## 8. LoRA fine-tuning\n",
    "\n",
    "We will now integrate **LoRA adapters** into our pre-trained Whisper model via the PEFT library.\n",
    "\n",
    "`LoRA (“Low-Rank Adaptation”)` freezes the original weights and learns only a small, **additive** low-rank update in selected layers. This reduces the number of trainable parameters and accelerates fine-tuning. \n",
    "\n",
    "Moreover, because the LoRA updates are stored separately, you can easily **swap in different adapter checkpoints**, for example, to support new languages or specialized domains while keeping the same underlying base model."
   ]
  },
  {
   "cell_type": "code",
   "execution_count": 15,
   "id": "1929ee48",
   "metadata": {},
   "outputs": [
    {
     "name": "stdout",
     "output_type": "stream",
     "text": [
      "Trainable parameters after applying LoRA:\n",
      "trainable params: 2,359,296 || all params: 766,217,216 || trainable%: 0.3079\n"
     ]
    }
   ],
   "source": [
    "from peft import LoraConfig, get_peft_model, TaskType\n",
    "\n",
    "# Configure LoRA settings for sequence-to-sequence language modeling\n",
    "lora_config = LoraConfig(\n",
    "    r=8,                           # Rank of the low-rank matrices\n",
    "    lora_alpha=32,                  # Scaling factor for LoRA updates\n",
    "    lora_dropout=0.1,               # Dropout probability for LoRA layers\n",
    "    target_modules=[\"q_proj\", \"v_proj\"]  # Target modules in the Transformer to adapt (adjust as needed)\n",
    ")\n",
    "\n",
    "#Some models freeze embeddings by default; this ensures LoRA can adapt them if needed.\n",
    "model.enable_input_require_grads()\n",
    "\n",
    "# Wrap the model with LoRA adapters; this makes only the LoRA parameters trainable.\n",
    "model = get_peft_model(model, lora_config)\n",
    "\n",
    "# Optionally, print trainable parameters to verify that only the LoRA layers are being updated.\n",
    "print(\"Trainable parameters after applying LoRA:\")\n",
    "model.print_trainable_parameters()\n"
   ]
  },
  {
   "cell_type": "markdown",
   "id": "11597955",
   "metadata": {},
   "source": [
    "### Define the evaluation metric (WER)\n",
    "\n",
    "We use the `Word Error Rate (WER)` to evaluate the performance of our speech recognition system.\n",
    "The `compute_metrics` function decodes model predictions and ground-truth labels, computes the WER,\n",
    "and returns it as a percentage."
   ]
  },
  {
   "cell_type": "code",
   "execution_count": 16,
   "id": "a977bdd6",
   "metadata": {},
   "outputs": [],
   "source": [
    "import evaluate\n",
    "\n",
    "# Load the WER metric from the evaluate library\n",
    "metric = evaluate.load(\"wer\")\n",
    "\n",
    "def compute_metrics(pred):\n",
    "    \"\"\"\n",
    "    Compute Word Error Rate (WER) for model predictions.\n",
    "    \n",
    "    Args:\n",
    "        pred: The prediction output from the trainer containing predictions and label_ids.\n",
    "    \n",
    "    Returns:\n",
    "        A dictionary containing the WER score.\n",
    "    \"\"\"\n",
    "    pred_ids = pred.predictions\n",
    "    label_ids = pred.label_ids\n",
    "\n",
    "    # replace -100 with the pad_token_id\n",
    "    label_ids[label_ids == -100] = tokenizer.pad_token_id\n",
    "\n",
    "    # we do not want to group tokens when computing the metrics\n",
    "    pred_str = tokenizer.batch_decode(pred_ids, skip_special_tokens=True)\n",
    "    label_str = tokenizer.batch_decode(label_ids, skip_special_tokens=True)\n",
    "\n",
    "    wer = 100 * metric.compute(predictions=pred_str, references=label_str)\n",
    "\n",
    "    return {\"wer\": wer}"
   ]
  },
  {
   "cell_type": "markdown",
   "id": "8e193d26",
   "metadata": {},
   "source": [
    "### Setup training arguments\n",
    "\n",
    "We use Hugging Face's Seq2SeqTrainingArguments to define our training configuration.\n",
    "These settings include batch size, learning rate, number of steps, evaluation strategy, and logging.\n"
   ]
  },
  {
   "cell_type": "code",
   "execution_count": 17,
   "id": "b344e627",
   "metadata": {},
   "outputs": [],
   "source": [
    "from transformers import Seq2SeqTrainingArguments\n",
    "\n",
    "training_args = Seq2SeqTrainingArguments(\n",
    "    output_dir=\"results\",\n",
    "    per_device_train_batch_size=16,\n",
    "    gradient_accumulation_steps=1,\n",
    "    learning_rate=1e-3,\n",
    "    warmup_steps=50,\n",
    "    num_train_epochs=3,\n",
    "    eval_strategy=\"epoch\",\n",
    "    fp16=True,\n",
    "    per_device_eval_batch_size=16,\n",
    "    generation_max_length=128,\n",
    "    logging_steps=25,\n",
    "    remove_unused_columns=False,  #required for the PeftModel forward\n",
    "    label_names=[\"labels\"],  #same reason as above\n",
    "    report_to=[\"none\"],  # Disable logging\n",
    "    )   "
   ]
  },
  {
   "cell_type": "markdown",
   "id": "60ec12b1",
   "metadata": {},
   "source": [
    "### Initialize the Trainer\n",
    "\n",
    "We instantiate Hugging Face's Seq2SeqTrainer with our model, training arguments, datasets and\n",
    "data collator. "
   ]
  },
  {
   "cell_type": "code",
   "execution_count": 18,
   "id": "58940bc8",
   "metadata": {},
   "outputs": [
    {
     "name": "stderr",
     "output_type": "stream",
     "text": [
      "/tmp/ipykernel_14022/613437022.py:3: FutureWarning: `tokenizer` is deprecated and will be removed in version 5.0.0 for `Seq2SeqTrainer.__init__`. Use `processing_class` instead.\n",
      "  trainer = Seq2SeqTrainer(\n"
     ]
    }
   ],
   "source": [
    "from transformers import Seq2SeqTrainer\n",
    "\n",
    "trainer = Seq2SeqTrainer(\n",
    "    args=training_args,\n",
    "    model=model,\n",
    "    train_dataset=talkbank[\"train\"],\n",
    "    eval_dataset=talkbank[\"test\"],\n",
    "    data_collator=data_collator,\n",
    "    tokenizer=processor.feature_extractor,\n",
    ")"
   ]
  },
  {
   "cell_type": "markdown",
   "id": "3fabf7b8",
   "metadata": {},
   "source": [
    "### Fine-tune the Whisper model\n",
    "\n",
    "We now start the training process. The trainer will fine-tune the model using the LoRA adapters,\n",
    "updating only the LoRA-specific parameters.\n",
    "\n",
    "We are using the medium Whisper model for demonstration, if you want production-quality transcription, increase the size of the Whisper model and fine-tuning it with a larger dataset."
   ]
  },
  {
   "cell_type": "code",
   "execution_count": 19,
   "id": "bc52d4f2",
   "metadata": {},
   "outputs": [
    {
     "name": "stderr",
     "output_type": "stream",
     "text": [
      "Passing a tuple of `past_key_values` is deprecated and will be removed in Transformers v4.43.0. You should pass an instance of `EncoderDecoderCache` instead, e.g. `past_key_values=EncoderDecoderCache.from_legacy_cache(past_key_values)`.\n"
     ]
    },
    {
     "data": {
      "text/html": [
       "\n",
       "    <div>\n",
       "      \n",
       "      <progress value='1911' max='1911' style='width:300px; height:20px; vertical-align: middle;'></progress>\n",
       "      [1911/1911 1:30:58, Epoch 3/3]\n",
       "    </div>\n",
       "    <table border=\"1\" class=\"dataframe\">\n",
       "  <thead>\n",
       " <tr style=\"text-align: left;\">\n",
       "      <th>Epoch</th>\n",
       "      <th>Training Loss</th>\n",
       "      <th>Validation Loss</th>\n",
       "    </tr>\n",
       "  </thead>\n",
       "  <tbody>\n",
       "    <tr>\n",
       "      <td>1</td>\n",
       "      <td>0.870800</td>\n",
       "      <td>0.857296</td>\n",
       "    </tr>\n",
       "    <tr>\n",
       "      <td>2</td>\n",
       "      <td>0.733500</td>\n",
       "      <td>0.796819</td>\n",
       "    </tr>\n",
       "    <tr>\n",
       "      <td>3</td>\n",
       "      <td>0.565500</td>\n",
       "      <td>0.799219</td>\n",
       "    </tr>\n",
       "  </tbody>\n",
       "</table><p>"
      ],
      "text/plain": [
       "<IPython.core.display.HTML object>"
      ]
     },
     "metadata": {},
     "output_type": "display_data"
    },
    {
     "data": {
      "text/plain": [
       "TrainOutput(global_step=1911, training_loss=0.7803384081223197, metrics={'train_runtime': 5463.1376, 'train_samples_per_second': 5.595, 'train_steps_per_second': 0.35, 'total_flos': 3.130067811336192e+19, 'train_loss': 0.7803384081223197, 'epoch': 3.0})"
      ]
     },
     "execution_count": 19,
     "metadata": {},
     "output_type": "execute_result"
    }
   ],
   "source": [
    "trainer.train()"
   ]
  },
  {
   "cell_type": "markdown",
   "id": "a6ab8d0e",
   "metadata": {},
   "source": [
    "**(Optional)** Push the model to a Hugging Face Hub repository of your choice."
   ]
  },
  {
   "cell_type": "code",
   "execution_count": 20,
   "id": "5949b87b",
   "metadata": {},
   "outputs": [
    {
     "data": {
      "application/vnd.jupyter.widget-view+json": {
       "model_id": "1185328d51f04fa191f5e7ce075d59f8",
       "version_major": 2,
       "version_minor": 0
      },
      "text/plain": [
       "adapter_model.safetensors:   0%|          | 0.00/9.48M [00:00<?, ?B/s]"
      ]
     },
     "metadata": {},
     "output_type": "display_data"
    },
    {
     "name": "stdout",
     "output_type": "stream",
     "text": [
      "diabolocom/openai-whisper-medium-LoRA\n"
     ]
    }
   ],
   "source": [
    "peft_model_id = \"diabolocom/\" + f\"{model_name_or_path}-LoRA\".replace(\"/\", \"-\")\n",
    "model.push_to_hub(peft_model_id)\n",
    "print(peft_model_id)"
   ]
  },
  {
   "cell_type": "markdown",
   "id": "bc2b3a31",
   "metadata": {},
   "source": [
    "**(Optional)** If later you need to reload your pushed LoRA model from the Hub:"
   ]
  },
  {
   "cell_type": "code",
   "execution_count": 21,
   "id": "be8debcf",
   "metadata": {},
   "outputs": [
    {
     "data": {
      "application/vnd.jupyter.widget-view+json": {
       "model_id": "273c8bea2ed64d1cbc6411b7ed0ac508",
       "version_major": 2,
       "version_minor": 0
      },
      "text/plain": [
       "adapter_config.json:   0%|          | 0.00/897 [00:00<?, ?B/s]"
      ]
     },
     "metadata": {},
     "output_type": "display_data"
    },
    {
     "data": {
      "application/vnd.jupyter.widget-view+json": {
       "model_id": "bfffb279b2d74a2293e85ed4708a9904",
       "version_major": 2,
       "version_minor": 0
      },
      "text/plain": [
       "adapter_model.safetensors:   0%|          | 0.00/9.48M [00:00<?, ?B/s]"
      ]
     },
     "metadata": {},
     "output_type": "display_data"
    }
   ],
   "source": [
    "from peft import PeftModel, PeftConfig\n",
    "from transformers import WhisperForConditionalGeneration\n",
    "\n",
    "# Load the fine-tuned LoRA model from the Hugging Face Hub\n",
    "peft_config = PeftConfig.from_pretrained(peft_model_id)\n",
    "model = WhisperForConditionalGeneration.from_pretrained(\n",
    "    peft_config.base_model_name_or_path, \n",
    "    torch_dtype=torch.float16,\n",
    "    device_map=\"auto\",\n",
    "    attn_implementation=\"flash_attention_2\",\n",
    ")\n",
    "model = PeftModel.from_pretrained(model, peft_model_id)"
   ]
  },
  {
   "cell_type": "markdown",
   "id": "cd5b2d33",
   "metadata": {},
   "source": [
    "### Evaluation\n",
    "\n",
    "In this step, we compare our PEFT-LoRA–fine-tuned Whisper model against the original “medium” base model by running both on the test split and computing their Word Error Rate (WER)."
   ]
  },
  {
   "cell_type": "code",
   "execution_count": 22,
   "id": "c964315f",
   "metadata": {},
   "outputs": [],
   "source": [
    "from torch.utils.data import DataLoader\n",
    "\n",
    "eval_dataloader = DataLoader(talkbank[\"test\"], batch_size=16, collate_fn=data_collator)\n",
    "\n",
    "# Generate token ids. We prompt the model with language and task information.\n",
    "# The first few tokens of the labels tensor contain this prompt.\n",
    "# e.g., [<|startoftranscript|>, <|fr|>, <|transcribe|>, <|notimestamps|>]\n",
    "# This guides the model to generate in the correct language and format."
   ]
  },
  {
   "cell_type": "code",
   "execution_count": 23,
   "id": "e3d76357",
   "metadata": {},
   "outputs": [
    {
     "name": "stderr",
     "output_type": "stream",
     "text": [
      "Some parameters are on the meta device because they were offloaded to the cpu.\n",
      "Evaluating Fine-tuned Whisper medium with LoRA:   0%|          | 0/160 [00:00<?, ?it/s]Due to a bug fix in https://github.com/huggingface/transformers/pull/28687 transcription using a multilingual Whisper will default to language detection followed by transcription instead of translation to English.This might be a breaking change for your use case. If you want to instead always translate your audio to English, make sure to pass `language='en'`.\n",
      "The attention mask is not set and cannot be inferred from input because pad token is same as eos token. As a consequence, you may observe unexpected behavior. Please pass your input's `attention_mask` to obtain reliable results.\n",
      "Evaluating Fine-tuned Whisper medium with LoRA: 100%|██████████| 160/160 [15:58<00:00,  5.99s/it]\n",
      "Evaluating Whisper medium: 100%|██████████| 160/160 [1:12:13<00:00, 27.08s/it]"
     ]
    },
    {
     "name": "stdout",
     "output_type": "stream",
     "text": [
      "\n",
      "--- Evaluation Results ---\n",
      "                              Model   WER (%)\n",
      "                     Whisper medium 77.376738\n",
      "Fine-tuned Whisper medium with LoRA 45.738979\n",
      "\n",
      "The fine-tuned LoRA model shows an improvement of 31.64 WER points over the base model.\n"
     ]
    },
    {
     "name": "stderr",
     "output_type": "stream",
     "text": [
      "\n"
     ]
    }
   ],
   "source": [
    "import pandas as pd\n",
    "from tqdm import tqdm\n",
    "import numpy as np\n",
    "import torch\n",
    "import gc\n",
    "import evaluate\n",
    "\n",
    "# Load the base model\n",
    "medium_model = WhisperForConditionalGeneration.from_pretrained(\n",
    "    model_name_or_path,\n",
    "    torch_dtype=torch.float16,\n",
    "    device_map=\"auto\",\n",
    "    attn_implementation=\"flash_attention_2\"\n",
    ")\n",
    "\n",
    "def evaluate_model(model, dataloader, tokenizer, model_name=None):\n",
    "    \"\"\"\n",
    "    Evaluates a given model on a dataloader and computes the Word Error Rate (WER).\n",
    "    \"\"\"\n",
    "    model.eval()\n",
    "    metric = evaluate.load(\"wer\")\n",
    "    progress_bar = tqdm(dataloader, desc=f\"Evaluating {model_name}\")\n",
    "\n",
    "    for batch in progress_bar:\n",
    "        input_features = batch[\"input_features\"].to(model.device, dtype=torch.float16)\n",
    "        labels = batch[\"labels\"].to(model.device)\n",
    "\n",
    "        with torch.no_grad():\n",
    "            prompt_ids = labels[:, :4]\n",
    "            generated_tokens = model.generate(\n",
    "                input_features=input_features,\n",
    "                decoder_input_ids=prompt_ids,\n",
    "            ).cpu().numpy()\n",
    "\n",
    "            labels = labels.cpu().numpy()\n",
    "            labels = np.where(labels != -100, labels, tokenizer.pad_token_id)\n",
    "            \n",
    "            decoded_preds = tokenizer.batch_decode(generated_tokens, skip_special_tokens=True)\n",
    "            decoded_labels = tokenizer.batch_decode(labels, skip_special_tokens=True)\n",
    "\n",
    "            metric.add_batch(predictions=decoded_preds, references=decoded_labels)\n",
    "\n",
    "        gc.collect()\n",
    "        torch.cuda.empty_cache()\n",
    "\n",
    "    wer = 100 * metric.compute()\n",
    "    return wer\n",
    "\n",
    "\n",
    "#Evaluate the models to get the WER scores\n",
    "lora_model_wer = evaluate_model(model, eval_dataloader, tokenizer, model_name=\"Fine-tuned Whisper medium with LoRA\")\n",
    "medium_model_wer = evaluate_model(medium_model, eval_dataloader, tokenizer, model_name=\"Whisper medium\")\n",
    "\n",
    "results_data = {\n",
    "    \"Model\": [\"Whisper medium\", \"Fine-tuned Whisper medium with LoRA\"],\n",
    "    \"WER (%)\": [medium_model_wer, lora_model_wer]\n",
    "}\n",
    "\n",
    "results_df = pd.DataFrame(results_data)\n",
    "\n",
    "print(\"\\n--- Evaluation Results ---\")\n",
    "print(results_df.to_string(index=False))\n",
    "improvement = medium_model_wer - lora_model_wer\n",
    "print(f\"\\nThe fine-tuned LoRA model shows an improvement of {improvement:.2f} WER points over the base model.\")"
   ]
  },
  {
   "cell_type": "markdown",
   "id": "a094ab29",
   "metadata": {},
   "source": [
    "## 14. Demonstration with Gradio\n",
    "\n",
    "Here we build a simple web interface so users can speak into their microphone and see live transcription from our PEFT-LoRA Whisper model.\n",
    "\n",
    "This French‐language Whisper-small model includes LoRA adapters to illustrate the fine-tuning process. \n",
    "\n",
    "It isn’t fully trained, if you want production-quality transcription, you should continue fine-tuning with a larger dataset and more training time."
   ]
  },
  {
   "cell_type": "code",
   "execution_count": 31,
   "id": "03106dec",
   "metadata": {},
   "outputs": [
    {
     "name": "stderr",
     "output_type": "stream",
     "text": [
      "Device set to use cuda:0\n"
     ]
    },
    {
     "name": "stdout",
     "output_type": "stream",
     "text": [
      "* Running on local URL:  http://127.0.0.1:7866\n",
      "* Running on public URL: https://9a010c61af36ec9aff.gradio.live\n",
      "\n",
      "This share link expires in 1 week. For free permanent hosting and GPU upgrades, run `gradio deploy` from the terminal in the working directory to deploy to Hugging Face Spaces (https://huggingface.co/spaces)\n"
     ]
    },
    {
     "data": {
      "text/html": [
       "<div><iframe src=\"https://9a010c61af36ec9aff.gradio.live\" width=\"100%\" height=\"500\" allow=\"autoplay; camera; microphone; clipboard-read; clipboard-write;\" frameborder=\"0\" allowfullscreen></iframe></div>"
      ],
      "text/plain": [
       "<IPython.core.display.HTML object>"
      ]
     },
     "metadata": {},
     "output_type": "display_data"
    },
    {
     "data": {
      "text/plain": []
     },
     "execution_count": 31,
     "metadata": {},
     "output_type": "execute_result"
    }
   ],
   "source": [
    "import torch\n",
    "import gradio as gr\n",
    "from transformers import (\n",
    "    AutomaticSpeechRecognitionPipeline,\n",
    "    WhisperForConditionalGeneration,\n",
    "    WhisperTokenizer,\n",
    "    WhisperProcessor,\n",
    ")\n",
    "from peft import PeftModel, PeftConfig\n",
    "\n",
    "peft_config = PeftConfig.from_pretrained(peft_model_id)\n",
    "model = WhisperForConditionalGeneration.from_pretrained(\n",
    "    peft_config.base_model_name_or_path, \n",
    "    torch_dtype=torch.float16,\n",
    "    device_map=\"auto\",\n",
    "    attn_implementation=\"flash_attention_2\",\n",
    ")\n",
    "model = PeftModel.from_pretrained(model, peft_model_id)\n",
    "\n",
    "tokenizer = WhisperTokenizer.from_pretrained(peft_config.base_model_name_or_path, language=language, task=task)\n",
    "processor = WhisperProcessor.from_pretrained(peft_config.base_model_name_or_path, language=language, task=task)\n",
    "feature_extractor = processor.feature_extractor\n",
    "forced_decoder_ids = processor.get_decoder_prompt_ids(language=language, task=task)\n",
    "pipe = AutomaticSpeechRecognitionPipeline(model=model, tokenizer=tokenizer, feature_extractor=feature_extractor)\n",
    "\n",
    "\n",
    "def transcribe(audio):\n",
    "    with torch.cuda.amp.autocast():\n",
    "        text = pipe(audio, generate_kwargs={\"forced_decoder_ids\": forced_decoder_ids}, max_new_tokens=255)[\"text\"]\n",
    "    return text\n",
    "\n",
    "with gr.Blocks(css=\"\"\"\n",
    "    .banner { display:flex; flex-direction:column; align-items:center; margin-bottom:20px; }\n",
    "    .banner img { max-width:250px; width:100%; height:auto; }\n",
    "    body { background-color: #f7f7f7; }\n",
    "\"\"\") as demo:\n",
    "\n",
    "    # Banner\n",
    "    gr.HTML(\"\"\"\n",
    "    <div class=\"banner\">\n",
    "      <img src=\"https://encrypted-tbn0.gstatic.com/images?q=tbn:ANd9GcQramm1zR-10Sgc0aCBuR8FojnJrg0tFUprmQ&s\" \n",
    "           alt=\"Hugging Face Logo\">\n",
    "      <h1>PEFT LoRA Whisper Demo</h1>\n",
    "    </div>\n",
    "    \"\"\")\n",
    "\n",
    "    # Description\n",
    "    gr.Markdown(\n",
    "        \"**French-Québécois Transcription**  \\n\"\n",
    "        \"Speak into your microphone below to see how our LoRA-adapted Whisper (medium) model \"\n",
    "        \"handles Québec phone-call audio.\"\n",
    "        \"\\nThis is for demonstration purpose, for better results, fine-tune a bigger Whisper model\"\n",
    "    )\n",
    "\n",
    "    audio_in = gr.Audio(sources=[\"microphone\"], type=\"filepath\", label=\"Record your audio\")\n",
    "    text_out = gr.Textbox(label=\"Transcription\")\n",
    "\n",
    "    btn = gr.Button(\"Transcribe\")\n",
    "    btn.click(fn=transcribe, inputs=audio_in, outputs=text_out)\n",
    "\n",
    "demo.launch(share=True)"
   ]
  },
  {
   "cell_type": "markdown",
   "id": "74202f96",
   "metadata": {},
   "source": [
    "## References\n",
    "\n",
    "[1] A. Radford, J. W. Kim, T. Xu, G. Brockman, C. McLeavey, and I. Sutskever, “Robust Speech Recognition via Large-Scale Weak Supervision,” Dec. 06, 2022, arXiv: arXiv:2212.04356. doi: 10.48550/arXiv.2212.04356.\n",
    "\n",
    "[2] G. Maheshwari, D. Ivanov, T. Johannet, and K. E. Haddad, “ASR Benchmarking: Need for a More Representative Conversational Dataset,” Sep. 18, 2024, arXiv: arXiv:2409.12042. doi: 10.48550/arXiv.2409.12042.\n",
    "\n",
    "[3] E. J. Hu et al., “LoRA: Low-Rank Adaptation of Large Language Models,” Oct. 16, 2021, arXiv: arXiv:2106.09685. doi: 10.48550/arXiv.2106.09685.\n",
    "\n",
    "[4] T. Dao, “Faster Attention with Better Parallelism and Work Partitioning”, 2023."
   ]
  }
 ],
 "metadata": {
  "kernelspec": {
   "display_name": "ASR",
   "language": "python",
   "name": "python3"
  },
  "language_info": {
   "codemirror_mode": {
    "name": "ipython",
    "version": 3
   },
   "file_extension": ".py",
   "mimetype": "text/x-python",
   "name": "python",
   "nbconvert_exporter": "python",
   "pygments_lexer": "ipython3",
   "version": "3.12.0"
  }
 },
 "nbformat": 4,
 "nbformat_minor": 5
}
